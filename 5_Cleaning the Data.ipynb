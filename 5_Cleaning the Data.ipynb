{
 "cells": [
  {
   "cell_type": "code",
   "execution_count": 77,
   "metadata": {
    "collapsed": true
   },
   "outputs": [],
   "source": [
    "import pandas as pd\n",
    "import numpy as np\n",
    "from tqdm import tqdm"
   ]
  },
  {
   "cell_type": "markdown",
   "metadata": {},
   "source": [
    "# Cleaning the data\n",
    "\n",
    "Now that we have seen what our datset looked like, we have to a little bit of cleaning. There are three main tasks:\n",
    "1. Removing two letter words that make no sense\n",
    "2. Taking care of plural and singular, and merge them\n",
    "3. Merge words that are similar, i.e having the same root."
   ]
  },
  {
   "cell_type": "code",
   "execution_count": 2,
   "metadata": {
    "collapsed": true
   },
   "outputs": [],
   "source": [
    "wordCountYear = pd.read_csv('Data/wordCountYear.csv',index_col=0)\n",
    "wordCountYear.index = pd.to_datetime(wordCountYear.index)"
   ]
  },
  {
   "cell_type": "markdown",
   "metadata": {},
   "source": [
    "### Removing the two letter words\n",
    "\n",
    "We want to keep the \"or\" word so we keep it, but all the other existing two letter words in french we can remove (thanks Scrabble two letter word list)."
   ]
  },
  {
   "cell_type": "code",
   "execution_count": 3,
   "metadata": {
    "collapsed": true
   },
   "outputs": [],
   "source": [
    "dfOR = wordCountYear['or']"
   ]
  },
  {
   "cell_type": "markdown",
   "metadata": {},
   "source": [
    "Now we find the columns where the words are of length one or 2"
   ]
  },
  {
   "cell_type": "code",
   "execution_count": 4,
   "metadata": {
    "collapsed": false
   },
   "outputs": [
    {
     "data": {
      "text/plain": [
       "Index(['ab', 'ac', 'ad', 'ae', 'af', 'ag', 'ah', 'aj', 'al', 'am',\n",
       "       ...\n",
       "       'és', 'ét', 'év', 'îa', 'îe', 'îi', 'îo', 'îr', 'îç', 'îî'],\n",
       "      dtype='object', length=500)"
      ]
     },
     "execution_count": 4,
     "metadata": {},
     "output_type": "execute_result"
    }
   ],
   "source": [
    "wordLength = wordCountYear.columns.map(lambda x: len(str(x)))\n",
    "wordCountYear.columns[wordLength<=2]"
   ]
  },
  {
   "cell_type": "markdown",
   "metadata": {},
   "source": [
    "And now we drop those columns."
   ]
  },
  {
   "cell_type": "code",
   "execution_count": 5,
   "metadata": {
    "collapsed": false
   },
   "outputs": [],
   "source": [
    "wordCountYear = wordCountYear.drop(wordCountYear.columns[wordLength<=2],axis=1)"
   ]
  },
  {
   "cell_type": "markdown",
   "metadata": {},
   "source": [
    "We managed to drop 500 columns, now we can add the or word that we want to keep."
   ]
  },
  {
   "cell_type": "code",
   "execution_count": 6,
   "metadata": {
    "collapsed": true
   },
   "outputs": [],
   "source": [
    "wordCountYear['or'] = dfOR"
   ]
  },
  {
   "cell_type": "markdown",
   "metadata": {},
   "source": [
    "### Merging singular and plural words\n",
    "\n",
    "As we were not satisfied by the NLTK work on the french language, we will implement our own small algorithm to merge similar words together. We start were merging singular and plural words."
   ]
  },
  {
   "cell_type": "code",
   "execution_count": 7,
   "metadata": {
    "collapsed": true
   },
   "outputs": [],
   "source": [
    "#Getting the words\n",
    "columnNames = wordCountYear.columns.map(lambda x: str(x))"
   ]
  },
  {
   "cell_type": "markdown",
   "metadata": {},
   "source": [
    "Let's look up a few of the column titles."
   ]
  },
  {
   "cell_type": "code",
   "execution_count": 10,
   "metadata": {
    "collapsed": false
   },
   "outputs": [
    {
     "data": {
      "text/plain": [
       "array(['académique', 'académiques', 'accent', 'accepte', 'accepter',\n",
       "       'acceptions', 'accepté', 'acceptée', 'accessils', 'accessit',\n",
       "       'accessits', 'accessoires', 'accidens', 'accident', 'accidents',\n",
       "       'acclamations', 'accompagnemens', 'accompagnement', 'accompagnent',\n",
       "       'accompagné'], dtype=object)"
      ]
     },
     "execution_count": 10,
     "metadata": {},
     "output_type": "execute_result"
    }
   ],
   "source": [
    "columnNames[100:120]"
   ]
  },
  {
   "cell_type": "markdown",
   "metadata": {},
   "source": [
    "As we can see, the plural of a word comes normally just after it's singular, we therefore do not have to check all of the other words for plurals."
   ]
  },
  {
   "cell_type": "code",
   "execution_count": 103,
   "metadata": {
    "collapsed": false
   },
   "outputs": [
    {
     "name": "stdout",
     "output_type": "stream",
     "text": [
      "Number of Singular-Plural word pairs :  2684\n"
     ]
    },
    {
     "data": {
      "text/plain": [
       "[['abeille', 'abeilles'],\n",
       " ['abolie', 'abolies'],\n",
       " ['abondante', 'abondantes'],\n",
       " ['abonnement', 'abonnements'],\n",
       " ['abord', 'abords'],\n",
       " ['abraham', 'abrahams'],\n",
       " ['absolu', 'absolus'],\n",
       " ['abyssin', 'abyssins'],\n",
       " ['acacia', 'acacias']]"
      ]
     },
     "execution_count": 103,
     "metadata": {},
     "output_type": "execute_result"
    }
   ],
   "source": [
    "pluralWords = []\n",
    "\n",
    "for i in range(len(columnNames)):\n",
    "    wordPair = []\n",
    "    col = columnNames[i]\n",
    "    colPlur = col+'s'\n",
    "    if (i+5) > (len(columnNames) - 1):\n",
    "        lastEl =  len(columnNames) - 1\n",
    "    else:\n",
    "        lastEl = i+5\n",
    "    for plur in columnNames[i:lastEl]:\n",
    "        if colPlur == plur:\n",
    "            wordPair.append(col)\n",
    "            wordPair.append(plur)\n",
    "            pluralWords.append(wordPair)\n",
    "\n",
    "print('Number of Singular-Plural word pairs : ', len(pluralWords))\n",
    "#We have to remove the jouis and jouiss pairs because, jouis will already be removed with the joui pair\n",
    "pluralWords.pop(1329)\n",
    "pluralWords[1:10]"
   ]
  },
  {
   "cell_type": "markdown",
   "metadata": {},
   "source": [
    "Now that we can see that our algorithm work we have to merge together our dataframe."
   ]
  },
  {
   "cell_type": "code",
   "execution_count": 94,
   "metadata": {
    "collapsed": false
   },
   "outputs": [
    {
     "name": "stderr",
     "output_type": "stream",
     "text": [
      "100%|██████████| 2683/2683 [59:12<00:00,  1.37s/it]\n"
     ]
    }
   ],
   "source": [
    "testMerge = wordCountYear.copy()\n",
    "for i in tqdm(range(len(pluralWords))):\n",
    "    wordSum = wordCountYear[pluralWords[i]].sum(axis=1)\n",
    "    #deleting the columns\n",
    "    testMerge.drop(pluralWords[i],axis=1,inplace=True)\n",
    "    testMerge[pluralWords[i][0]] = wordSum"
   ]
  },
  {
   "cell_type": "code",
   "execution_count": 101,
   "metadata": {
    "collapsed": false
   },
   "outputs": [
    {
     "data": {
      "text/plain": [
       "(2353, 28908)"
      ]
     },
     "execution_count": 101,
     "metadata": {},
     "output_type": "execute_result"
    }
   ],
   "source": [
    "testMerge.shape"
   ]
  },
  {
   "cell_type": "markdown",
   "metadata": {},
   "source": [
    "We can see that our dataset is still very large, but those operations manage to reduce its size without loosing information!\n",
    "\n",
    "We were not able to find a good function to group together words of the same group, so we tried to merge together other plurals (with x at the end, and gender words that we can put together. We also remark that we have to look at words that are longer than 3 letters because otherwise we merge too many words that make no sense."
   ]
  },
  {
   "cell_type": "code",
   "execution_count": 143,
   "metadata": {
    "collapsed": true
   },
   "outputs": [],
   "source": [
    "cleanCol1 = testMerge.columns.map(lambda x: str(x))"
   ]
  },
  {
   "cell_type": "code",
   "execution_count": 137,
   "metadata": {
    "collapsed": false,
    "scrolled": true
   },
   "outputs": [],
   "source": [
    "#Here we try to group together words that are in the text in the masculine and feminine version.\n",
    "family = []\n",
    "for i in range(len(cleanCol1)):\n",
    "    wordFamily = []\n",
    "    col = testMerge.columns.values[i]\n",
    "    if (i+5) > (len(columnNames) - 1):\n",
    "        lastEl =  len(columnNames) - 1\n",
    "    else:\n",
    "        lastEl = i+5\n",
    "    i=0\n",
    "    colPlur = col+'e'\n",
    "    for plur in cleanCol1[i+1:lastEl]:\n",
    "        if (colPlur == plur) & (len(col) > 3):\n",
    "            wordFamily.append(col)\n",
    "            wordFamily.append(plur)\n",
    "            family.append(wordFamily)"
   ]
  },
  {
   "cell_type": "markdown",
   "metadata": {},
   "source": [
    "If we take a look at a few of the data."
   ]
  },
  {
   "cell_type": "code",
   "execution_count": 140,
   "metadata": {
    "collapsed": false
   },
   "outputs": [
    {
     "data": {
      "text/plain": [
       "[['augmenté', 'augmentée'],\n",
       " ['austro-hongrois', 'austro-hongroise'],\n",
       " ['autrich', 'autriche'],\n",
       " ['avis', 'avise'],\n",
       " ['band', 'bande'],\n",
       " ['bard', 'barde'],\n",
       " ['bart', 'barte'],\n",
       " ['barth', 'barthe'],\n",
       " ['benoît', 'benoîte'],\n",
       " ['berlinois', 'berlinoise'],\n",
       " ['bertaud', 'bertaude'],\n",
       " ['black', 'blacke'],\n",
       " ['bossu', 'bossue'],\n",
       " ['boug', 'bouge'],\n",
       " ['bourgeois', 'bourgeoise']]"
      ]
     },
     "execution_count": 140,
     "metadata": {},
     "output_type": "execute_result"
    }
   ],
   "source": [
    "family[20:35]"
   ]
  },
  {
   "cell_type": "markdown",
   "metadata": {},
   "source": [
    "We can see that for some words we have the masculine and feminine version, but other it is just the word that has a spelling mistake, so for spelling purposes we will take the feminine version for the grouping and the final word.\n",
    "\n",
    "Now let's look at plurals finishing with x."
   ]
  },
  {
   "cell_type": "code",
   "execution_count": 145,
   "metadata": {
    "collapsed": false,
    "scrolled": true
   },
   "outputs": [
    {
     "data": {
      "text/plain": [
       "[['dieu', 'dieux'],\n",
       " ['drapeau', 'drapeaux'],\n",
       " ['fceau', 'fceaux'],\n",
       " ['fourneau', 'fourneaux'],\n",
       " ['genou', 'genoux'],\n",
       " ['hameau', 'hameaux'],\n",
       " ['journau', 'journaux'],\n",
       " ['manteau', 'manteaux'],\n",
       " ['marsan', 'marsanx'],\n",
       " ['mati', 'matix'],\n",
       " ['merck', 'merckx'],\n",
       " ['milieu', 'milieux'],\n",
       " ['morceau', 'morceaux'],\n",
       " ['morne', 'mornex'],\n",
       " ['neveu', 'neveux']]"
      ]
     },
     "execution_count": 145,
     "metadata": {},
     "output_type": "execute_result"
    }
   ],
   "source": [
    "#Here we try to group together words that are in the text in the masculine and feminine version.\n",
    "plurX = []\n",
    "for i in range(len(cleanCol1)):\n",
    "    pluxXfamily = []\n",
    "    col = testMerge.columns.values[i]\n",
    "    if (i+5) > (len(columnNames) - 1):\n",
    "        lastEl =  len(columnNames) - 1\n",
    "    else:\n",
    "        lastEl = i+5\n",
    "    i=0\n",
    "    colPlur = col+'x'\n",
    "    for plur in cleanCol1[i+1:lastEl]:\n",
    "        if (colPlur == plur) & (len(col) > 3):\n",
    "            pluxXfamily.append(col)\n",
    "            pluxXfamily.append(plur)\n",
    "            plurX.append(pluxXfamily)\n",
    "    \n",
    "plurX[10:25]"
   ]
  },
  {
   "cell_type": "markdown",
   "metadata": {},
   "source": [
    "Now that we have words that we can merge together , we will work to combine our dataset again!"
   ]
  },
  {
   "cell_type": "code",
   "execution_count": 155,
   "metadata": {
    "collapsed": false
   },
   "outputs": [
    {
     "name": "stderr",
     "output_type": "stream",
     "text": [
      "100%|██████████| 553/553 [11:01<00:00,  1.18s/it]\n"
     ]
    }
   ],
   "source": [
    "cleanData1 = testMerge.copy()\n",
    "for i in tqdm(range(len(family))):\n",
    "    wordSum = cleanData1[family[i]].sum(axis=1)\n",
    "    #deleting the columns\n",
    "    cleanData1.drop(family[i],axis=1,inplace=True)\n",
    "    cleanData1[family[i][1]] = wordSum"
   ]
  },
  {
   "cell_type": "markdown",
   "metadata": {},
   "source": [
    "And now we take care of the plural words with x!"
   ]
  },
  {
   "cell_type": "code",
   "execution_count": 156,
   "metadata": {
    "collapsed": false
   },
   "outputs": [
    {
     "name": "stderr",
     "output_type": "stream",
     "text": [
      "100%|██████████| 44/44 [00:53<00:00,  1.12s/it]\n"
     ]
    }
   ],
   "source": [
    "cleanData2 = cleanData1.copy()\n",
    "for i in tqdm(range(len(plurX))):\n",
    "    wordSum = cleanData2[plurX[i]].sum(axis=1)\n",
    "    #deleting the columns\n",
    "    cleanData2.drop(plurX[i],axis=1,inplace=True)\n",
    "    cleanData2[plurX[i][0]] = wordSum"
   ]
  },
  {
   "cell_type": "markdown",
   "metadata": {},
   "source": [
    "And finally, we save the data!"
   ]
  },
  {
   "cell_type": "code",
   "execution_count": 157,
   "metadata": {
    "collapsed": true
   },
   "outputs": [],
   "source": [
    "cleanData2.to_csv('wordCount_Clean_v1.csv')"
   ]
  },
  {
   "cell_type": "markdown",
   "metadata": {},
   "source": [
    "### Dealing with missing data\n",
    "\n",
    "One of the problem that we have for our dataset is that there are some months were a word count is missing (for some words). If we look at the general trend (for example week-end), we can assume that it is not week-end that has fallen out of interest in the journals. It's possible that we had a problem in the data acquisition. For furutre predition and visualization we are more interested in the general shape of the time series, and not the few months in between where the word is missing, therefore it could be interesting to interpolate the missing data."
   ]
  },
  {
   "cell_type": "code",
   "execution_count": null,
   "metadata": {
    "collapsed": true
   },
   "outputs": [],
   "source": []
  }
 ],
 "metadata": {
  "anaconda-cloud": {},
  "kernelspec": {
   "display_name": "Python [conda root]",
   "language": "python",
   "name": "conda-root-py"
  },
  "language_info": {
   "codemirror_mode": {
    "name": "ipython",
    "version": 3
   },
   "file_extension": ".py",
   "mimetype": "text/x-python",
   "name": "python",
   "nbconvert_exporter": "python",
   "pygments_lexer": "ipython3",
   "version": "3.5.2"
  }
 },
 "nbformat": 4,
 "nbformat_minor": 1
}
