{
 "cells": [
  {
   "cell_type": "code",
   "execution_count": 174,
   "metadata": {
    "collapsed": false
   },
   "outputs": [],
   "source": [
    "import os, glob, string, re, datetime\n",
    "from bs4 import BeautifulSoup\n",
    "from nltk.corpus import stopwords\n",
    "import pandas as pd\n",
    "from collections import Counter\n",
    "from tqdm import tqdm\n",
    "import matplotlib.pyplot as plt\n",
    "import numpy as np\n",
    "%matplotlib inline"
   ]
  },
  {
   "cell_type": "markdown",
   "metadata": {},
   "source": [
    "# Extracting the Data\n",
    "Know that we have learned that we will not be able to process the data using a Spark pipeline, we will implement here a Python pipeline to read the files.\n",
    "\n",
    "## 1 - Extracting the paths\n",
    "\n",
    "We first have to get all the paths containing the XML files."
   ]
  },
  {
   "cell_type": "code",
   "execution_count": 204,
   "metadata": {
    "collapsed": false
   },
   "outputs": [],
   "source": [
    "GDL = 'GDL'\n",
    "JDG = 'JDG'\n",
    "listFiles = []\n",
    "\n",
    "#Go through all the files of both journals\n",
    "for root, dirs, files in os.walk(GDL): \n",
    "    for file in files:\n",
    "        if file.endswith('.xml'):\n",
    "             listFiles.append(os.path.join(root, file))\n",
    "\n",
    "for root, dirs, files in os.walk(JDG): \n",
    "    for file in files:\n",
    "        if file.endswith('.xml'):\n",
    "             listFiles.append(os.path.join(root, file))"
   ]
  },
  {
   "cell_type": "markdown",
   "metadata": {},
   "source": [
    "Now that we have the path for each file in the dataset, we can work through each of them and count words. We will use the method described in **Filtering the Data.ipynb**\n",
    "\n",
    "## 2 - Extracting the word count\n",
    "Know that we have the paths for all text files, we can read the text and then clean it.\n",
    "\n",
    "First we need the stop words."
   ]
  },
  {
   "cell_type": "code",
   "execution_count": 205,
   "metadata": {
    "collapsed": false
   },
   "outputs": [],
   "source": [
    "stop_words = list(stopwords.words('french'))\n",
    "stop_words.extend(['.', ',', '\"', \"'\", '?', '!', ':', ';', '(', ')', '[', ']',\n",
    "                   '{', '}', '<', '>', '...', '-', '•', '/', '%', '«', '»', 'le',\n",
    "                  'les','..','©','plus','*','``','av','p.','fr','cette','a.','v.','b.','d.',\n",
    "                   'c.','e.','f.','i.','g.','h.','i.','j.','l.','m.','n.','o.','q.','r.','q.',\n",
    "                   's.','t.','u.','v.','w.','x.','z.','y.',\"d'un\",\"d'une\",'dm',\"c'est\",\n",
    "                   \"jusqu'au\",'entre','comme','si','di','„','&',\"qu'il\",'_','fd',\"n'a\",'alors',\n",
    "                   \"s'est\",\"n'est\",'cs','dès','où',\"jusqu'à\",'déjà',\"''\",'|','£','®','+','-«',\n",
    "                   '--','.-',\"la\",'---','-le','-n','î','â'])\n",
    "\n",
    "stop_words.extend(['','-.','.,','(,','»,',').','-.','av.','».',\n",
    "                      '....','..','...','.....','()','(r).','—',')-«',\n",
    "                      '\".','-,','(-.',')-.','(©','™','--','---','—•','•-',\n",
    "                  '•','••','•••','•••','—la','ï',\"'la\",'•—',\n",
    "                  '——','û','ê','ë','ù',\"'la\",'•—','——','—le',\"'''\",\"''\",\n",
    "                  \"'\",\"'le\",\"'la\",\"'i\",'-on',\"•'\",\"'-\",\"-'\",\"a'\",\"'de\",\"'la\",\n",
    "                  \"'â\",\"aa\",\"'-\",\"-de\",\"-et\",'-on','-les',',,,', '——•','•-•',\n",
    "                  '„„','•—•','ils','ont','tous','tout','aussi','ans',\n",
    "                  'on','quelque','dont','ainsi','après','aprè',\n",
    "                  'depuis','deux','dont','leurs','leur','une',\n",
    "                  'fait','faite','non','oui','dit','en',' ',\n",
    "                  '  ','   ','    ','     ','      ','       ','        '])\n",
    "stop_words.extend(list(string.ascii_lowercase))"
   ]
  },
  {
   "cell_type": "markdown",
   "metadata": {},
   "source": [
    "And preparing the dictionaries."
   ]
  },
  {
   "cell_type": "code",
   "execution_count": 206,
   "metadata": {
    "collapsed": false
   },
   "outputs": [],
   "source": [
    "listPunct = list(string.punctuation)\n",
    "listPunct.remove(\"'\")\n",
    "listPunct.remove(\"-\")\n",
    "#we do not want to stick together all the words that\n",
    "#have an apostrophe (l'armée should not become larmée)\n",
    "stopDict = dict(zip(listPunct,['']*len(listPunct)))\n",
    "#We want to break apart words with \"'\" and also replace some\n",
    "#random characters that we saw appeared in the text\n",
    "stopDict[\"'\"] = ' '\n",
    "stopDict[\"•\"] = ''"
   ]
  },
  {
   "cell_type": "markdown",
   "metadata": {},
   "source": [
    "We also need a constant which tells us how many of the most frequent words we take."
   ]
  },
  {
   "cell_type": "code",
   "execution_count": 209,
   "metadata": {
    "collapsed": true
   },
   "outputs": [],
   "source": [
    "numMostFreq = 3000"
   ]
  },
  {
   "cell_type": "markdown",
   "metadata": {},
   "source": [
    "And then we can go through the list to extract the data in each file. We also set a counter to see how long it takes.\n",
    "\n",
    "We first extract the data in 43 different dataframes, otherwise the algorithm's complexity is too high and the process is endless."
   ]
  },
  {
   "cell_type": "code",
   "execution_count": 211,
   "metadata": {
    "collapsed": false
   },
   "outputs": [],
   "source": [
    "total = len(listFiles)\n",
    "allText = []"
   ]
  },
  {
   "cell_type": "code",
   "execution_count": null,
   "metadata": {
    "collapsed": false
   },
   "outputs": [
    {
     "name": "stderr",
     "output_type": "stream",
     "text": [
      "3it [00:04,  1.75s/it]"
     ]
    }
   ],
   "source": [
    "for idx, file in tqdm(enumerate(listFiles)):   \n",
    "    #find the date at which the article is published.\n",
    "    date = pd.to_datetime(file[4:11])\n",
    "    #Open the XML\n",
    "    f = open(file,'r')\n",
    "    soupArticle = BeautifulSoup(f,'lxml')\n",
    "    f.close()\n",
    "    \n",
    "    #Extracting the entire text from the XML\n",
    "    Article = []\n",
    "    for ft in soupArticle.find_all('full_text'):\n",
    "        #Here we lower each words and we remove the numbers from the text\n",
    "        Article.append(re.sub(r'\\d+', '', ft.text).lower())\n",
    "\n",
    "    textArticle = ' '.join(Article)  \n",
    "    \n",
    "    #Cleaning and counting\n",
    "    for k,v in stopDict.items():\n",
    "        textArticle = textArticle.replace(k,v)\n",
    "\n",
    "    dictCounter = [wordsDict for wordsDict in textArticle.split(' ') if wordsDict not in stop_words]\n",
    "    countDict = Counter(dictCounter).most_common(numMostFreq)\n",
    "    \n",
    "    #Transofming to a dataframe\n",
    "    df = pd.DataFrame(countDict).transpose()\n",
    "    df.columns = df.loc[0]\n",
    "    df.drop(0,inplace=True)\n",
    "    df.index = [date]\n",
    "    allText.append(df)\n",
    "    \n",
    "    if idx > 0:\n",
    "        if idx%50 == 0:\n",
    "            dfAllText = pd.concat(allText,axis=0)\n",
    "            dfAllText.to_csv('3_Data/Part_'+str(idx)+'.csv')\n",
    "            del allText\n",
    "            allText = []\n",
    "  "
   ]
  },
  {
   "cell_type": "code",
   "execution_count": null,
   "metadata": {
    "collapsed": false
   },
   "outputs": [],
   "source": [
    "dfAllText.to_csv('3_Data/Part_end.csv')"
   ]
  },
  {
   "cell_type": "markdown",
   "metadata": {},
   "source": [
    "Now that we have all the separate dataframes we can implement a function to concatenate them together."
   ]
  },
  {
   "cell_type": "code",
   "execution_count": 27,
   "metadata": {
    "collapsed": false
   },
   "outputs": [],
   "source": [
    "csvFiles = []\n",
    "\n",
    "for root, dirs, files in os.walk('3_Data'): \n",
    "    for file in files:\n",
    "        if file.endswith('.csv'):\n",
    "             csvFiles.append(pd.read_csv(os.path.join(root, file),\n",
    "                                         index_col=0))"
   ]
  },
  {
   "cell_type": "markdown",
   "metadata": {},
   "source": [
    "And now we can concatenate all of the separate DataFrames!"
   ]
  },
  {
   "cell_type": "code",
   "execution_count": 31,
   "metadata": {
    "collapsed": false
   },
   "outputs": [],
   "source": [
    "dfFinal = pd.concat(csvFiles,axis=0)"
   ]
  },
  {
   "cell_type": "markdown",
   "metadata": {},
   "source": [
    "Now we look at the results!"
   ]
  },
  {
   "cell_type": "code",
   "execution_count": 79,
   "metadata": {
    "collapsed": false
   },
   "outputs": [
    {
     "name": "stdout",
     "output_type": "stream",
     "text": [
      "Number of words :  130856\n"
     ]
    }
   ],
   "source": [
    "print('Number of words : ',dfFinal.shape[1])\n",
    "origShape = dfFinal.shape "
   ]
  },
  {
   "cell_type": "markdown",
   "metadata": {},
   "source": [
    "We have a lot of words, as we saw before, we still have a lot of unwanted words and random punctuations signs that we were not able to remove during the cleaning."
   ]
  },
  {
   "cell_type": "code",
   "execution_count": 41,
   "metadata": {
    "collapsed": false
   },
   "outputs": [
    {
     "data": {
      "text/plain": [
       "Index(['''''', ''''''', '''''''', ''''''''', '''''''''''', '''''''„''',\n",
       "       '''''-', '''''ch', '''''•', '''''•'''',\n",
       "       ...\n",
       "       '••••»', '•••••', '••••••', '•••••••', '••••••••', '€', '™'', '™-',\n",
       "       '™™', '™™™™'],\n",
       "      dtype='object', length=130856)"
      ]
     },
     "execution_count": 41,
     "metadata": {},
     "output_type": "execute_result"
    }
   ],
   "source": [
    "dfFinal.columns"
   ]
  },
  {
   "cell_type": "markdown",
   "metadata": {},
   "source": [
    "# First Cleaning Steps\n",
    "\n",
    "We will begin by performing a little bit of rough cleaning before going into NLP cleaning.\n",
    "\n",
    "We begin by getting rid of the columns that have random signs."
   ]
  },
  {
   "cell_type": "code",
   "execution_count": 78,
   "metadata": {
    "collapsed": false
   },
   "outputs": [
    {
     "data": {
      "text/plain": [
       "Index(['''''', ''''''', '''''''', ''''''''', '''''''''''', '''''''„''',\n",
       "       '''''-', '''''ch', '''''•', '''''•'''',\n",
       "       ...\n",
       "       'aaland', 'aalandais', 'aalen', 'aalesund', 'aan', 'aandoz', 'aap',\n",
       "       'aar', 'aar-horn', 'aar-tessin'],\n",
       "      dtype='object', length=1695)"
      ]
     },
     "execution_count": 78,
     "metadata": {},
     "output_type": "execute_result"
    }
   ],
   "source": [
    "dfFinal.columns[0:1695]"
   ]
  },
  {
   "cell_type": "code",
   "execution_count": 80,
   "metadata": {
    "collapsed": false
   },
   "outputs": [
    {
     "data": {
      "text/plain": [
       "(4351, 129161)"
      ]
     },
     "execution_count": 80,
     "metadata": {},
     "output_type": "execute_result"
    }
   ],
   "source": [
    "dfFinal.drop(dfFinal.columns[0:1695],axis=1, inplace=True)\n",
    "dfFinal.shape"
   ]
  },
  {
   "cell_type": "code",
   "execution_count": 118,
   "metadata": {
    "collapsed": false
   },
   "outputs": [
    {
     "data": {
      "text/plain": [
       "Index(['—'', '—'a', '—'le', '—'—', '—-', '—--', '—-a', '—-au', '—-d'après',\n",
       "       '—-dans',\n",
       "       ...\n",
       "       '••••»', '•••••', '••••••', '•••••••', '••••••••', '€', '™'', '™-',\n",
       "       '™™', '™™™™'],\n",
       "      dtype='object', length=451)"
      ]
     },
     "execution_count": 118,
     "metadata": {},
     "output_type": "execute_result"
    }
   ],
   "source": [
    "dfFinal.columns[128710:]"
   ]
  },
  {
   "cell_type": "code",
   "execution_count": 119,
   "metadata": {
    "collapsed": false
   },
   "outputs": [
    {
     "data": {
      "text/plain": [
       "(4351, 128710)"
      ]
     },
     "execution_count": 119,
     "metadata": {},
     "output_type": "execute_result"
    }
   ],
   "source": [
    "dfFinal.drop(dfFinal.columns[128710:],axis=1, inplace=True)\n",
    "dfFinal.shape"
   ]
  },
  {
   "cell_type": "markdown",
   "metadata": {},
   "source": [
    "And we also see that we have two indexes per month, therefore we can groupby."
   ]
  },
  {
   "cell_type": "code",
   "execution_count": 121,
   "metadata": {
    "collapsed": false
   },
   "outputs": [],
   "source": [
    "dfFinal = dfFinal.fillna(0)\n",
    "year = dfFinal.groupby(by='index',level=0)"
   ]
  },
  {
   "cell_type": "markdown",
   "metadata": {
    "collapsed": true
   },
   "source": [
    "And aggregate per year."
   ]
  },
  {
   "cell_type": "code",
   "execution_count": 123,
   "metadata": {
    "collapsed": false
   },
   "outputs": [
    {
     "data": {
      "text/html": [
       "<div>\n",
       "<table border=\"1\" class=\"dataframe\">\n",
       "  <thead>\n",
       "    <tr style=\"text-align: right;\">\n",
       "      <th></th>\n",
       "      <th>aara</th>\n",
       "      <th>aarau</th>\n",
       "      <th>aarberg</th>\n",
       "      <th>aarbourg</th>\n",
       "      <th>aardman</th>\n",
       "      <th>aarg</th>\n",
       "      <th>aargau</th>\n",
       "      <th>aarif</th>\n",
       "      <th>aarmiihle</th>\n",
       "      <th>aarrêté</th>\n",
       "      <th>...</th>\n",
       "      <th>œrebro</th>\n",
       "      <th>œri</th>\n",
       "      <th>œrlikon</th>\n",
       "      <th>œsthéliques</th>\n",
       "      <th>œtpnde</th>\n",
       "      <th>œuf</th>\n",
       "      <th>œufs</th>\n",
       "      <th>œuvr</th>\n",
       "      <th>œuvre</th>\n",
       "      <th>œuvres</th>\n",
       "    </tr>\n",
       "  </thead>\n",
       "  <tbody>\n",
       "    <tr>\n",
       "      <th>1798-02-01</th>\n",
       "      <td>0.0</td>\n",
       "      <td>0.0</td>\n",
       "      <td>0.0</td>\n",
       "      <td>0.0</td>\n",
       "      <td>0.0</td>\n",
       "      <td>0.0</td>\n",
       "      <td>0.0</td>\n",
       "      <td>0.0</td>\n",
       "      <td>0.0</td>\n",
       "      <td>0.0</td>\n",
       "      <td>...</td>\n",
       "      <td>0.0</td>\n",
       "      <td>0.0</td>\n",
       "      <td>0.0</td>\n",
       "      <td>0.0</td>\n",
       "      <td>0.0</td>\n",
       "      <td>0.0</td>\n",
       "      <td>0.0</td>\n",
       "      <td>0.0</td>\n",
       "      <td>0.0</td>\n",
       "      <td>0.0</td>\n",
       "    </tr>\n",
       "    <tr>\n",
       "      <th>1798-03-01</th>\n",
       "      <td>0.0</td>\n",
       "      <td>0.0</td>\n",
       "      <td>0.0</td>\n",
       "      <td>0.0</td>\n",
       "      <td>0.0</td>\n",
       "      <td>0.0</td>\n",
       "      <td>0.0</td>\n",
       "      <td>0.0</td>\n",
       "      <td>0.0</td>\n",
       "      <td>0.0</td>\n",
       "      <td>...</td>\n",
       "      <td>0.0</td>\n",
       "      <td>0.0</td>\n",
       "      <td>0.0</td>\n",
       "      <td>0.0</td>\n",
       "      <td>0.0</td>\n",
       "      <td>0.0</td>\n",
       "      <td>0.0</td>\n",
       "      <td>0.0</td>\n",
       "      <td>0.0</td>\n",
       "      <td>0.0</td>\n",
       "    </tr>\n",
       "    <tr>\n",
       "      <th>1798-04-01</th>\n",
       "      <td>0.0</td>\n",
       "      <td>0.0</td>\n",
       "      <td>0.0</td>\n",
       "      <td>0.0</td>\n",
       "      <td>0.0</td>\n",
       "      <td>0.0</td>\n",
       "      <td>0.0</td>\n",
       "      <td>0.0</td>\n",
       "      <td>0.0</td>\n",
       "      <td>0.0</td>\n",
       "      <td>...</td>\n",
       "      <td>0.0</td>\n",
       "      <td>0.0</td>\n",
       "      <td>0.0</td>\n",
       "      <td>0.0</td>\n",
       "      <td>0.0</td>\n",
       "      <td>0.0</td>\n",
       "      <td>0.0</td>\n",
       "      <td>0.0</td>\n",
       "      <td>0.0</td>\n",
       "      <td>0.0</td>\n",
       "    </tr>\n",
       "    <tr>\n",
       "      <th>1798-05-01</th>\n",
       "      <td>0.0</td>\n",
       "      <td>0.0</td>\n",
       "      <td>0.0</td>\n",
       "      <td>0.0</td>\n",
       "      <td>0.0</td>\n",
       "      <td>0.0</td>\n",
       "      <td>0.0</td>\n",
       "      <td>0.0</td>\n",
       "      <td>0.0</td>\n",
       "      <td>0.0</td>\n",
       "      <td>...</td>\n",
       "      <td>0.0</td>\n",
       "      <td>0.0</td>\n",
       "      <td>0.0</td>\n",
       "      <td>0.0</td>\n",
       "      <td>0.0</td>\n",
       "      <td>0.0</td>\n",
       "      <td>0.0</td>\n",
       "      <td>0.0</td>\n",
       "      <td>0.0</td>\n",
       "      <td>0.0</td>\n",
       "    </tr>\n",
       "    <tr>\n",
       "      <th>1798-06-01</th>\n",
       "      <td>0.0</td>\n",
       "      <td>0.0</td>\n",
       "      <td>0.0</td>\n",
       "      <td>0.0</td>\n",
       "      <td>0.0</td>\n",
       "      <td>0.0</td>\n",
       "      <td>0.0</td>\n",
       "      <td>0.0</td>\n",
       "      <td>0.0</td>\n",
       "      <td>0.0</td>\n",
       "      <td>...</td>\n",
       "      <td>0.0</td>\n",
       "      <td>0.0</td>\n",
       "      <td>0.0</td>\n",
       "      <td>0.0</td>\n",
       "      <td>0.0</td>\n",
       "      <td>0.0</td>\n",
       "      <td>0.0</td>\n",
       "      <td>0.0</td>\n",
       "      <td>0.0</td>\n",
       "      <td>0.0</td>\n",
       "    </tr>\n",
       "  </tbody>\n",
       "</table>\n",
       "<p>5 rows × 128710 columns</p>\n",
       "</div>"
      ],
      "text/plain": [
       "            aara  aarau  aarberg  aarbourg  aardman  aarg  aargau  aarif  \\\n",
       "1798-02-01   0.0    0.0      0.0       0.0      0.0   0.0     0.0    0.0   \n",
       "1798-03-01   0.0    0.0      0.0       0.0      0.0   0.0     0.0    0.0   \n",
       "1798-04-01   0.0    0.0      0.0       0.0      0.0   0.0     0.0    0.0   \n",
       "1798-05-01   0.0    0.0      0.0       0.0      0.0   0.0     0.0    0.0   \n",
       "1798-06-01   0.0    0.0      0.0       0.0      0.0   0.0     0.0    0.0   \n",
       "\n",
       "            aarmiihle  aarrêté   ...    œrebro  œri  œrlikon  œsthéliques  \\\n",
       "1798-02-01        0.0      0.0   ...       0.0  0.0      0.0          0.0   \n",
       "1798-03-01        0.0      0.0   ...       0.0  0.0      0.0          0.0   \n",
       "1798-04-01        0.0      0.0   ...       0.0  0.0      0.0          0.0   \n",
       "1798-05-01        0.0      0.0   ...       0.0  0.0      0.0          0.0   \n",
       "1798-06-01        0.0      0.0   ...       0.0  0.0      0.0          0.0   \n",
       "\n",
       "            œtpnde  œuf  œufs  œuvr  œuvre  œuvres  \n",
       "1798-02-01     0.0  0.0   0.0   0.0    0.0     0.0  \n",
       "1798-03-01     0.0  0.0   0.0   0.0    0.0     0.0  \n",
       "1798-04-01     0.0  0.0   0.0   0.0    0.0     0.0  \n",
       "1798-05-01     0.0  0.0   0.0   0.0    0.0     0.0  \n",
       "1798-06-01     0.0  0.0   0.0   0.0    0.0     0.0  \n",
       "\n",
       "[5 rows x 128710 columns]"
      ]
     },
     "execution_count": 123,
     "metadata": {},
     "output_type": "execute_result"
    }
   ],
   "source": [
    "yearData = year.agg(sum)\n",
    "yearData.head()"
   ]
  },
  {
   "cell_type": "markdown",
   "metadata": {},
   "source": [
    "Setting the index in datetime to be able to plot dates."
   ]
  },
  {
   "cell_type": "code",
   "execution_count": 136,
   "metadata": {
    "collapsed": false
   },
   "outputs": [],
   "source": [
    "yearData.index = pd.to_datetime(yearData.index)\n",
    "yearIndex = yearData.index"
   ]
  },
  {
   "cell_type": "code",
   "execution_count": 133,
   "metadata": {
    "collapsed": false
   },
   "outputs": [],
   "source": [
    "sumYear = yearData.sum(axis=1)"
   ]
  },
  {
   "cell_type": "code",
   "execution_count": 143,
   "metadata": {
    "collapsed": false
   },
   "outputs": [
    {
     "data": {
      "text/plain": [
       "[<matplotlib.lines.Line2D at 0x1144b4588>]"
      ]
     },
     "execution_count": 143,
     "metadata": {},
     "output_type": "execute_result"
    },
    {
     "data": {
      "image/png": "[encoded data removed]",
      "text/plain": [
       "<matplotlib.figure.Figure at 0x113b085c0>"
      ]
     },
     "metadata": {},
     "output_type": "display_data"
    }
   ],
   "source": [
    "plt.plot_date(yearIndex,sumYear.values)"
   ]
  },
  {
   "cell_type": "code",
   "execution_count": 161,
   "metadata": {
    "collapsed": false
   },
   "outputs": [
    {
     "data": {
      "text/plain": [
       "[<matplotlib.lines.Line2D at 0x11f219ba8>]"
      ]
     },
     "execution_count": 161,
     "metadata": {},
     "output_type": "execute_result"
    },
    {
     "data": {
      "image/png": "[encoded data removed]",
      "text/plain": [
       "<matplotlib.figure.Figure at 0x111553f60>"
      ]
     },
     "metadata": {},
     "output_type": "display_data"
    }
   ],
   "source": [
    "plt.plot_date(yearIndex[1500:1550],yearData['hiver'].values[1500:1550])"
   ]
  },
  {
   "cell_type": "code",
   "execution_count": 190,
   "metadata": {
    "collapsed": false
   },
   "outputs": [
    {
     "data": {
      "text/plain": [
       "[<matplotlib.lines.Line2D at 0x11f8c1e48>]"
      ]
     },
     "execution_count": 190,
     "metadata": {},
     "output_type": "execute_result"
    },
    {
     "data": {
      "image/png": "[encoded data removed]",
      "text/plain": [
       "<matplotlib.figure.Figure at 0x12a7cfcc0>"
      ]
     },
     "metadata": {},
     "output_type": "display_data"
    }
   ],
   "source": [
    "plt.plot_date(yearIndex,yearData['cri'].values)"
   ]
  },
  {
   "cell_type": "code",
   "execution_count": 191,
   "metadata": {
    "collapsed": true
   },
   "outputs": [],
   "source": [
    "yearData.to_csv('3kwordCountYear.csv')"
   ]
  },
  {
   "cell_type": "code",
   "execution_count": null,
   "metadata": {
    "collapsed": true
   },
   "outputs": [],
   "source": []
  }
 ],
 "metadata": {
  "anaconda-cloud": {},
  "kernelspec": {
   "display_name": "Python [conda root]",
   "language": "python",
   "name": "conda-root-py"
  },
  "language_info": {
   "codemirror_mode": {
    "name": "ipython",
    "version": 3
   },
   "file_extension": ".py",
   "mimetype": "text/x-python",
   "name": "python",
   "nbconvert_exporter": "python",
   "pygments_lexer": "ipython3",
   "version": "3.5.2"
  }
 },
 "nbformat": 4,
 "nbformat_minor": 2
}
