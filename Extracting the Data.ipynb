{
 "cells": [
  {
   "cell_type": "markdown",
   "metadata": {},
   "source": [
    "# Extracting the Data\n",
    "Know that we have learned that we will not be able to process the data using a Spark pipeline, we will implement here a Python pipeline to read the files.\n",
    "\n",
    "## 1 - Extracting the paths\n",
    "\n",
    "We first have to get all the paths containing the XML files."
   ]
  },
  {
   "cell_type": "code",
   "execution_count": 4,
   "metadata": {
    "collapsed": true
   },
   "outputs": [],
   "source": [
    "import os\n",
    "from bs4 import BeautifulSoup"
   ]
  },
  {
   "cell_type": "code",
   "execution_count": 5,
   "metadata": {
    "collapsed": false
   },
   "outputs": [
    {
     "data": {
      "text/plain": [
       "['01.xml', '02.xml', '03.xml', '04.xml', '05.xml', '06.xml', '07.xml']"
      ]
     },
     "execution_count": 5,
     "metadata": {},
     "output_type": "execute_result"
    }
   ],
   "source": [
    "os.listdir('1996')"
   ]
  },
  {
   "cell_type": "markdown",
   "metadata": {},
   "source": [
    "## 2 - Extracting the word count\n",
    "Know that we have the paths for all text files, we can read the text and then clean it.\n",
    "\n",
    "To parse the XML files we will use BeautifulSoup."
   ]
  },
  {
   "cell_type": "code",
   "execution_count": 19,
   "metadata": {
    "collapsed": false
   },
   "outputs": [],
   "source": [
    "article  = open('04.xml','r')\n",
    "soupArticle = BeautifulSoup(article,'lxml')\n",
    "article.close()"
   ]
  },
  {
   "cell_type": "markdown",
   "metadata": {},
   "source": [
    "In the XML, as we discovered in the previous part we are only interested in three fields, full_text, suspicious_char_count and issue_date."
   ]
  },
  {
   "cell_type": "code",
   "execution_count": 20,
   "metadata": {
    "collapsed": false
   },
   "outputs": [
    {
     "data": {
      "text/plain": [
       "'N. ° 1 5. SECONDE ANNEE JEUDI 5 AVRIL 1827. % -v > 4 i * 4 ^ 4. *** i % vfc\"v 4- »\\'mm 1 DES LETTRES, DES ARTS ET DE L\\'INDUSTRIE. Ce Journal parait tous les jeudis. — PRIX pour Genève : Pour trois mois 5 fr. ; pour six mois 9 fr. ; pour un an 16 fr. Pour l\\'Etranger : Pour fr. ; pour unan 2 ûfr. — On s\\'abonne chez BARBEZAT et DELARUE, libraires ëditeurs, rue du Rhône, n. \" 177 ; trois mois fi fr. ; pour six mois 11 A PARIS : rue dés\\'grands Augustins, n. \" 18. Et au dehors, chez MM. les Directeurs des postes, et principaux libraires. — Tout ce qui concerne la rédaction doit être adressé franc, de port aux libraires éditeurs. ÉPHÉMÉRIDES. i 473, Avril 1-4. Peste commence à paroître dans la ville. Le Conseil général commet quelques-uns pour bâtir un hôpital pour les pestiférés.'"
      ]
     },
     "execution_count": 20,
     "metadata": {},
     "output_type": "execute_result"
    }
   ],
   "source": [
    "soupArticle.full_text.text"
   ]
  },
  {
   "cell_type": "code",
   "execution_count": 21,
   "metadata": {
    "collapsed": false
   },
   "outputs": [
    {
     "data": {
      "text/plain": [
       "'0'"
      ]
     },
     "execution_count": 21,
     "metadata": {},
     "output_type": "execute_result"
    }
   ],
   "source": [
    "soupArticle.suspicious_chars_count. text"
   ]
  },
  {
   "cell_type": "code",
   "execution_count": 22,
   "metadata": {
    "collapsed": false
   },
   "outputs": [
    {
     "data": {
      "text/plain": [
       "'05/04/1827'"
      ]
     },
     "execution_count": 22,
     "metadata": {},
     "output_type": "execute_result"
    }
   ],
   "source": [
    "soupArticle.issue_date.text"
   ]
  },
  {
   "cell_type": "code",
   "execution_count": 23,
   "metadata": {
    "collapsed": false
   },
   "outputs": [],
   "source": [
    "tot = 0\n",
    "for art in soupArticle.find_all('suspicious_chars_count'):\n",
    "    tot = tot + int(art.text)"
   ]
  },
  {
   "cell_type": "code",
   "execution_count": 24,
   "metadata": {
    "collapsed": false
   },
   "outputs": [
    {
     "data": {
      "text/plain": [
       "0"
      ]
     },
     "execution_count": 24,
     "metadata": {},
     "output_type": "execute_result"
    }
   ],
   "source": [
    "tot"
   ]
  },
  {
   "cell_type": "code",
   "execution_count": null,
   "metadata": {
    "collapsed": true
   },
   "outputs": [],
   "source": []
  }
 ],
 "metadata": {
  "anaconda-cloud": {},
  "kernelspec": {
   "display_name": "Python [conda root]",
   "language": "python",
   "name": "conda-root-py"
  },
  "language_info": {
   "codemirror_mode": {
    "name": "ipython",
    "version": 3
   },
   "file_extension": ".py",
   "mimetype": "text/x-python",
   "name": "python",
   "nbconvert_exporter": "python",
   "pygments_lexer": "ipython3",
   "version": "3.5.2"
  }
 },
 "nbformat": 4,
 "nbformat_minor": 2
}
