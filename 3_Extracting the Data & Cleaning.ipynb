{
 "cells": [
  {
   "cell_type": "code",
   "execution_count": 1,
   "metadata": {
    "collapsed": false
   },
   "outputs": [],
   "source": [
    "import os, glob, string, re, datetime\n",
    "from bs4 import BeautifulSoup\n",
    "from nltk.corpus import stopwords\n",
    "import pandas as pd\n",
    "from collections import Counter\n",
    "from tqdm import tqdm\n",
    "import matplotlib.pyplot as plt\n",
    "import numpy as np\n",
    "import seaborn as sns\n",
    "plt.style.use('ggplot')\n",
    "%matplotlib inline"
   ]
  },
  {
   "cell_type": "markdown",
   "metadata": {},
   "source": [
    "# Extracting the Data\n",
    "Know that we have learned that we will not be able to process the data using a Spark pipeline, we will implement here a Python pipeline to read the files.\n",
    "\n",
    "## 1 - Extracting the paths\n",
    "\n",
    "We first have to get all the paths containing the XML files."
   ]
  },
  {
   "cell_type": "code",
   "execution_count": 2,
   "metadata": {
    "collapsed": false
   },
   "outputs": [],
   "source": [
    "GDL = 'GDL'\n",
    "JDG = 'JDG'\n",
    "listFiles = []\n",
    "\n",
    "#Go through all the files of both journals\n",
    "for root, dirs, files in os.walk(GDL): \n",
    "    for file in files:\n",
    "        if file.endswith('.xml'):\n",
    "             listFiles.append(os.path.join(root, file))\n",
    "\n",
    "for root, dirs, files in os.walk(JDG): \n",
    "    for file in files:\n",
    "        if file.endswith('.xml'):\n",
    "             listFiles.append(os.path.join(root, file))"
   ]
  },
  {
   "cell_type": "markdown",
   "metadata": {},
   "source": [
    "Now that we have the path for each file in the dataset, we can work through each of them and count words. We will use the method described in **Filtering the Data.ipynb**\n",
    "\n",
    "## 2 - Extracting the word count\n",
    "Know that we have the paths for all text files, we can read the text and then clean it.\n",
    "\n",
    "First we need the stop words."
   ]
  },
  {
   "cell_type": "code",
   "execution_count": 3,
   "metadata": {
    "collapsed": false
   },
   "outputs": [],
   "source": [
    "stop_words = list(stopwords.words('french'))\n",
    "stop_words.extend(['.', ',', '\"', \"'\", '?', '!', ':', ';', '(', ')', '[', ']',\n",
    "                   '{', '}', '<', '>', '...', '-', '•', '/', '%', '«', '»', 'le',\n",
    "                  'les','..','©','plus','*','``','av','p.','fr','cette','a.','v.','b.','d.',\n",
    "                   'c.','e.','f.','i.','g.','h.','i.','j.','l.','m.','n.','o.','q.','r.','q.',\n",
    "                   's.','t.','u.','v.','w.','x.','z.','y.',\"d'un\",\"d'une\",'dm',\"c'est\",\n",
    "                   \"jusqu'au\",'entre','comme','si','di','„','&',\"qu'il\",'_','fd',\"n'a\",'alors',\n",
    "                   \"s'est\",\"n'est\",'cs','dès','où',\"jusqu'à\",'déjà',\"''\",'|','£','®','+','-«',\n",
    "                   '--','.-',\"la\",'---','-le','-n','î','â'])\n",
    "\n",
    "stop_words.extend(['','-.','.,','(,','»,',').','-.','av.','».',\n",
    "                      '....','..','...','.....','()','(r).','—',')-«',\n",
    "                      '\".','-,','(-.',')-.','(©','™','--','---','—•','•-',\n",
    "                  '•','••','•••','•••','—la','ï',\"'la\",'•—',\n",
    "                  '——','û','ê','ë','ù',\"'la\",'•—','——','—le',\"'''\",\"''\",\n",
    "                  \"'\",\"'le\",\"'la\",\"'i\",'-on',\"•'\",\"'-\",\"-'\",\"a'\",\"'de\",\"'la\",\n",
    "                  \"'â\",\"aa\",\"'-\",\"-de\",\"-et\",'-on','-les',',,,', '——•','•-•',\n",
    "                  '„„','•—•','ils','ont','tous','tout','aussi','ans',\n",
    "                  'on','quelque','dont','ainsi','après','aprè',\n",
    "                  'depuis','deux','dont','leurs','leur','une',\n",
    "                  'fait','faite','non','oui','dit','en',' ',\n",
    "                  '  ','   ','    ','     ','      ','       ','        '])\n",
    "stop_words.extend(list(string.ascii_lowercase))"
   ]
  },
  {
   "cell_type": "markdown",
   "metadata": {},
   "source": [
    "And preparing the dictionaries."
   ]
  },
  {
   "cell_type": "code",
   "execution_count": 4,
   "metadata": {
    "collapsed": false
   },
   "outputs": [],
   "source": [
    "listPunct = list(string.punctuation)\n",
    "listPunct.remove(\"'\")\n",
    "listPunct.remove(\"-\")\n",
    "#we do not want to stick together all the words that\n",
    "#have an apostrophe (l'armée should not become larmée)\n",
    "stopDict = dict(zip(listPunct,['']*len(listPunct)))\n",
    "#We want to break apart words with \"'\" and also replace some\n",
    "#random characters that we saw appeared in the text\n",
    "stopDict[\"'\"] = ' '\n",
    "stopDict[\"•\"] = ''"
   ]
  },
  {
   "cell_type": "markdown",
   "metadata": {},
   "source": [
    "We also need a constant which tells us how many of the most frequent words we take."
   ]
  },
  {
   "cell_type": "code",
   "execution_count": 5,
   "metadata": {
    "collapsed": true
   },
   "outputs": [],
   "source": [
    "numMostFreq = 3000"
   ]
  },
  {
   "cell_type": "markdown",
   "metadata": {},
   "source": [
    "And then we can go through the list to extract the data in each file. We also set a counter to see how long it takes.\n",
    "\n",
    "We first extract the data in 43 different dataframes, otherwise the algorithm's complexity is too high and the process is endless."
   ]
  },
  {
   "cell_type": "code",
   "execution_count": 6,
   "metadata": {
    "collapsed": false
   },
   "outputs": [],
   "source": [
    "total = len(listFiles)\n",
    "allText = []"
   ]
  },
  {
   "cell_type": "code",
   "execution_count": 8,
   "metadata": {
    "collapsed": false
   },
   "outputs": [
    {
     "name": "stderr",
     "output_type": "stream",
     "text": [
      "4335it [11:33:20, 22.15s/it]\n"
     ]
    }
   ],
   "source": [
    "for idx, file in tqdm(enumerate(listFiles)):   \n",
    "    #find the date at which the article is published.\n",
    "    date = pd.to_datetime(file[4:11])\n",
    "    #Open the XML\n",
    "    f = open(file,'r')\n",
    "    soupArticle = BeautifulSoup(f,'lxml')\n",
    "    f.close()\n",
    "    \n",
    "    #Extracting the entire text from the XML\n",
    "    Article = []\n",
    "    for ft in soupArticle.find_all('full_text'):\n",
    "        #Here we lower each words and we remove the numbers from the text\n",
    "        Article.append(re.sub(r'\\d+', '', ft.text).lower())\n",
    "\n",
    "    textArticle = ' '.join(Article)  \n",
    "    \n",
    "    #Cleaning and counting\n",
    "    for k,v in stopDict.items():\n",
    "        textArticle = textArticle.replace(k,v)\n",
    "\n",
    "    dictCounter = [wordsDict for wordsDict in textArticle.split(' ') if wordsDict not in stop_words]\n",
    "    countDict = Counter(dictCounter).most_common(numMostFreq+idx)\n",
    "    \n",
    "    #Transofming to a dataframe\n",
    "    df = pd.DataFrame(countDict).transpose()\n",
    "    df.columns = df.loc[0]\n",
    "    df.drop(0,inplace=True)\n",
    "    df.index = [date]\n",
    "    allText.append(df)\n",
    "    \n",
    "    if idx > 0:\n",
    "        if idx%50 == 0:\n",
    "            dfAllText = pd.concat(allText,axis=0)\n",
    "            dfAllText.to_csv('4_Data/Part_'+str(idx)+'.csv')\n",
    "            del allText\n",
    "            allText = []\n",
    "  "
   ]
  },
  {
   "cell_type": "code",
   "execution_count": 9,
   "metadata": {
    "collapsed": false
   },
   "outputs": [],
   "source": [
    "dfAllText.to_csv('4_Data/Part_end.csv')"
   ]
  },
  {
   "cell_type": "markdown",
   "metadata": {},
   "source": [
    "Now that we have all the separate dataframes we can implement a function to concatenate them together."
   ]
  },
  {
   "cell_type": "code",
   "execution_count": 2,
   "metadata": {
    "collapsed": false
   },
   "outputs": [],
   "source": [
    "csvFiles = []\n",
    "\n",
    "for root, dirs, files in os.walk('4_Data'): \n",
    "    for file in files:\n",
    "        if file.endswith('.csv'):\n",
    "             csvFiles.append(pd.read_csv(os.path.join(root, file),\n",
    "                                         index_col=0))"
   ]
  },
  {
   "cell_type": "markdown",
   "metadata": {},
   "source": [
    "And now we can concatenate all of the separate DataFrames!"
   ]
  },
  {
   "cell_type": "code",
   "execution_count": 3,
   "metadata": {
    "collapsed": false
   },
   "outputs": [],
   "source": [
    "dfFinal = pd.concat(csvFiles,axis=0)"
   ]
  },
  {
   "cell_type": "markdown",
   "metadata": {},
   "source": [
    "Now we look at the results!"
   ]
  },
  {
   "cell_type": "code",
   "execution_count": 4,
   "metadata": {
    "collapsed": false
   },
   "outputs": [
    {
     "name": "stdout",
     "output_type": "stream",
     "text": [
      "Number of words :  275577\n"
     ]
    },
    {
     "data": {
      "text/html": [
       "<div>\n",
       "<table border=\"1\" class=\"dataframe\">\n",
       "  <thead>\n",
       "    <tr style=\"text-align: right;\">\n",
       "      <th></th>\n",
       "      <th>----</th>\n",
       "      <th>-----</th>\n",
       "      <th>------</th>\n",
       "      <th>-------</th>\n",
       "      <th>--------</th>\n",
       "      <th>---------</th>\n",
       "      <th>----------</th>\n",
       "      <th>-----------</th>\n",
       "      <th>------------</th>\n",
       "      <th>-------------</th>\n",
       "      <th>...</th>\n",
       "      <th>„„«</th>\n",
       "      <th>„„»</th>\n",
       "      <th>„„„</th>\n",
       "      <th>„„„„</th>\n",
       "      <th>€</th>\n",
       "      <th>™-</th>\n",
       "      <th>™»</th>\n",
       "      <th>™—</th>\n",
       "      <th>™™</th>\n",
       "      <th>™™»</th>\n",
       "    </tr>\n",
       "  </thead>\n",
       "  <tbody>\n",
       "    <tr>\n",
       "      <th>1806-05-01</th>\n",
       "      <td>NaN</td>\n",
       "      <td>NaN</td>\n",
       "      <td>NaN</td>\n",
       "      <td>NaN</td>\n",
       "      <td>NaN</td>\n",
       "      <td>NaN</td>\n",
       "      <td>NaN</td>\n",
       "      <td>NaN</td>\n",
       "      <td>NaN</td>\n",
       "      <td>NaN</td>\n",
       "      <td>...</td>\n",
       "      <td>NaN</td>\n",
       "      <td>NaN</td>\n",
       "      <td>NaN</td>\n",
       "      <td>NaN</td>\n",
       "      <td>4.0</td>\n",
       "      <td>NaN</td>\n",
       "      <td>NaN</td>\n",
       "      <td>NaN</td>\n",
       "      <td>NaN</td>\n",
       "      <td>NaN</td>\n",
       "    </tr>\n",
       "    <tr>\n",
       "      <th>1806-06-01</th>\n",
       "      <td>NaN</td>\n",
       "      <td>NaN</td>\n",
       "      <td>NaN</td>\n",
       "      <td>NaN</td>\n",
       "      <td>NaN</td>\n",
       "      <td>NaN</td>\n",
       "      <td>NaN</td>\n",
       "      <td>NaN</td>\n",
       "      <td>NaN</td>\n",
       "      <td>NaN</td>\n",
       "      <td>...</td>\n",
       "      <td>NaN</td>\n",
       "      <td>NaN</td>\n",
       "      <td>NaN</td>\n",
       "      <td>NaN</td>\n",
       "      <td>NaN</td>\n",
       "      <td>NaN</td>\n",
       "      <td>NaN</td>\n",
       "      <td>NaN</td>\n",
       "      <td>NaN</td>\n",
       "      <td>NaN</td>\n",
       "    </tr>\n",
       "    <tr>\n",
       "      <th>1806-07-01</th>\n",
       "      <td>NaN</td>\n",
       "      <td>NaN</td>\n",
       "      <td>NaN</td>\n",
       "      <td>NaN</td>\n",
       "      <td>NaN</td>\n",
       "      <td>NaN</td>\n",
       "      <td>NaN</td>\n",
       "      <td>NaN</td>\n",
       "      <td>NaN</td>\n",
       "      <td>NaN</td>\n",
       "      <td>...</td>\n",
       "      <td>NaN</td>\n",
       "      <td>NaN</td>\n",
       "      <td>NaN</td>\n",
       "      <td>NaN</td>\n",
       "      <td>NaN</td>\n",
       "      <td>NaN</td>\n",
       "      <td>NaN</td>\n",
       "      <td>NaN</td>\n",
       "      <td>NaN</td>\n",
       "      <td>NaN</td>\n",
       "    </tr>\n",
       "    <tr>\n",
       "      <th>1806-08-01</th>\n",
       "      <td>NaN</td>\n",
       "      <td>NaN</td>\n",
       "      <td>NaN</td>\n",
       "      <td>NaN</td>\n",
       "      <td>NaN</td>\n",
       "      <td>NaN</td>\n",
       "      <td>NaN</td>\n",
       "      <td>NaN</td>\n",
       "      <td>NaN</td>\n",
       "      <td>NaN</td>\n",
       "      <td>...</td>\n",
       "      <td>NaN</td>\n",
       "      <td>NaN</td>\n",
       "      <td>NaN</td>\n",
       "      <td>NaN</td>\n",
       "      <td>NaN</td>\n",
       "      <td>NaN</td>\n",
       "      <td>NaN</td>\n",
       "      <td>NaN</td>\n",
       "      <td>NaN</td>\n",
       "      <td>NaN</td>\n",
       "    </tr>\n",
       "    <tr>\n",
       "      <th>1806-09-01</th>\n",
       "      <td>NaN</td>\n",
       "      <td>NaN</td>\n",
       "      <td>NaN</td>\n",
       "      <td>NaN</td>\n",
       "      <td>NaN</td>\n",
       "      <td>NaN</td>\n",
       "      <td>NaN</td>\n",
       "      <td>NaN</td>\n",
       "      <td>NaN</td>\n",
       "      <td>NaN</td>\n",
       "      <td>...</td>\n",
       "      <td>NaN</td>\n",
       "      <td>NaN</td>\n",
       "      <td>NaN</td>\n",
       "      <td>NaN</td>\n",
       "      <td>NaN</td>\n",
       "      <td>NaN</td>\n",
       "      <td>NaN</td>\n",
       "      <td>NaN</td>\n",
       "      <td>NaN</td>\n",
       "      <td>NaN</td>\n",
       "    </tr>\n",
       "  </tbody>\n",
       "</table>\n",
       "<p>5 rows × 275577 columns</p>\n",
       "</div>"
      ],
      "text/plain": [
       "            ----  -----  ------  -------  --------  ---------  ----------  \\\n",
       "1806-05-01   NaN    NaN     NaN      NaN       NaN        NaN         NaN   \n",
       "1806-06-01   NaN    NaN     NaN      NaN       NaN        NaN         NaN   \n",
       "1806-07-01   NaN    NaN     NaN      NaN       NaN        NaN         NaN   \n",
       "1806-08-01   NaN    NaN     NaN      NaN       NaN        NaN         NaN   \n",
       "1806-09-01   NaN    NaN     NaN      NaN       NaN        NaN         NaN   \n",
       "\n",
       "            -----------  ------------  ------------- ...   „„«  „„»  „„„  \\\n",
       "1806-05-01          NaN           NaN            NaN ...   NaN  NaN  NaN   \n",
       "1806-06-01          NaN           NaN            NaN ...   NaN  NaN  NaN   \n",
       "1806-07-01          NaN           NaN            NaN ...   NaN  NaN  NaN   \n",
       "1806-08-01          NaN           NaN            NaN ...   NaN  NaN  NaN   \n",
       "1806-09-01          NaN           NaN            NaN ...   NaN  NaN  NaN   \n",
       "\n",
       "            „„„„    €  ™-  ™»  ™—  ™™  ™™»  \n",
       "1806-05-01   NaN  4.0 NaN NaN NaN NaN  NaN  \n",
       "1806-06-01   NaN  NaN NaN NaN NaN NaN  NaN  \n",
       "1806-07-01   NaN  NaN NaN NaN NaN NaN  NaN  \n",
       "1806-08-01   NaN  NaN NaN NaN NaN NaN  NaN  \n",
       "1806-09-01   NaN  NaN NaN NaN NaN NaN  NaN  \n",
       "\n",
       "[5 rows x 275577 columns]"
      ]
     },
     "execution_count": 4,
     "metadata": {},
     "output_type": "execute_result"
    }
   ],
   "source": [
    "print('Number of words : ',dfFinal.shape[1])\n",
    "origShape = dfFinal.shape \n",
    "dfFinal.head()"
   ]
  },
  {
   "cell_type": "markdown",
   "metadata": {},
   "source": [
    "We have a lot of words, as we saw before, we still have a lot of unwanted words and random punctuations signs that we were not able to remove during the cleaning."
   ]
  },
  {
   "cell_type": "code",
   "execution_count": 6,
   "metadata": {
    "collapsed": false
   },
   "outputs": [
    {
     "data": {
      "text/plain": [
       "Index(['----', '-----', '------', '-------', '--------', '---------',\n",
       "       '----------', '-----------', '------------', '-------------',\n",
       "       ...\n",
       "       '„„«', '„„»', '„„„', '„„„„', '€', '™-', '™»', '™—', '™™', '™™»'],\n",
       "      dtype='object', length=275577)"
      ]
     },
     "execution_count": 6,
     "metadata": {},
     "output_type": "execute_result"
    }
   ],
   "source": [
    "dfFinal.columns"
   ]
  },
  {
   "cell_type": "markdown",
   "metadata": {},
   "source": [
    "# First Cleaning Steps\n",
    "\n",
    "We will begin by performing a little bit of rough cleaning before going into custom NLP cleaning."
   ]
  },
  {
   "cell_type": "code",
   "execution_count": 7,
   "metadata": {
    "collapsed": true
   },
   "outputs": [],
   "source": [
    "sumWords = dfFinal.sum(axis=0)"
   ]
  },
  {
   "cell_type": "markdown",
   "metadata": {},
   "source": [
    "First we decide to remove all the words that are only present once in the dataset, as they shurely belong to either random characters or, misspells, and they do not contain a lot of information about the rest of the dataset."
   ]
  },
  {
   "cell_type": "code",
   "execution_count": 13,
   "metadata": {
    "collapsed": false
   },
   "outputs": [
    {
     "name": "stdout",
     "output_type": "stream",
     "text": [
      "Words that will be removed\n"
     ]
    },
    {
     "data": {
      "text/plain": [
       "Index(['--j-«-—', '--mettre', '--pasteur', '--présente', '--quant',\n",
       "       '--quelques', '--r', '--tejournaldesdébatsfaittopsles', '--ëphémérides',\n",
       "       '--—les', '--——-v', '--™', '-a-genevjï', '-a-js-hs', '-accepter',\n",
       "       '-accepté', '-accumulés', '-achats', '-actuel', '-actuellement'],\n",
       "      dtype='object')"
      ]
     },
     "execution_count": 13,
     "metadata": {},
     "output_type": "execute_result"
    }
   ],
   "source": [
    "print('Words that will be removed')\n",
    "dfFinal.columns[(sumWords<2).values][20:40]"
   ]
  },
  {
   "cell_type": "code",
   "execution_count": 14,
   "metadata": {
    "collapsed": false
   },
   "outputs": [
    {
     "name": "stdout",
     "output_type": "stream",
     "text": [
      "Before the removal of absent words:  (4351, 275577)\n",
      "Number of columns that will be removed:  62657\n",
      "After the cleaning:  (4351, 212920)\n"
     ]
    }
   ],
   "source": [
    "print('Before the removal of absent words: ', dfFinal.shape)\n",
    "print('Number of columns that will be removed: ',(sumWords<2).sum())\n",
    "dfFinal.drop(dfFinal.columns[(sumWords<2).values],axis=1,inplace=True)\n",
    "print('After the cleaning: ', dfFinal.shape)"
   ]
  },
  {
   "cell_type": "markdown",
   "metadata": {},
   "source": [
    "And we also see that we have two indexes per month, therefore we can groupby. "
   ]
  },
  {
   "cell_type": "code",
   "execution_count": 15,
   "metadata": {
    "collapsed": false
   },
   "outputs": [],
   "source": [
    "dfFinal = dfFinal.fillna(0)\n",
    "year = dfFinal.groupby(by='index',level=0)"
   ]
  },
  {
   "cell_type": "markdown",
   "metadata": {
    "collapsed": true
   },
   "source": [
    "And aggregate per year."
   ]
  },
  {
   "cell_type": "code",
   "execution_count": 16,
   "metadata": {
    "collapsed": false
   },
   "outputs": [
    {
     "data": {
      "text/plain": [
       "(2351, 212920)"
      ]
     },
     "execution_count": 16,
     "metadata": {},
     "output_type": "execute_result"
    }
   ],
   "source": [
    "yearData = year.agg(sum)\n",
    "yearData.head()\n",
    "yearData.shape"
   ]
  },
  {
   "cell_type": "markdown",
   "metadata": {},
   "source": [
    "Setting the index in datetime to be able to plot dates."
   ]
  },
  {
   "cell_type": "code",
   "execution_count": 17,
   "metadata": {
    "collapsed": false
   },
   "outputs": [],
   "source": [
    "yearData.index = pd.to_datetime(yearData.index)\n",
    "yearIndex = yearData.index"
   ]
  },
  {
   "cell_type": "code",
   "execution_count": 27,
   "metadata": {
    "collapsed": false
   },
   "outputs": [],
   "source": [
    "sumYear = yearData.sum(axis=1)"
   ]
  },
  {
   "cell_type": "code",
   "execution_count": 28,
   "metadata": {
    "collapsed": false
   },
   "outputs": [
    {
     "data": {
      "text/plain": [
       "[<matplotlib.lines.Line2D at 0x1ed68ea90>]"
      ]
     },
     "execution_count": 28,
     "metadata": {},
     "output_type": "execute_result"
    },
    {
     "data": {
      "image/png": "[encoded data removed]",
      "text/plain": [
       "<matplotlib.figure.Figure at 0x1f567cda0>"
      ]
     },
     "metadata": {},
     "output_type": "display_data"
    }
   ],
   "source": [
    "plt.plot_date(yearIndex,sumYear.values)"
   ]
  },
  {
   "cell_type": "code",
   "execution_count": 18,
   "metadata": {
    "collapsed": false
   },
   "outputs": [
    {
     "data": {
      "text/plain": [
       "[<matplotlib.lines.Line2D at 0x1022c6dd8>]"
      ]
     },
     "execution_count": 18,
     "metadata": {},
     "output_type": "execute_result"
    },
    {
     "data": {
      "image/png": "[encoded data removed]",
      "text/plain": [
       "<matplotlib.figure.Figure at 0x1eda90240>"
      ]
     },
     "metadata": {},
     "output_type": "display_data"
    }
   ],
   "source": [
    "plt.plot_date(yearIndex[1500:1600],yearData['noël'].values[1500:1600])"
   ]
  },
  {
   "cell_type": "markdown",
   "metadata": {
    "collapsed": true
   },
   "source": [
    "### Cleaning Steps\n",
    "\n",
    "To facilitate the transfer of data between steps we will do most of the cleaning here.\n",
    "\n",
    "1. Removal words of two letters"
   ]
  },
  {
   "cell_type": "code",
   "execution_count": 19,
   "metadata": {
    "collapsed": false
   },
   "outputs": [
    {
     "name": "stdout",
     "output_type": "stream",
     "text": [
      "Shape before the removal : (2351, 212920)\n",
      "We will remove  1248  columns\n",
      "Shape after removal :  (2351, 211672)\n"
     ]
    }
   ],
   "source": [
    "print('Shape before the removal :', yearData.shape)\n",
    "colLength = yearData.columns.map(lambda x: len(x))\n",
    "print('We will remove ', len(colLength[colLength<3]),' columns')\n",
    "yearData = yearData.drop(yearData.columns[colLength<3],axis=1)\n",
    "print('Shape after removal : ',yearData.shape)"
   ]
  },
  {
   "cell_type": "markdown",
   "metadata": {},
   "source": [
    "Let's take a look at the minimum number of times one word appears each year."
   ]
  },
  {
   "cell_type": "code",
   "execution_count": 20,
   "metadata": {
    "collapsed": false
   },
   "outputs": [
    {
     "data": {
      "text/plain": [
       "1798-02-01     1.0\n",
       "1798-03-01     2.0\n",
       "1798-04-01     2.0\n",
       "1798-05-01     2.0\n",
       "1798-06-01     2.0\n",
       "1798-07-01     2.0\n",
       "1798-08-01     3.0\n",
       "1798-09-01     2.0\n",
       "1798-10-01     3.0\n",
       "1798-11-01     3.0\n",
       "1798-12-01     3.0\n",
       "1799-01-01     2.0\n",
       "1799-02-01     2.0\n",
       "1799-03-01     3.0\n",
       "1799-04-01     2.0\n",
       "1799-05-01     3.0\n",
       "1799-06-01     2.0\n",
       "1799-07-01     2.0\n",
       "1799-08-01     3.0\n",
       "1799-09-01     2.0\n",
       "1799-10-01     3.0\n",
       "1799-11-01     3.0\n",
       "1799-12-01     3.0\n",
       "1804-01-01     1.0\n",
       "1804-02-01     1.0\n",
       "1804-03-01     1.0\n",
       "1804-04-01     2.0\n",
       "1804-05-01     3.0\n",
       "1804-06-01     3.0\n",
       "1804-07-01     3.0\n",
       "              ... \n",
       "1995-07-01    15.0\n",
       "1995-08-01    16.0\n",
       "1995-11-01    18.0\n",
       "1995-12-01    27.0\n",
       "1996-01-01    29.0\n",
       "1996-02-01    19.0\n",
       "1996-03-01    15.0\n",
       "1996-04-01    28.0\n",
       "1996-05-01    19.0\n",
       "1996-06-01    31.0\n",
       "1996-07-01    22.0\n",
       "1996-08-01    28.0\n",
       "1996-09-01    30.0\n",
       "1996-10-01    18.0\n",
       "1996-11-01    11.0\n",
       "1996-12-01    16.0\n",
       "1997-01-01    23.0\n",
       "1997-02-01    25.0\n",
       "1997-03-01    26.0\n",
       "1997-04-01    27.0\n",
       "1997-05-01    26.0\n",
       "1997-06-01    27.0\n",
       "1997-07-01    25.0\n",
       "1997-08-01    24.0\n",
       "1997-09-01    28.0\n",
       "1997-10-01    29.0\n",
       "1997-11-01    29.0\n",
       "1997-12-01    27.0\n",
       "1998-01-01    26.0\n",
       "1998-02-01    27.0\n",
       "dtype: float64"
      ]
     },
     "execution_count": 20,
     "metadata": {},
     "output_type": "execute_result"
    }
   ],
   "source": [
    "yearData[yearData>0].min(axis=1)"
   ]
  },
  {
   "cell_type": "markdown",
   "metadata": {},
   "source": [
    "We can see that by taking more and more words over the years we were able to capture a very large part of the long tail distribution!"
   ]
  },
  {
   "cell_type": "markdown",
   "metadata": {},
   "source": [
    "### The columns that begin by '-'\n",
    "\n",
    "Because we wanted to keep words such as week-end, we have a certain number of columns that start with '-' and a word, we will remove the dash."
   ]
  },
  {
   "cell_type": "code",
   "execution_count": 21,
   "metadata": {
    "collapsed": false
   },
   "outputs": [],
   "source": [
    "colName = yearData.columns.map(lambda x: x[1:] if str(x).startswith('-') else x)\n",
    "yearData.columns = colName"
   ]
  },
  {
   "cell_type": "markdown",
   "metadata": {},
   "source": [
    "For the ones that end with a dash."
   ]
  },
  {
   "cell_type": "code",
   "execution_count": 22,
   "metadata": {
    "collapsed": false
   },
   "outputs": [],
   "source": [
    "endNames = yearData.columns.map(lambda x: x[1:] if str(x).endswith('-') else x)\n",
    "yearData.columns = endNames"
   ]
  },
  {
   "cell_type": "markdown",
   "metadata": {},
   "source": [
    "And we groupby."
   ]
  },
  {
   "cell_type": "code",
   "execution_count": 24,
   "metadata": {
    "collapsed": false
   },
   "outputs": [
    {
     "name": "stdout",
     "output_type": "stream",
     "text": [
      "Shape Before Groupby : (2351, 211672)\n",
      "Shape Before Groupby : (2351, 211672)\n"
     ]
    }
   ],
   "source": [
    "print('Shape Before Groupby :', yearData.shape)\n",
    "dfFinal1 = yearData.groupby(by=yearData.columns,axis=1,level=0).agg(sum)\n",
    "print('Shape Before Groupby :', yearData.shape)"
   ]
  },
  {
   "cell_type": "code",
   "execution_count": 28,
   "metadata": {
    "collapsed": false
   },
   "outputs": [
    {
     "name": "stdout",
     "output_type": "stream",
     "text": [
      "Shape After Groupby:  (2351, 209401)\n"
     ]
    }
   ],
   "source": [
    "print('Shape After Groupby: ',dfFinal1.shape)"
   ]
  },
  {
   "cell_type": "markdown",
   "metadata": {},
   "source": [
    "### Dealing with adverbs\n",
    "\n",
    "We will group words with theit adverb (word and word + ement)"
   ]
  },
  {
   "cell_type": "code",
   "execution_count": 26,
   "metadata": {
    "collapsed": true
   },
   "outputs": [],
   "source": [
    "adverbs = dfFinal1.columns.map(lambda x: x[:-5] if str(x).endswith('ement') else x)\n",
    "dfFinal1.columns = adverbs"
   ]
  },
  {
   "cell_type": "markdown",
   "metadata": {},
   "source": [
    "And another groupby"
   ]
  },
  {
   "cell_type": "code",
   "execution_count": 27,
   "metadata": {
    "collapsed": false
   },
   "outputs": [
    {
     "name": "stdout",
     "output_type": "stream",
     "text": [
      "Shape Before Groupby : (2351, 209401)\n",
      "Shape Before Groupby : (2351, 209043)\n"
     ]
    }
   ],
   "source": [
    "print('Shape Before Groupby :', dfFinal1.shape)\n",
    "dfFinal2 = dfFinal1.groupby(by=dfFinal1.columns,axis=1,level=0).agg(sum)\n",
    "print('Shape Before Groupby :', dfFinal2.shape)"
   ]
  },
  {
   "cell_type": "markdown",
   "metadata": {
    "collapsed": true
   },
   "source": [
    "### Merging singular and plural words\n",
    "\n",
    "As we were not satisfied by the NLTK work on the french language, we will implement our own small algorithm to merge similar words together. We start were merging singular and plural words."
   ]
  },
  {
   "cell_type": "code",
   "execution_count": 29,
   "metadata": {
    "collapsed": true
   },
   "outputs": [],
   "source": [
    "wordCountMontClean2 = dfFinal2.copy()\n",
    "#Getting the words\n",
    "columnNames = wordCountMontClean2.columns.map(lambda x: str(x))"
   ]
  },
  {
   "cell_type": "markdown",
   "metadata": {},
   "source": [
    "Let's look up a few of the column titles."
   ]
  },
  {
   "cell_type": "code",
   "execution_count": 37,
   "metadata": {
    "collapsed": false
   },
   "outputs": [
    {
     "data": {
      "text/plain": [
       "array(['abattoir', 'abattoirs', 'abattre', 'abattu', 'abattucci',\n",
       "       'abattue', 'abattues', 'abattus', 'abatucci', 'abauzit', 'abayc',\n",
       "       'abaye', 'abayes', 'abazzia', 'abb', 'abb-sécheron', 'abba',\n",
       "       'abba-garima', 'abbadia', 'abbadie'], dtype=object)"
      ]
     },
     "execution_count": 37,
     "metadata": {},
     "output_type": "execute_result"
    }
   ],
   "source": [
    "columnNames[340:360]"
   ]
  },
  {
   "cell_type": "markdown",
   "metadata": {},
   "source": [
    "As we can see, the plural of a word comes normally just after it's singular, we therefore do not have to check all of the other words for plurals."
   ]
  },
  {
   "cell_type": "code",
   "execution_count": 39,
   "metadata": {
    "collapsed": false
   },
   "outputs": [
    {
     "name": "stdout",
     "output_type": "stream",
     "text": [
      "Number of Singular-Plural word pairs :  15708\n",
      "['abkhaze', 'able', 'aboi', 'abolie', 'abolitioniste', 'abolitionniste', 'abominable']\n",
      "['abkhazes', 'ables', 'abois', 'abolies', 'abolitionistes', 'abolitionnistes', 'abominables']\n"
     ]
    }
   ],
   "source": [
    "sing = []\n",
    "plural = []\n",
    "for i in range(len(columnNames)):\n",
    "    col = columnNames[i]\n",
    "    colPlur = col+'s'\n",
    "    colPlurX = col+'x'\n",
    "    if (i+5) > (len(columnNames) - 1):\n",
    "        lastEl =  len(columnNames) - 1\n",
    "    else:\n",
    "        lastEl = i+5\n",
    "    for plur in columnNames[i:lastEl]:\n",
    "        if (colPlur == plur) or (colPlurX == plur):\n",
    "            sing.append(col)\n",
    "            plural.append(plur)\n",
    "\n",
    "print('Number of Singular-Plural word pairs : ', len(dict(zip(sing,plural))))\n",
    "#We have to remove the jouis and jouiss pairs because, jouis will already be removed with the joui pair\n",
    "#pluralWords.pop(1329)\n",
    "singPlurDict = dict(zip(plural,sing))\n",
    "print(sing[20:27])\n",
    "print(plural[20:27])"
   ]
  },
  {
   "cell_type": "markdown",
   "metadata": {},
   "source": [
    "Now that we have that we can replace the column names and then groupby so that we merge the data from the two words."
   ]
  },
  {
   "cell_type": "code",
   "execution_count": 40,
   "metadata": {
    "collapsed": true
   },
   "outputs": [],
   "source": [
    "wordCountMontClean2.rename(columns = singPlurDict,inplace=True)\n",
    "cleanData = wordCountMontClean2.groupby(by=wordCountMontClean2.columns,axis=1,level=0).agg(sum)"
   ]
  },
  {
   "cell_type": "markdown",
   "metadata": {},
   "source": [
    "Now we look at the masculine and feminine version of words and of the verbs and their infinitif."
   ]
  },
  {
   "cell_type": "code",
   "execution_count": 41,
   "metadata": {
    "collapsed": true
   },
   "outputs": [],
   "source": [
    "newCol = cleanData.columns.values"
   ]
  },
  {
   "cell_type": "code",
   "execution_count": 43,
   "metadata": {
    "collapsed": false
   },
   "outputs": [
    {
     "name": "stdout",
     "output_type": "stream",
     "text": [
      "Number of fem singular, verbs word pairs :  9240\n",
      "['able', 'aboli', 'aboli', 'abondant', 'abonde', 'abonnem', 'abonné']\n",
      "['abler', 'abolie', 'abolir', 'abondante', 'abonder', 'abonneme', 'abonnée']\n"
     ]
    }
   ],
   "source": [
    "fem = []\n",
    "masc = []\n",
    "\n",
    "for i in range(len(newCol)):\n",
    "    col = newCol[i]\n",
    "    colfem= col+'e'\n",
    "    infVerb = col+'r'\n",
    "    if (i+5) > (len(newCol) - 1):\n",
    "        lastEl =  len(newCol) - 1\n",
    "    else:\n",
    "        lastEl = i+5\n",
    "    for plur in newCol[i:lastEl]:\n",
    "        if (colfem == plur) or (infVerb == plur):\n",
    "            masc.append(col)\n",
    "            fem.append(plur)\n",
    "\n",
    "dictFM = dict(zip(masc,fem))\n",
    "print('Number of fem singular, verbs word pairs : ', len(dictFM))\n",
    "print(masc[20:27])\n",
    "print(fem[20:27])"
   ]
  },
  {
   "cell_type": "markdown",
   "metadata": {},
   "source": [
    "And we groupby again."
   ]
  },
  {
   "cell_type": "code",
   "execution_count": 44,
   "metadata": {
    "collapsed": true
   },
   "outputs": [],
   "source": [
    "cleanData.rename(columns = dictFM,inplace=True)\n",
    "cleanData1 = cleanData.groupby(by=cleanData.columns,axis=1,level=0).agg(sum)"
   ]
  },
  {
   "cell_type": "markdown",
   "metadata": {},
   "source": [
    "Let's take a look at the verbs."
   ]
  },
  {
   "cell_type": "code",
   "execution_count": 45,
   "metadata": {
    "collapsed": false
   },
   "outputs": [
    {
     "name": "stdout",
     "output_type": "stream",
     "text": [
      "Number of fem singular, verbs word pairs :  963\n",
      "['abuse', 'abusiv', 'abyssin', 'accabl', 'accable', 'accablé', 'accam']\n",
      "['abuser', 'abusive', 'abyssine', 'accable', 'accabler', 'accablée', 'accame']\n"
     ]
    }
   ],
   "source": [
    "verb = []\n",
    "conj = []\n",
    "\n",
    "for i in range(len(cleanData1.columns)):\n",
    "    col = cleanData1.columns[i]\n",
    "    infVerb = col[:-1]+'er'\n",
    "    if (i+5) > (len(cleanData1.columns) - 1):\n",
    "        lastEl =  len(cleanData1.columns) - 1\n",
    "    else:\n",
    "        lastEl = i+5\n",
    "    for plur in cleanData1.columns[i:lastEl]:\n",
    "        if (infVerb == plur):\n",
    "            verb.append(col)\n",
    "            conj.append(plur)\n",
    "\n",
    "dictVC = dict(zip(verb,conj))\n",
    "print('Number of fem singular, verbs word pairs : ', len(dictVC))\n",
    "print(masc[50:57])\n",
    "print(fem[50:57])"
   ]
  },
  {
   "cell_type": "code",
   "execution_count": 46,
   "metadata": {
    "collapsed": true
   },
   "outputs": [],
   "source": [
    "cleanData1.rename(columns = dictVC,inplace=True)"
   ]
  },
  {
   "cell_type": "markdown",
   "metadata": {},
   "source": [
    "We also want to replace \"participe passé\" feminine to the infinitif verb."
   ]
  },
  {
   "cell_type": "code",
   "execution_count": 47,
   "metadata": {
    "collapsed": false
   },
   "outputs": [
    {
     "name": "stdout",
     "output_type": "stream",
     "text": [
      "Index(['abaissée', 'abandonnée', 'abfentée', 'abforbée', 'abonnée', 'abordée',\n",
      "       'abreuvée', 'abritée', 'abrogée', 'abrégée',\n",
      "       ...\n",
      "       'évadée', 'évaluée', 'éveillée', 'évitée', 'évoluée', 'évoquée',\n",
      "       'ôméée', 'ôuiéée', '—méditerranée', '—sodée'],\n",
      "      dtype='object', length=1953)\n"
     ]
    }
   ],
   "source": [
    "print(cleanData1.columns[np.chararray.endswith(cleanData1.columns.values.astype(str),'ée')])"
   ]
  },
  {
   "cell_type": "code",
   "execution_count": 48,
   "metadata": {
    "collapsed": true
   },
   "outputs": [],
   "source": [
    "cleanData1.columns = cleanData1.columns.map(lambda x: x[:-2]+'er' if str(x).endswith('ée') else x)"
   ]
  },
  {
   "cell_type": "markdown",
   "metadata": {},
   "source": [
    "And then we can groupby again."
   ]
  },
  {
   "cell_type": "code",
   "execution_count": 49,
   "metadata": {
    "collapsed": false
   },
   "outputs": [
    {
     "data": {
      "text/plain": [
       "(2351, 182601)"
      ]
     },
     "execution_count": 49,
     "metadata": {},
     "output_type": "execute_result"
    }
   ],
   "source": [
    "cleanData2 = cleanData1.groupby(by=cleanData1.columns,axis=1,level=0).agg(sum)\n",
    "cleanData2.shape"
   ]
  },
  {
   "cell_type": "markdown",
   "metadata": {},
   "source": [
    "Let's try to group together verbs and their conjugaisons."
   ]
  },
  {
   "cell_type": "code",
   "execution_count": 50,
   "metadata": {
    "collapsed": true
   },
   "outputs": [],
   "source": [
    "colClean2 = cleanData2.columns.values"
   ]
  },
  {
   "cell_type": "code",
   "execution_count": 51,
   "metadata": {
    "collapsed": false
   },
   "outputs": [
    {
     "name": "stdout",
     "output_type": "stream",
     "text": [
      "We have identified:  4779 Verbs to put together\n",
      "['abriter', 'abroger', 'abréger', 'abréger', 'absenter', 'absenter', 'absorber']\n",
      "['abritant', 'abrogeant', 'abrégerai', 'abrégerait', 'absentent', 'absentera', 'absorbait']\n"
     ]
    }
   ],
   "source": [
    "verbList = []\n",
    "verbFamily = []\n",
    "for i in range(len(colClean2)):\n",
    "    if colClean2[i].endswith('er'):\n",
    "        wordClean = colClean2[i]\n",
    "        word = colClean2[i][:-2]\n",
    "        for j in range(i-4,i+4):\n",
    "            if j == i:\n",
    "                pass\n",
    "            \n",
    "            otherWord = colClean2[j]\n",
    "            if ((otherWord[:len(word)] == word) and ((otherWord[-2:] == 'en') \n",
    "                | (otherWord[-3:] == 'ent')  | (otherWord[-3:] == 'era')  \n",
    "                | (otherWord[-3:] == 'ait')  | (otherWord[-3:] == 'ant') \n",
    "                | (otherWord[-2:] == 'és') | (otherWord[-4:] == 'eant') \n",
    "                | (otherWord[-2:] == 'es') | (otherWord[-2:] == 'ai'))):\n",
    "                verbList.append(wordClean)\n",
    "                verbFamily.append(otherWord)\n",
    "\n",
    "print('We have identified: ', len(verbList), 'Verbs to put together')\n",
    "dictVerbFamily = dict(zip(verbFamily,verbList))\n",
    "print(verbList[20:27])\n",
    "print(verbFamily[20:27])"
   ]
  },
  {
   "cell_type": "markdown",
   "metadata": {},
   "source": [
    "And we can put these columns together."
   ]
  },
  {
   "cell_type": "code",
   "execution_count": 52,
   "metadata": {
    "collapsed": true
   },
   "outputs": [],
   "source": [
    "cleanData2.rename(columns = dictVerbFamily,inplace=True)"
   ]
  },
  {
   "cell_type": "markdown",
   "metadata": {},
   "source": [
    "And another GroupBy."
   ]
  },
  {
   "cell_type": "code",
   "execution_count": 53,
   "metadata": {
    "collapsed": false
   },
   "outputs": [
    {
     "data": {
      "text/plain": [
       "(2351, 177907)"
      ]
     },
     "execution_count": 53,
     "metadata": {},
     "output_type": "execute_result"
    }
   ],
   "source": [
    "cleanDataVerb = cleanData2.groupby(by=cleanData2.columns,axis=1,level=0).agg(sum)\n",
    "cleanDataVerb.shape"
   ]
  },
  {
   "cell_type": "markdown",
   "metadata": {},
   "source": [
    "We can see that our dataset is still very large, but those operations manage to reduce its size without loosing information!\n",
    "\n",
    "Now that we have tried not to loose too much of information by trying to merge words that have the same meaning we can start doing some more direct actions."
   ]
  },
  {
   "cell_type": "code",
   "execution_count": 57,
   "metadata": {
    "collapsed": false
   },
   "outputs": [
    {
     "name": "stdout",
     "output_type": "stream",
     "text": [
      "Number of unique words before grouping:  212920\n",
      "Number of unique words after grouping:  177907\n"
     ]
    }
   ],
   "source": [
    "print('Number of unique words before grouping: ', dfFinal.shape[1])\n",
    "print('Number of unique words after grouping: ', cleanDataVerb.shape[1])"
   ]
  },
  {
   "cell_type": "markdown",
   "metadata": {},
   "source": [
    "### Dealing with missing data\n",
    "\n",
    "One of the problem that we have for our dataset is that there are some months were a word count is missing (for some words). When importing the data we had to choose a frequency limit, and we did not save words that appeared below this limit. Due to the long tail distribution of the data words that have a fequency near the limit can be above it in one month and below it in the other month, therefore we will have a lot of missing values for this word.\n",
    "\n",
    "For furutre predictions and visualization we are more interested in the general shape of the time series, and not the few months in between where the word is missing, therefore it could be interesting to interpolate the missing data.\n",
    "\n",
    "But there are also words that are only in present only in a few months and not more. We do not need these words as they are not interesting to predict and do not bring an interesting visualizations.\n",
    "\n",
    "Due to the fact that we have made some aggregations in the previous steps, we assume that removing words that do not occur very often will not loose information about the other words. We choose to remove words that only appear in 10 different months or less."
   ]
  },
  {
   "cell_type": "code",
   "execution_count": 55,
   "metadata": {
    "collapsed": true
   },
   "outputs": [],
   "source": [
    "cleanData3 = cleanDataVerb.copy()\n",
    "numMonth = cleanData3.astype(bool).sum(axis=0).values"
   ]
  },
  {
   "cell_type": "markdown",
   "metadata": {},
   "source": [
    "Let's look at which words are in this situations."
   ]
  },
  {
   "cell_type": "code",
   "execution_count": 58,
   "metadata": {
    "collapsed": false
   },
   "outputs": [
    {
     "data": {
      "text/plain": [
       "Index(['--------------', '---------------', '----------------',\n",
       "       '-----------------', '------------------', '-------------------',\n",
       "       '--------------------------------------------------------------------------',\n",
       "       '---------------------------------------------------------------------------',\n",
       "       '------har', '---le', '--am', '--beecham', '--bowater', '--br',\n",
       "       '--broken', '--can', '--clôture', '--coca', '--courtaulds', '--de',\n",
       "       '--dimanche', '--dôme', '--e', '--east', '--free', '--g', '--ii',\n",
       "       '--imp', '--kloof', '--l', '--m', '--marks', '--n-', '--plessey',\n",
       "       '--pots', '--rank', '--roan', '--rolls', '--s', '--sel', '--slater',\n",
       "       '--st', '--tampax', '--tesco', '--tube', '--union', '--unit',\n",
       "       '--vickers', '--volume'],\n",
       "      dtype='object')"
      ]
     },
     "execution_count": 58,
     "metadata": {},
     "output_type": "execute_result"
    }
   ],
   "source": [
    "cleanData3.columns[numMonth<10][1:50]"
   ]
  },
  {
   "cell_type": "code",
   "execution_count": 59,
   "metadata": {
    "collapsed": false
   },
   "outputs": [
    {
     "data": {
      "text/plain": [
       "Index(['actionprime', 'actionsdejouissanceducanaldu', 'actionsjura-simplon',\n",
       "       'actionsou', 'actious', 'actium', 'activite', 'actlvlte', 'acto',\n",
       "       'acton', 'actoteatro', 'actouest-suiss', 'acts', 'actu', 'actual',\n",
       "       'actualisation', 'actualite', 'actuariels', 'actue', 'actueles',\n",
       "       'actuellede', 'actère', 'acu', 'acuminariatique', 'acun', 'acunto',\n",
       "       'acupuncture', 'acv', 'acy', 'acéré', 'acétate', 'acétique',\n",
       "       'acétylcholine', 'acùt', 'acût', 'ad', 'ad-', 'ad-astra', 'ad-hoc',\n",
       "       'ad-intérim', 'ada-agamus', 'adage', 'adalberl', 'adalberto',\n",
       "       'adalgisa', 'adalr', 'adam-benjamin', 'adam-louis', 'adamec',\n",
       "       'adamello'],\n",
       "      dtype='object')"
      ]
     },
     "execution_count": 59,
     "metadata": {},
     "output_type": "execute_result"
    }
   ],
   "source": [
    "cleanData3.columns[numMonth<10][1000:1050]"
   ]
  },
  {
   "cell_type": "code",
   "execution_count": 61,
   "metadata": {
    "collapsed": false
   },
   "outputs": [
    {
     "data": {
      "text/plain": [
       "Index(['acliard', 'aclif', 'aclivité', 'acloque', 'aclrice', 'acluclle',\n",
       "       'acluelle', 'acmvveveyn', 'acmvveveyp', 'acné', 'acolade', 'acoliar',\n",
       "       'acollas', 'acolytes', 'acom', 'acommission', 'acomp', 'acon', 'acon-',\n",
       "       'aconit', 'aconitine', 'aconnex', 'aconte-', 'acores', 'acoust',\n",
       "       'acoûté', 'acquadro', 'acquainted', 'acquapendente', 'acquarelle',\n",
       "       'acqueducs', 'acquerra', 'acquerraient', 'acquerrait', 'acquerront',\n",
       "       'acques-', 'acqui', 'acquiesc', 'acquiescer', 'acquiescerons',\n",
       "       'acquiescé', 'acquiesça', 'acquife', 'acquill', 'acquiller', 'acquin',\n",
       "       'acquired', 'acquisilion', 'acquiter', 'acquitta'],\n",
       "      dtype='object')"
      ]
     },
     "execution_count": 61,
     "metadata": {},
     "output_type": "execute_result"
    }
   ],
   "source": [
    "cleanData3.columns[numMonth<10][900:950]"
   ]
  },
  {
   "cell_type": "markdown",
   "metadata": {},
   "source": [
    "We can see that these are not very important words, and as they do not have many datapoints we can easily remove them."
   ]
  },
  {
   "cell_type": "code",
   "execution_count": 62,
   "metadata": {
    "collapsed": false
   },
   "outputs": [
    {
     "name": "stdout",
     "output_type": "stream",
     "text": [
      "Before word aggregation :  (4351, 212920)\n",
      "Before the removal of absent words:  (2351, 177907)\n",
      "After the cleaning:  (2351, 43243)\n"
     ]
    }
   ],
   "source": [
    "print('Before word aggregation : ', dfFinal.shape)\n",
    "print('Before the removal of absent words: ', cleanData3.shape)\n",
    "cleanData3.drop(cleanData3.columns[numMonth < 10].values,axis=1,inplace=True)\n",
    "print('After the cleaning: ', cleanData3.shape)"
   ]
  },
  {
   "cell_type": "markdown",
   "metadata": {},
   "source": [
    "We will also remove words that are only present less than ten times in the entire dataset, as they do not represent a very strong signal and will not be very useful for visualization or prediction."
   ]
  },
  {
   "cell_type": "code",
   "execution_count": 65,
   "metadata": {
    "collapsed": true
   },
   "outputs": [],
   "source": [
    "sumWords = cleanData3.sum(axis=0)"
   ]
  },
  {
   "cell_type": "code",
   "execution_count": 66,
   "metadata": {
    "collapsed": false
   },
   "outputs": [
    {
     "name": "stdout",
     "output_type": "stream",
     "text": [
      "Before the removal of absent words:  (2351, 43243)\n",
      "Number of columns that will be removed:  0\n",
      "After the cleaning:  (2351, 43176)\n"
     ]
    }
   ],
   "source": [
    "print('Before the removal of absent words: ', cleanData3.shape)\n",
    "print('Number of columns that will be removed: ',(sumWords<10).sum())\n",
    "cleanData3.drop(cleanData3.columns[(sumWords<15).values],axis=1,inplace=True)\n",
    "print('After the cleaning: ', cleanData3.shape)"
   ]
  },
  {
   "cell_type": "markdown",
   "metadata": {},
   "source": [
    "Let's take a look at our cleaning"
   ]
  },
  {
   "cell_type": "code",
   "execution_count": 67,
   "metadata": {
    "collapsed": false
   },
   "outputs": [
    {
     "data": {
      "text/html": [
       "<div>\n",
       "<table border=\"1\" class=\"dataframe\">\n",
       "  <thead>\n",
       "    <tr style=\"text-align: right;\">\n",
       "      <th></th>\n",
       "      <th></th>\n",
       "      <th>-</th>\n",
       "      <th>--</th>\n",
       "      <th>---</th>\n",
       "      <th>----</th>\n",
       "      <th>-----</th>\n",
       "      <th>------</th>\n",
       "      <th>-------</th>\n",
       "      <th>--------</th>\n",
       "      <th>---------</th>\n",
       "      <th>...</th>\n",
       "      <th>—turin</th>\n",
       "      <th>—une</th>\n",
       "      <th>—union</th>\n",
       "      <th>—vingt-quatrième</th>\n",
       "      <th>—vingt-troisième</th>\n",
       "      <th>—voici</th>\n",
       "      <th>—vous</th>\n",
       "      <th>———</th>\n",
       "      <th>————</th>\n",
       "      <th>„„„</th>\n",
       "    </tr>\n",
       "  </thead>\n",
       "  <tbody>\n",
       "    <tr>\n",
       "      <th>1798-02-01</th>\n",
       "      <td>1.0</td>\n",
       "      <td>0.0</td>\n",
       "      <td>0.0</td>\n",
       "      <td>0.0</td>\n",
       "      <td>0.0</td>\n",
       "      <td>0.0</td>\n",
       "      <td>0.0</td>\n",
       "      <td>0.0</td>\n",
       "      <td>0.0</td>\n",
       "      <td>0.0</td>\n",
       "      <td>...</td>\n",
       "      <td>0.0</td>\n",
       "      <td>0.0</td>\n",
       "      <td>0.0</td>\n",
       "      <td>0.0</td>\n",
       "      <td>0.0</td>\n",
       "      <td>0.0</td>\n",
       "      <td>0.0</td>\n",
       "      <td>0.0</td>\n",
       "      <td>0.0</td>\n",
       "      <td>0.0</td>\n",
       "    </tr>\n",
       "    <tr>\n",
       "      <th>1798-03-01</th>\n",
       "      <td>0.0</td>\n",
       "      <td>0.0</td>\n",
       "      <td>0.0</td>\n",
       "      <td>0.0</td>\n",
       "      <td>0.0</td>\n",
       "      <td>0.0</td>\n",
       "      <td>0.0</td>\n",
       "      <td>0.0</td>\n",
       "      <td>0.0</td>\n",
       "      <td>0.0</td>\n",
       "      <td>...</td>\n",
       "      <td>0.0</td>\n",
       "      <td>0.0</td>\n",
       "      <td>0.0</td>\n",
       "      <td>0.0</td>\n",
       "      <td>0.0</td>\n",
       "      <td>0.0</td>\n",
       "      <td>0.0</td>\n",
       "      <td>0.0</td>\n",
       "      <td>0.0</td>\n",
       "      <td>0.0</td>\n",
       "    </tr>\n",
       "    <tr>\n",
       "      <th>1798-04-01</th>\n",
       "      <td>0.0</td>\n",
       "      <td>0.0</td>\n",
       "      <td>0.0</td>\n",
       "      <td>0.0</td>\n",
       "      <td>0.0</td>\n",
       "      <td>0.0</td>\n",
       "      <td>0.0</td>\n",
       "      <td>0.0</td>\n",
       "      <td>0.0</td>\n",
       "      <td>0.0</td>\n",
       "      <td>...</td>\n",
       "      <td>0.0</td>\n",
       "      <td>0.0</td>\n",
       "      <td>0.0</td>\n",
       "      <td>0.0</td>\n",
       "      <td>0.0</td>\n",
       "      <td>0.0</td>\n",
       "      <td>0.0</td>\n",
       "      <td>0.0</td>\n",
       "      <td>0.0</td>\n",
       "      <td>0.0</td>\n",
       "    </tr>\n",
       "    <tr>\n",
       "      <th>1798-05-01</th>\n",
       "      <td>0.0</td>\n",
       "      <td>0.0</td>\n",
       "      <td>5.0</td>\n",
       "      <td>0.0</td>\n",
       "      <td>0.0</td>\n",
       "      <td>0.0</td>\n",
       "      <td>0.0</td>\n",
       "      <td>0.0</td>\n",
       "      <td>0.0</td>\n",
       "      <td>0.0</td>\n",
       "      <td>...</td>\n",
       "      <td>0.0</td>\n",
       "      <td>0.0</td>\n",
       "      <td>0.0</td>\n",
       "      <td>0.0</td>\n",
       "      <td>0.0</td>\n",
       "      <td>0.0</td>\n",
       "      <td>0.0</td>\n",
       "      <td>0.0</td>\n",
       "      <td>0.0</td>\n",
       "      <td>0.0</td>\n",
       "    </tr>\n",
       "    <tr>\n",
       "      <th>1798-06-01</th>\n",
       "      <td>0.0</td>\n",
       "      <td>0.0</td>\n",
       "      <td>0.0</td>\n",
       "      <td>0.0</td>\n",
       "      <td>0.0</td>\n",
       "      <td>0.0</td>\n",
       "      <td>0.0</td>\n",
       "      <td>0.0</td>\n",
       "      <td>0.0</td>\n",
       "      <td>0.0</td>\n",
       "      <td>...</td>\n",
       "      <td>0.0</td>\n",
       "      <td>0.0</td>\n",
       "      <td>0.0</td>\n",
       "      <td>0.0</td>\n",
       "      <td>0.0</td>\n",
       "      <td>0.0</td>\n",
       "      <td>0.0</td>\n",
       "      <td>0.0</td>\n",
       "      <td>0.0</td>\n",
       "      <td>0.0</td>\n",
       "    </tr>\n",
       "  </tbody>\n",
       "</table>\n",
       "<p>5 rows × 43176 columns</p>\n",
       "</div>"
      ],
      "text/plain": [
       "                   -   --  ---  ----  -----  ------  -------  --------  \\\n",
       "1798-02-01  1.0  0.0  0.0  0.0   0.0    0.0     0.0      0.0       0.0   \n",
       "1798-03-01  0.0  0.0  0.0  0.0   0.0    0.0     0.0      0.0       0.0   \n",
       "1798-04-01  0.0  0.0  0.0  0.0   0.0    0.0     0.0      0.0       0.0   \n",
       "1798-05-01  0.0  0.0  5.0  0.0   0.0    0.0     0.0      0.0       0.0   \n",
       "1798-06-01  0.0  0.0  0.0  0.0   0.0    0.0     0.0      0.0       0.0   \n",
       "\n",
       "            --------- ...   —turin  —une  —union  —vingt-quatrième  \\\n",
       "1798-02-01        0.0 ...      0.0   0.0     0.0               0.0   \n",
       "1798-03-01        0.0 ...      0.0   0.0     0.0               0.0   \n",
       "1798-04-01        0.0 ...      0.0   0.0     0.0               0.0   \n",
       "1798-05-01        0.0 ...      0.0   0.0     0.0               0.0   \n",
       "1798-06-01        0.0 ...      0.0   0.0     0.0               0.0   \n",
       "\n",
       "            —vingt-troisième  —voici  —vous  ———  ————  „„„  \n",
       "1798-02-01               0.0     0.0    0.0  0.0   0.0  0.0  \n",
       "1798-03-01               0.0     0.0    0.0  0.0   0.0  0.0  \n",
       "1798-04-01               0.0     0.0    0.0  0.0   0.0  0.0  \n",
       "1798-05-01               0.0     0.0    0.0  0.0   0.0  0.0  \n",
       "1798-06-01               0.0     0.0    0.0  0.0   0.0  0.0  \n",
       "\n",
       "[5 rows x 43176 columns]"
      ]
     },
     "execution_count": 67,
     "metadata": {},
     "output_type": "execute_result"
    }
   ],
   "source": [
    "cleanData3.head()"
   ]
  },
  {
   "cell_type": "markdown",
   "metadata": {},
   "source": [
    "We see that there are still random signes that we were not able to remove we will do that now."
   ]
  },
  {
   "cell_type": "code",
   "execution_count": 72,
   "metadata": {
    "collapsed": false
   },
   "outputs": [
    {
     "data": {
      "text/plain": [
       "Index(['', '-', '--', '---', '----', '-----', '------', '-------', '--------',\n",
       "       '---------', '----------', '-----------', '------------', '--i',\n",
       "       '-arbr', '-c', '-d', '-genève', '-i', '-le', '-s', '-s-', '-tarifs',\n",
       "       '-téléphone', '-—', 'a-', 'a-b', 'a-bu', 'a-ce', 'a-k', 'a-l-il',\n",
       "       'a-l-on', 'a-t', 'a-t-elle', 'a-t-il', 'a-t-on', 'aa-', 'aaa', 'aac',\n",
       "       'aach', 'aacom', 'aal', 'aaland', 'aandoz', 'aap', 'aar', 'aar-tessin'],\n",
       "      dtype='object')"
      ]
     },
     "execution_count": 72,
     "metadata": {},
     "output_type": "execute_result"
    }
   ],
   "source": [
    "cleanData3.columns[0:47]"
   ]
  },
  {
   "cell_type": "code",
   "execution_count": 73,
   "metadata": {
    "collapsed": true
   },
   "outputs": [],
   "source": [
    "cleanData3.drop(cleanData3.columns[0:47],axis=1,inplace=True)"
   ]
  },
  {
   "cell_type": "markdown",
   "metadata": {},
   "source": [
    "We also have the bizarre dash that we can quickly take care of again"
   ]
  },
  {
   "cell_type": "code",
   "execution_count": 74,
   "metadata": {
    "collapsed": false
   },
   "outputs": [
    {
     "data": {
      "text/plain": [
       "Index(['—-a', '—-la', '—-le', '—-on', '—-—', '—adopté', '—alu', '—am',\n",
       "       '—annecy', '—au',\n",
       "       ...\n",
       "       '—trois', '—turin', '—une', '—union', '—vingt-quatrième',\n",
       "       '—vingt-troisième', '—voici', '—vous', '———', '————'],\n",
       "      dtype='object', length=105)"
      ]
     },
     "execution_count": 74,
     "metadata": {},
     "output_type": "execute_result"
    }
   ],
   "source": [
    "cleanData3.columns[np.chararray.startswith(cleanData3.columns.values.astype(str),'—')]"
   ]
  },
  {
   "cell_type": "code",
   "execution_count": 75,
   "metadata": {
    "collapsed": true
   },
   "outputs": [],
   "source": [
    "cleanData3.columns = \\\n",
    "cleanData3.columns.map(lambda x: x[1:] if x.startswith('—') else x)"
   ]
  },
  {
   "cell_type": "code",
   "execution_count": 76,
   "metadata": {
    "collapsed": false
   },
   "outputs": [
    {
     "name": "stdout",
     "output_type": "stream",
     "text": [
      "Before:  (2351, 43129)\n",
      "Before:  (2351, 43051)\n"
     ]
    }
   ],
   "source": [
    "print('Before: ',cleanData3.shape)\n",
    "cleanData4 = cleanData3.groupby(by=cleanData3.columns,axis=1,level=0).agg(sum)\n",
    "print('Before: ',cleanData4.shape)"
   ]
  },
  {
   "cell_type": "code",
   "execution_count": 78,
   "metadata": {
    "collapsed": false
   },
   "outputs": [
    {
     "data": {
      "text/html": [
       "<div>\n",
       "<table border=\"1\" class=\"dataframe\">\n",
       "  <thead>\n",
       "    <tr style=\"text-align: right;\">\n",
       "      <th></th>\n",
       "      <th>-a</th>\n",
       "      <th>-la</th>\n",
       "      <th>-le</th>\n",
       "      <th>-on</th>\n",
       "      <th>-—</th>\n",
       "      <th>aarau</th>\n",
       "      <th>aarberg</th>\n",
       "      <th>aarbourg</th>\n",
       "      <th>aarg</th>\n",
       "      <th>aarhus</th>\n",
       "      <th>...</th>\n",
       "      <th>œil</th>\n",
       "      <th>œillet</th>\n",
       "      <th>œquo</th>\n",
       "      <th>œrlikon</th>\n",
       "      <th>œuf</th>\n",
       "      <th>œur-</th>\n",
       "      <th>œuvre</th>\n",
       "      <th>——</th>\n",
       "      <th>———</th>\n",
       "      <th>„„„</th>\n",
       "    </tr>\n",
       "  </thead>\n",
       "  <tbody>\n",
       "    <tr>\n",
       "      <th>1798-02-01</th>\n",
       "      <td>0.0</td>\n",
       "      <td>0.0</td>\n",
       "      <td>0.0</td>\n",
       "      <td>0.0</td>\n",
       "      <td>1.0</td>\n",
       "      <td>0.0</td>\n",
       "      <td>0.0</td>\n",
       "      <td>0.0</td>\n",
       "      <td>0.0</td>\n",
       "      <td>0.0</td>\n",
       "      <td>...</td>\n",
       "      <td>0.0</td>\n",
       "      <td>0.0</td>\n",
       "      <td>0.0</td>\n",
       "      <td>0.0</td>\n",
       "      <td>0.0</td>\n",
       "      <td>0.0</td>\n",
       "      <td>0.0</td>\n",
       "      <td>0.0</td>\n",
       "      <td>0.0</td>\n",
       "      <td>0.0</td>\n",
       "    </tr>\n",
       "    <tr>\n",
       "      <th>1798-03-01</th>\n",
       "      <td>0.0</td>\n",
       "      <td>0.0</td>\n",
       "      <td>0.0</td>\n",
       "      <td>0.0</td>\n",
       "      <td>0.0</td>\n",
       "      <td>0.0</td>\n",
       "      <td>0.0</td>\n",
       "      <td>0.0</td>\n",
       "      <td>0.0</td>\n",
       "      <td>0.0</td>\n",
       "      <td>...</td>\n",
       "      <td>0.0</td>\n",
       "      <td>0.0</td>\n",
       "      <td>0.0</td>\n",
       "      <td>0.0</td>\n",
       "      <td>0.0</td>\n",
       "      <td>0.0</td>\n",
       "      <td>0.0</td>\n",
       "      <td>0.0</td>\n",
       "      <td>0.0</td>\n",
       "      <td>0.0</td>\n",
       "    </tr>\n",
       "    <tr>\n",
       "      <th>1798-04-01</th>\n",
       "      <td>0.0</td>\n",
       "      <td>0.0</td>\n",
       "      <td>3.0</td>\n",
       "      <td>0.0</td>\n",
       "      <td>0.0</td>\n",
       "      <td>0.0</td>\n",
       "      <td>0.0</td>\n",
       "      <td>0.0</td>\n",
       "      <td>0.0</td>\n",
       "      <td>0.0</td>\n",
       "      <td>...</td>\n",
       "      <td>2.0</td>\n",
       "      <td>0.0</td>\n",
       "      <td>0.0</td>\n",
       "      <td>0.0</td>\n",
       "      <td>0.0</td>\n",
       "      <td>0.0</td>\n",
       "      <td>0.0</td>\n",
       "      <td>0.0</td>\n",
       "      <td>0.0</td>\n",
       "      <td>0.0</td>\n",
       "    </tr>\n",
       "    <tr>\n",
       "      <th>1798-05-01</th>\n",
       "      <td>0.0</td>\n",
       "      <td>0.0</td>\n",
       "      <td>0.0</td>\n",
       "      <td>0.0</td>\n",
       "      <td>0.0</td>\n",
       "      <td>0.0</td>\n",
       "      <td>0.0</td>\n",
       "      <td>0.0</td>\n",
       "      <td>0.0</td>\n",
       "      <td>0.0</td>\n",
       "      <td>...</td>\n",
       "      <td>0.0</td>\n",
       "      <td>0.0</td>\n",
       "      <td>0.0</td>\n",
       "      <td>0.0</td>\n",
       "      <td>0.0</td>\n",
       "      <td>0.0</td>\n",
       "      <td>0.0</td>\n",
       "      <td>0.0</td>\n",
       "      <td>0.0</td>\n",
       "      <td>0.0</td>\n",
       "    </tr>\n",
       "    <tr>\n",
       "      <th>1798-06-01</th>\n",
       "      <td>0.0</td>\n",
       "      <td>0.0</td>\n",
       "      <td>0.0</td>\n",
       "      <td>0.0</td>\n",
       "      <td>0.0</td>\n",
       "      <td>0.0</td>\n",
       "      <td>0.0</td>\n",
       "      <td>0.0</td>\n",
       "      <td>0.0</td>\n",
       "      <td>0.0</td>\n",
       "      <td>...</td>\n",
       "      <td>0.0</td>\n",
       "      <td>0.0</td>\n",
       "      <td>0.0</td>\n",
       "      <td>0.0</td>\n",
       "      <td>0.0</td>\n",
       "      <td>0.0</td>\n",
       "      <td>0.0</td>\n",
       "      <td>0.0</td>\n",
       "      <td>0.0</td>\n",
       "      <td>0.0</td>\n",
       "    </tr>\n",
       "  </tbody>\n",
       "</table>\n",
       "<p>5 rows × 43051 columns</p>\n",
       "</div>"
      ],
      "text/plain": [
       "             -a  -la  -le  -on   -—  aarau  aarberg  aarbourg  aarg  aarhus  \\\n",
       "1798-02-01  0.0  0.0  0.0  0.0  1.0    0.0      0.0       0.0   0.0     0.0   \n",
       "1798-03-01  0.0  0.0  0.0  0.0  0.0    0.0      0.0       0.0   0.0     0.0   \n",
       "1798-04-01  0.0  0.0  3.0  0.0  0.0    0.0      0.0       0.0   0.0     0.0   \n",
       "1798-05-01  0.0  0.0  0.0  0.0  0.0    0.0      0.0       0.0   0.0     0.0   \n",
       "1798-06-01  0.0  0.0  0.0  0.0  0.0    0.0      0.0       0.0   0.0     0.0   \n",
       "\n",
       "           ...   œil  œillet  œquo  œrlikon  œuf  œur-  œuvre   ——  ———  „„„  \n",
       "1798-02-01 ...   0.0     0.0   0.0      0.0  0.0   0.0    0.0  0.0  0.0  0.0  \n",
       "1798-03-01 ...   0.0     0.0   0.0      0.0  0.0   0.0    0.0  0.0  0.0  0.0  \n",
       "1798-04-01 ...   2.0     0.0   0.0      0.0  0.0   0.0    0.0  0.0  0.0  0.0  \n",
       "1798-05-01 ...   0.0     0.0   0.0      0.0  0.0   0.0    0.0  0.0  0.0  0.0  \n",
       "1798-06-01 ...   0.0     0.0   0.0      0.0  0.0   0.0    0.0  0.0  0.0  0.0  \n",
       "\n",
       "[5 rows x 43051 columns]"
      ]
     },
     "execution_count": 78,
     "metadata": {},
     "output_type": "execute_result"
    }
   ],
   "source": [
    "cleanData4.head()"
   ]
  },
  {
   "cell_type": "markdown",
   "metadata": {},
   "source": [
    "It looks like the dataset is a bit more cleaned up!"
   ]
  },
  {
   "cell_type": "code",
   "execution_count": 79,
   "metadata": {
    "collapsed": true
   },
   "outputs": [],
   "source": [
    "cleanData4.to_csv('3kplusWordMonth.csv')"
   ]
  }
 ],
 "metadata": {
  "anaconda-cloud": {},
  "kernelspec": {
   "display_name": "Python [conda root]",
   "language": "python",
   "name": "conda-root-py"
  },
  "language_info": {
   "codemirror_mode": {
    "name": "ipython",
    "version": 3
   },
   "file_extension": ".py",
   "mimetype": "text/x-python",
   "name": "python",
   "nbconvert_exporter": "python",
   "pygments_lexer": "ipython3",
   "version": "3.5.2"
  }
 },
 "nbformat": 4,
 "nbformat_minor": 2
}
