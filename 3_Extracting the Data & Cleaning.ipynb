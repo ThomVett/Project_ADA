{
 "cells": [
  {
   "cell_type": "code",
   "execution_count": 1,
   "metadata": {
    "collapsed": false
   },
   "outputs": [],
   "source": [
    "import os, glob, string, re, datetime\n",
    "from bs4 import BeautifulSoup\n",
    "from nltk.corpus import stopwords\n",
    "import pandas as pd\n",
    "from collections import Counter\n",
    "from tqdm import tqdm\n",
    "import matplotlib.pyplot as plt\n",
    "import numpy as np\n",
    "import seaborn as sns\n",
    "plt.style.use('ggplot')\n",
    "%matplotlib inline"
   ]
  },
  {
   "cell_type": "markdown",
   "metadata": {},
   "source": [
    "# Extracting the Data\n",
    "Know that we have learned that we will not be able to process the data using a Spark pipeline, we will implement here a Python pipeline to read the files.\n",
    "\n",
    "## 1 - Extracting the paths\n",
    "\n",
    "We first have to get all the paths containing the XML files."
   ]
  },
  {
   "cell_type": "code",
   "execution_count": 2,
   "metadata": {
    "collapsed": false
   },
   "outputs": [],
   "source": [
    "GDL = 'GDL'\n",
    "JDG = 'JDG'\n",
    "listFiles = []\n",
    "\n",
    "#Go through all the files of both journals\n",
    "for root, dirs, files in os.walk(GDL): \n",
    "    for file in files:\n",
    "        if file.endswith('.xml'):\n",
    "             listFiles.append(os.path.join(root, file))\n",
    "\n",
    "for root, dirs, files in os.walk(JDG): \n",
    "    for file in files:\n",
    "        if file.endswith('.xml'):\n",
    "             listFiles.append(os.path.join(root, file))"
   ]
  },
  {
   "cell_type": "markdown",
   "metadata": {},
   "source": [
    "Now that we have the path for each file in the dataset, we can work through each of them and count words. We will use the method described in **Filtering the Data.ipynb**\n",
    "\n",
    "## 2 - Extracting the word count\n",
    "Know that we have the paths for all text files, we can read the text and then clean it.\n",
    "\n",
    "First we need the stop words."
   ]
  },
  {
   "cell_type": "code",
   "execution_count": 3,
   "metadata": {
    "collapsed": false
   },
   "outputs": [],
   "source": [
    "stop_words = list(stopwords.words('french'))\n",
    "stop_words.extend(['.', ',', '\"', \"'\", '?', '!', ':', ';', '(', ')', '[', ']',\n",
    "                   '{', '}', '<', '>', '...', '-', '•', '/', '%', '«', '»', 'le',\n",
    "                  'les','..','©','plus','*','``','av','p.','fr','cette','a.','v.','b.','d.',\n",
    "                   'c.','e.','f.','i.','g.','h.','i.','j.','l.','m.','n.','o.','q.','r.','q.',\n",
    "                   's.','t.','u.','v.','w.','x.','z.','y.',\"d'un\",\"d'une\",'dm',\"c'est\",\n",
    "                   \"jusqu'au\",'entre','comme','si','di','„','&',\"qu'il\",'_','fd',\"n'a\",'alors',\n",
    "                   \"s'est\",\"n'est\",'cs','dès','où',\"jusqu'à\",'déjà',\"''\",'|','£','®','+','-«',\n",
    "                   '--','.-',\"la\",'---','-le','-n','î','â'])\n",
    "\n",
    "stop_words.extend(['','-.','.,','(,','»,',').','-.','av.','».',\n",
    "                      '....','..','...','.....','()','(r).','—',')-«',\n",
    "                      '\".','-,','(-.',')-.','(©','™','--','---','—•','•-',\n",
    "                  '•','••','•••','•••','—la','ï',\"'la\",'•—',\n",
    "                  '——','û','ê','ë','ù',\"'la\",'•—','——','—le',\"'''\",\"''\",\n",
    "                  \"'\",\"'le\",\"'la\",\"'i\",'-on',\"•'\",\"'-\",\"-'\",\"a'\",\"'de\",\"'la\",\n",
    "                  \"'â\",\"aa\",\"'-\",\"-de\",\"-et\",'-on','-les',',,,', '——•','•-•',\n",
    "                  '„„','•—•','ils','ont','tous','tout','aussi','ans',\n",
    "                  'on','quelque','dont','ainsi','après','aprè',\n",
    "                  'depuis','deux','dont','leurs','leur','une',\n",
    "                  'fait','faite','non','oui','dit','en',' ',\n",
    "                  '  ','   ','    ','     ','      ','       ','        '])\n",
    "stop_words.extend(list(string.ascii_lowercase))"
   ]
  },
  {
   "cell_type": "markdown",
   "metadata": {},
   "source": [
    "And preparing the dictionaries."
   ]
  },
  {
   "cell_type": "code",
   "execution_count": 4,
   "metadata": {
    "collapsed": false
   },
   "outputs": [],
   "source": [
    "listPunct = list(string.punctuation)\n",
    "listPunct.remove(\"'\")\n",
    "listPunct.remove(\"-\")\n",
    "#we do not want to stick together all the words that\n",
    "#have an apostrophe (l'armée should not become larmée)\n",
    "stopDict = dict(zip(listPunct,['']*len(listPunct)))\n",
    "#We want to break apart words with \"'\" and also replace some\n",
    "#random characters that we saw appeared in the text\n",
    "stopDict[\"'\"] = ' '\n",
    "stopDict[\"•\"] = ''"
   ]
  },
  {
   "cell_type": "markdown",
   "metadata": {},
   "source": [
    "We also need a constant which tells us how many of the most frequent words we take."
   ]
  },
  {
   "cell_type": "code",
   "execution_count": 5,
   "metadata": {
    "collapsed": true
   },
   "outputs": [],
   "source": [
    "numMostFreq = 3000"
   ]
  },
  {
   "cell_type": "markdown",
   "metadata": {},
   "source": [
    "And then we can go through the list to extract the data in each file. We also set a counter to see how long it takes.\n",
    "\n",
    "We first extract the data in 43 different dataframes, otherwise the algorithm's complexity is too high and the process is endless."
   ]
  },
  {
   "cell_type": "code",
   "execution_count": 6,
   "metadata": {
    "collapsed": false
   },
   "outputs": [],
   "source": [
    "total = len(listFiles)\n",
    "allText = []"
   ]
  },
  {
   "cell_type": "code",
   "execution_count": 8,
   "metadata": {
    "collapsed": false
   },
   "outputs": [
    {
     "name": "stderr",
     "output_type": "stream",
     "text": [
      "4335it [11:33:20, 22.15s/it]\n"
     ]
    }
   ],
   "source": [
    "for idx, file in tqdm(enumerate(listFiles)):   \n",
    "    #find the date at which the article is published.\n",
    "    date = pd.to_datetime(file[4:11])\n",
    "    #Open the XML\n",
    "    f = open(file,'r')\n",
    "    soupArticle = BeautifulSoup(f,'lxml')\n",
    "    f.close()\n",
    "    \n",
    "    #Extracting the entire text from the XML\n",
    "    Article = []\n",
    "    for ft in soupArticle.find_all('full_text'):\n",
    "        #Here we lower each words and we remove the numbers from the text\n",
    "        Article.append(re.sub(r'\\d+', '', ft.text).lower())\n",
    "\n",
    "    textArticle = ' '.join(Article)  \n",
    "    \n",
    "    #Cleaning and counting\n",
    "    for k,v in stopDict.items():\n",
    "        textArticle = textArticle.replace(k,v)\n",
    "\n",
    "    dictCounter = [wordsDict for wordsDict in textArticle.split(' ') if wordsDict not in stop_words]\n",
    "    countDict = Counter(dictCounter).most_common(numMostFreq+idx)\n",
    "    \n",
    "    #Transofming to a dataframe\n",
    "    df = pd.DataFrame(countDict).transpose()\n",
    "    df.columns = df.loc[0]\n",
    "    df.drop(0,inplace=True)\n",
    "    df.index = [date]\n",
    "    allText.append(df)\n",
    "    \n",
    "    if idx > 0:\n",
    "        if idx%50 == 0:\n",
    "            dfAllText = pd.concat(allText,axis=0)\n",
    "            dfAllText.to_csv('4_Data/Part_'+str(idx)+'.csv')\n",
    "            del allText\n",
    "            allText = []\n",
    "  "
   ]
  },
  {
   "cell_type": "code",
   "execution_count": 9,
   "metadata": {
    "collapsed": false
   },
   "outputs": [],
   "source": [
    "dfAllText.to_csv('4_Data/Part_end.csv')"
   ]
  },
  {
   "cell_type": "markdown",
   "metadata": {},
   "source": [
    "Now that we have all the separate dataframes we can implement a function to concatenate them together."
   ]
  },
  {
   "cell_type": "code",
   "execution_count": 2,
   "metadata": {
    "collapsed": false
   },
   "outputs": [],
   "source": [
    "csvFiles = []\n",
    "\n",
    "for root, dirs, files in os.walk('4_Data'): \n",
    "    for file in files:\n",
    "        if file.endswith('.csv'):\n",
    "             csvFiles.append(pd.read_csv(os.path.join(root, file),\n",
    "                                         index_col=0))"
   ]
  },
  {
   "cell_type": "markdown",
   "metadata": {},
   "source": [
    "And now we can concatenate all of the separate DataFrames!"
   ]
  },
  {
   "cell_type": "code",
   "execution_count": 3,
   "metadata": {
    "collapsed": false
   },
   "outputs": [],
   "source": [
    "dfFinal = pd.concat(csvFiles,axis=0)"
   ]
  },
  {
   "cell_type": "markdown",
   "metadata": {},
   "source": [
    "Now we look at the results!"
   ]
  },
  {
   "cell_type": "code",
   "execution_count": 7,
   "metadata": {
    "collapsed": false
   },
   "outputs": [
    {
     "name": "stdout",
     "output_type": "stream",
     "text": [
      "Number of words :  275577\n"
     ]
    },
    {
     "data": {
      "text/html": [
       "<div>\n",
       "<table border=\"1\" class=\"dataframe\">\n",
       "  <thead>\n",
       "    <tr style=\"text-align: right;\">\n",
       "      <th></th>\n",
       "      <th>----</th>\n",
       "      <th>-----</th>\n",
       "      <th>------</th>\n",
       "      <th>-------</th>\n",
       "      <th>--------</th>\n",
       "      <th>---------</th>\n",
       "      <th>----------</th>\n",
       "      <th>-----------</th>\n",
       "      <th>------------</th>\n",
       "      <th>-------------</th>\n",
       "      <th>...</th>\n",
       "      <th>„„«</th>\n",
       "      <th>„„»</th>\n",
       "      <th>„„„</th>\n",
       "      <th>„„„„</th>\n",
       "      <th>€</th>\n",
       "      <th>™-</th>\n",
       "      <th>™»</th>\n",
       "      <th>™—</th>\n",
       "      <th>™™</th>\n",
       "      <th>™™»</th>\n",
       "    </tr>\n",
       "  </thead>\n",
       "  <tbody>\n",
       "    <tr>\n",
       "      <th>1806-05-01</th>\n",
       "      <td>NaN</td>\n",
       "      <td>NaN</td>\n",
       "      <td>NaN</td>\n",
       "      <td>NaN</td>\n",
       "      <td>NaN</td>\n",
       "      <td>NaN</td>\n",
       "      <td>NaN</td>\n",
       "      <td>NaN</td>\n",
       "      <td>NaN</td>\n",
       "      <td>NaN</td>\n",
       "      <td>...</td>\n",
       "      <td>NaN</td>\n",
       "      <td>NaN</td>\n",
       "      <td>NaN</td>\n",
       "      <td>NaN</td>\n",
       "      <td>4.0</td>\n",
       "      <td>NaN</td>\n",
       "      <td>NaN</td>\n",
       "      <td>NaN</td>\n",
       "      <td>NaN</td>\n",
       "      <td>NaN</td>\n",
       "    </tr>\n",
       "    <tr>\n",
       "      <th>1806-06-01</th>\n",
       "      <td>NaN</td>\n",
       "      <td>NaN</td>\n",
       "      <td>NaN</td>\n",
       "      <td>NaN</td>\n",
       "      <td>NaN</td>\n",
       "      <td>NaN</td>\n",
       "      <td>NaN</td>\n",
       "      <td>NaN</td>\n",
       "      <td>NaN</td>\n",
       "      <td>NaN</td>\n",
       "      <td>...</td>\n",
       "      <td>NaN</td>\n",
       "      <td>NaN</td>\n",
       "      <td>NaN</td>\n",
       "      <td>NaN</td>\n",
       "      <td>NaN</td>\n",
       "      <td>NaN</td>\n",
       "      <td>NaN</td>\n",
       "      <td>NaN</td>\n",
       "      <td>NaN</td>\n",
       "      <td>NaN</td>\n",
       "    </tr>\n",
       "    <tr>\n",
       "      <th>1806-07-01</th>\n",
       "      <td>NaN</td>\n",
       "      <td>NaN</td>\n",
       "      <td>NaN</td>\n",
       "      <td>NaN</td>\n",
       "      <td>NaN</td>\n",
       "      <td>NaN</td>\n",
       "      <td>NaN</td>\n",
       "      <td>NaN</td>\n",
       "      <td>NaN</td>\n",
       "      <td>NaN</td>\n",
       "      <td>...</td>\n",
       "      <td>NaN</td>\n",
       "      <td>NaN</td>\n",
       "      <td>NaN</td>\n",
       "      <td>NaN</td>\n",
       "      <td>NaN</td>\n",
       "      <td>NaN</td>\n",
       "      <td>NaN</td>\n",
       "      <td>NaN</td>\n",
       "      <td>NaN</td>\n",
       "      <td>NaN</td>\n",
       "    </tr>\n",
       "    <tr>\n",
       "      <th>1806-08-01</th>\n",
       "      <td>NaN</td>\n",
       "      <td>NaN</td>\n",
       "      <td>NaN</td>\n",
       "      <td>NaN</td>\n",
       "      <td>NaN</td>\n",
       "      <td>NaN</td>\n",
       "      <td>NaN</td>\n",
       "      <td>NaN</td>\n",
       "      <td>NaN</td>\n",
       "      <td>NaN</td>\n",
       "      <td>...</td>\n",
       "      <td>NaN</td>\n",
       "      <td>NaN</td>\n",
       "      <td>NaN</td>\n",
       "      <td>NaN</td>\n",
       "      <td>NaN</td>\n",
       "      <td>NaN</td>\n",
       "      <td>NaN</td>\n",
       "      <td>NaN</td>\n",
       "      <td>NaN</td>\n",
       "      <td>NaN</td>\n",
       "    </tr>\n",
       "    <tr>\n",
       "      <th>1806-09-01</th>\n",
       "      <td>NaN</td>\n",
       "      <td>NaN</td>\n",
       "      <td>NaN</td>\n",
       "      <td>NaN</td>\n",
       "      <td>NaN</td>\n",
       "      <td>NaN</td>\n",
       "      <td>NaN</td>\n",
       "      <td>NaN</td>\n",
       "      <td>NaN</td>\n",
       "      <td>NaN</td>\n",
       "      <td>...</td>\n",
       "      <td>NaN</td>\n",
       "      <td>NaN</td>\n",
       "      <td>NaN</td>\n",
       "      <td>NaN</td>\n",
       "      <td>NaN</td>\n",
       "      <td>NaN</td>\n",
       "      <td>NaN</td>\n",
       "      <td>NaN</td>\n",
       "      <td>NaN</td>\n",
       "      <td>NaN</td>\n",
       "    </tr>\n",
       "  </tbody>\n",
       "</table>\n",
       "<p>5 rows × 275577 columns</p>\n",
       "</div>"
      ],
      "text/plain": [
       "            ----  -----  ------  -------  --------  ---------  ----------  \\\n",
       "1806-05-01   NaN    NaN     NaN      NaN       NaN        NaN         NaN   \n",
       "1806-06-01   NaN    NaN     NaN      NaN       NaN        NaN         NaN   \n",
       "1806-07-01   NaN    NaN     NaN      NaN       NaN        NaN         NaN   \n",
       "1806-08-01   NaN    NaN     NaN      NaN       NaN        NaN         NaN   \n",
       "1806-09-01   NaN    NaN     NaN      NaN       NaN        NaN         NaN   \n",
       "\n",
       "            -----------  ------------  ------------- ...   „„«  „„»  „„„  \\\n",
       "1806-05-01          NaN           NaN            NaN ...   NaN  NaN  NaN   \n",
       "1806-06-01          NaN           NaN            NaN ...   NaN  NaN  NaN   \n",
       "1806-07-01          NaN           NaN            NaN ...   NaN  NaN  NaN   \n",
       "1806-08-01          NaN           NaN            NaN ...   NaN  NaN  NaN   \n",
       "1806-09-01          NaN           NaN            NaN ...   NaN  NaN  NaN   \n",
       "\n",
       "            „„„„    €  ™-  ™»  ™—  ™™  ™™»  \n",
       "1806-05-01   NaN  4.0 NaN NaN NaN NaN  NaN  \n",
       "1806-06-01   NaN  NaN NaN NaN NaN NaN  NaN  \n",
       "1806-07-01   NaN  NaN NaN NaN NaN NaN  NaN  \n",
       "1806-08-01   NaN  NaN NaN NaN NaN NaN  NaN  \n",
       "1806-09-01   NaN  NaN NaN NaN NaN NaN  NaN  \n",
       "\n",
       "[5 rows x 275577 columns]"
      ]
     },
     "execution_count": 7,
     "metadata": {},
     "output_type": "execute_result"
    }
   ],
   "source": [
    "print('Number of words : ',dfFinal.shape[1])\n",
    "origShape = dfFinal.shape \n",
    "dfFinal.head()"
   ]
  },
  {
   "cell_type": "markdown",
   "metadata": {},
   "source": [
    "We have a lot of words, as we saw before, we still have a lot of unwanted words and random punctuations signs that we were not able to remove during the cleaning."
   ]
  },
  {
   "cell_type": "code",
   "execution_count": 4,
   "metadata": {
    "collapsed": false
   },
   "outputs": [
    {
     "data": {
      "text/plain": [
       "Index(['----', '-----', '------', '-------', '--------', '---------',\n",
       "       '----------', '-----------', '------------', '-------------',\n",
       "       ...\n",
       "       '„„«', '„„»', '„„„', '„„„„', '€', '™-', '™»', '™—', '™™', '™™»'],\n",
       "      dtype='object', length=275577)"
      ]
     },
     "execution_count": 4,
     "metadata": {},
     "output_type": "execute_result"
    }
   ],
   "source": [
    "dfFinal.columns"
   ]
  },
  {
   "cell_type": "markdown",
   "metadata": {},
   "source": [
    "# First Cleaning Steps\n",
    "\n",
    "We will begin by performing a little bit of rough cleaning before going into NLP cleaning.\n",
    "\n",
    "We begin by getting rid of the columns that have random signs."
   ]
  },
  {
   "cell_type": "code",
   "execution_count": 5,
   "metadata": {
    "collapsed": false
   },
   "outputs": [
    {
     "data": {
      "text/plain": [
       "Index(['----', '-----', '------', '-------', '--------', '---------',\n",
       "       '----------', '-----------', '------------', '-------------',\n",
       "       ...\n",
       "       '-a', '-a-', '-a-bu', '-a-genevjï', '-a-js-hs', '-aabres', '-aalf',\n",
       "       '-aalfa', '-aatr', '-ab'],\n",
       "      dtype='object', length=162)"
      ]
     },
     "execution_count": 5,
     "metadata": {},
     "output_type": "execute_result"
    }
   ],
   "source": [
    "dfFinal.columns[0:162]"
   ]
  },
  {
   "cell_type": "code",
   "execution_count": 6,
   "metadata": {
    "collapsed": false
   },
   "outputs": [
    {
     "data": {
      "text/plain": [
       "(4351, 275415)"
      ]
     },
     "execution_count": 6,
     "metadata": {},
     "output_type": "execute_result"
    }
   ],
   "source": [
    "dfFinal.drop(dfFinal.columns[0:162],axis=1, inplace=True)\n",
    "dfFinal.shape"
   ]
  },
  {
   "cell_type": "code",
   "execution_count": 7,
   "metadata": {
    "collapsed": false
   },
   "outputs": [
    {
     "data": {
      "text/plain": [
       "Index(['—wm', '—wu', '—xe', '—y', '—yamanou', '—yasuda', '—yens', '—ytiord',\n",
       "       '—yverdon', '—z', '—zamb', '—zinc', '—zurich', '—zyma', '—§', '—©',\n",
       "       '—«', '—»', '—à', '—ç', '—é', '—écrasons', '—él', '—éphémérides', '—î',\n",
       "       '—îc', '—îl', '—ï', '—œuvres', '——-', '——bghfr', '——d', '——des',\n",
       "       '——fin', '——grisons', '——les', '——léman', '——ni', '——notre', '——on',\n",
       "       '——s', '———', '———hotel', '————', '—————', '——————', '—„', '„-', '„-„',\n",
       "       '„baraban', '„«', '„»', '„»„', '„étrangers', '„—', '„„«', '„„»', '„„„',\n",
       "       '„„„„', '€', '™-', '™»', '™—', '™™', '™™»'],\n",
       "      dtype='object')"
      ]
     },
     "execution_count": 7,
     "metadata": {},
     "output_type": "execute_result"
    }
   ],
   "source": [
    "dfFinal.columns[275350:]"
   ]
  },
  {
   "cell_type": "code",
   "execution_count": 8,
   "metadata": {
    "collapsed": false
   },
   "outputs": [
    {
     "data": {
      "text/plain": [
       "(4351, 275350)"
      ]
     },
     "execution_count": 8,
     "metadata": {},
     "output_type": "execute_result"
    }
   ],
   "source": [
    "dfFinal.drop(dfFinal.columns[275350:],axis=1, inplace=True)\n",
    "dfFinal.shape"
   ]
  },
  {
   "cell_type": "markdown",
   "metadata": {},
   "source": [
    "And we also see that we have two indexes per month, therefore we can groupby."
   ]
  },
  {
   "cell_type": "code",
   "execution_count": 9,
   "metadata": {
    "collapsed": false
   },
   "outputs": [],
   "source": [
    "dfFinal = dfFinal.fillna(0)\n",
    "year = dfFinal.groupby(by='index',level=0)"
   ]
  },
  {
   "cell_type": "markdown",
   "metadata": {
    "collapsed": true
   },
   "source": [
    "And aggregate per year."
   ]
  },
  {
   "cell_type": "code",
   "execution_count": 10,
   "metadata": {
    "collapsed": false
   },
   "outputs": [
    {
     "data": {
      "text/html": [
       "<div>\n",
       "<table border=\"1\" class=\"dataframe\">\n",
       "  <thead>\n",
       "    <tr style=\"text-align: right;\">\n",
       "      <th></th>\n",
       "      <th>-absence</th>\n",
       "      <th>-ac-dc</th>\n",
       "      <th>-accepter</th>\n",
       "      <th>-accepté</th>\n",
       "      <th>-accu</th>\n",
       "      <th>-accueil</th>\n",
       "      <th>-accumulés</th>\n",
       "      <th>-achats</th>\n",
       "      <th>-actes</th>\n",
       "      <th>-action</th>\n",
       "      <th>...</th>\n",
       "      <th>—vrenell</th>\n",
       "      <th>—vu</th>\n",
       "      <th>—vubochet</th>\n",
       "      <th>—w</th>\n",
       "      <th>—wag</th>\n",
       "      <th>—wartek</th>\n",
       "      <th>—west</th>\n",
       "      <th>—winterth</th>\n",
       "      <th>—winterthur</th>\n",
       "      <th>—wlnterth</th>\n",
       "    </tr>\n",
       "  </thead>\n",
       "  <tbody>\n",
       "    <tr>\n",
       "      <th>1798-02-01</th>\n",
       "      <td>0.0</td>\n",
       "      <td>0.0</td>\n",
       "      <td>0.0</td>\n",
       "      <td>0.0</td>\n",
       "      <td>0.0</td>\n",
       "      <td>0.0</td>\n",
       "      <td>0.0</td>\n",
       "      <td>0.0</td>\n",
       "      <td>0.0</td>\n",
       "      <td>0.0</td>\n",
       "      <td>...</td>\n",
       "      <td>0.0</td>\n",
       "      <td>0.0</td>\n",
       "      <td>0.0</td>\n",
       "      <td>0.0</td>\n",
       "      <td>0.0</td>\n",
       "      <td>0.0</td>\n",
       "      <td>0.0</td>\n",
       "      <td>0.0</td>\n",
       "      <td>0.0</td>\n",
       "      <td>0.0</td>\n",
       "    </tr>\n",
       "    <tr>\n",
       "      <th>1798-03-01</th>\n",
       "      <td>0.0</td>\n",
       "      <td>0.0</td>\n",
       "      <td>0.0</td>\n",
       "      <td>0.0</td>\n",
       "      <td>0.0</td>\n",
       "      <td>0.0</td>\n",
       "      <td>0.0</td>\n",
       "      <td>0.0</td>\n",
       "      <td>0.0</td>\n",
       "      <td>0.0</td>\n",
       "      <td>...</td>\n",
       "      <td>0.0</td>\n",
       "      <td>0.0</td>\n",
       "      <td>0.0</td>\n",
       "      <td>0.0</td>\n",
       "      <td>0.0</td>\n",
       "      <td>0.0</td>\n",
       "      <td>0.0</td>\n",
       "      <td>0.0</td>\n",
       "      <td>0.0</td>\n",
       "      <td>0.0</td>\n",
       "    </tr>\n",
       "    <tr>\n",
       "      <th>1798-04-01</th>\n",
       "      <td>0.0</td>\n",
       "      <td>0.0</td>\n",
       "      <td>0.0</td>\n",
       "      <td>0.0</td>\n",
       "      <td>0.0</td>\n",
       "      <td>0.0</td>\n",
       "      <td>0.0</td>\n",
       "      <td>0.0</td>\n",
       "      <td>0.0</td>\n",
       "      <td>0.0</td>\n",
       "      <td>...</td>\n",
       "      <td>0.0</td>\n",
       "      <td>0.0</td>\n",
       "      <td>0.0</td>\n",
       "      <td>0.0</td>\n",
       "      <td>0.0</td>\n",
       "      <td>0.0</td>\n",
       "      <td>0.0</td>\n",
       "      <td>0.0</td>\n",
       "      <td>0.0</td>\n",
       "      <td>0.0</td>\n",
       "    </tr>\n",
       "    <tr>\n",
       "      <th>1798-05-01</th>\n",
       "      <td>0.0</td>\n",
       "      <td>0.0</td>\n",
       "      <td>0.0</td>\n",
       "      <td>0.0</td>\n",
       "      <td>0.0</td>\n",
       "      <td>0.0</td>\n",
       "      <td>0.0</td>\n",
       "      <td>0.0</td>\n",
       "      <td>0.0</td>\n",
       "      <td>0.0</td>\n",
       "      <td>...</td>\n",
       "      <td>0.0</td>\n",
       "      <td>0.0</td>\n",
       "      <td>0.0</td>\n",
       "      <td>0.0</td>\n",
       "      <td>0.0</td>\n",
       "      <td>0.0</td>\n",
       "      <td>0.0</td>\n",
       "      <td>0.0</td>\n",
       "      <td>0.0</td>\n",
       "      <td>0.0</td>\n",
       "    </tr>\n",
       "    <tr>\n",
       "      <th>1798-06-01</th>\n",
       "      <td>0.0</td>\n",
       "      <td>0.0</td>\n",
       "      <td>0.0</td>\n",
       "      <td>0.0</td>\n",
       "      <td>0.0</td>\n",
       "      <td>0.0</td>\n",
       "      <td>0.0</td>\n",
       "      <td>0.0</td>\n",
       "      <td>0.0</td>\n",
       "      <td>0.0</td>\n",
       "      <td>...</td>\n",
       "      <td>0.0</td>\n",
       "      <td>0.0</td>\n",
       "      <td>0.0</td>\n",
       "      <td>0.0</td>\n",
       "      <td>0.0</td>\n",
       "      <td>0.0</td>\n",
       "      <td>0.0</td>\n",
       "      <td>0.0</td>\n",
       "      <td>0.0</td>\n",
       "      <td>0.0</td>\n",
       "    </tr>\n",
       "  </tbody>\n",
       "</table>\n",
       "<p>5 rows × 275350 columns</p>\n",
       "</div>"
      ],
      "text/plain": [
       "            -absence  -ac-dc  -accepter  -accepté  -accu  -accueil  \\\n",
       "1798-02-01       0.0     0.0        0.0       0.0    0.0       0.0   \n",
       "1798-03-01       0.0     0.0        0.0       0.0    0.0       0.0   \n",
       "1798-04-01       0.0     0.0        0.0       0.0    0.0       0.0   \n",
       "1798-05-01       0.0     0.0        0.0       0.0    0.0       0.0   \n",
       "1798-06-01       0.0     0.0        0.0       0.0    0.0       0.0   \n",
       "\n",
       "            -accumulés  -achats  -actes  -action    ...      —vrenell  —vu  \\\n",
       "1798-02-01         0.0      0.0     0.0      0.0    ...           0.0  0.0   \n",
       "1798-03-01         0.0      0.0     0.0      0.0    ...           0.0  0.0   \n",
       "1798-04-01         0.0      0.0     0.0      0.0    ...           0.0  0.0   \n",
       "1798-05-01         0.0      0.0     0.0      0.0    ...           0.0  0.0   \n",
       "1798-06-01         0.0      0.0     0.0      0.0    ...           0.0  0.0   \n",
       "\n",
       "            —vubochet   —w  —wag  —wartek  —west  —winterth  —winterthur  \\\n",
       "1798-02-01        0.0  0.0   0.0      0.0    0.0        0.0          0.0   \n",
       "1798-03-01        0.0  0.0   0.0      0.0    0.0        0.0          0.0   \n",
       "1798-04-01        0.0  0.0   0.0      0.0    0.0        0.0          0.0   \n",
       "1798-05-01        0.0  0.0   0.0      0.0    0.0        0.0          0.0   \n",
       "1798-06-01        0.0  0.0   0.0      0.0    0.0        0.0          0.0   \n",
       "\n",
       "            —wlnterth  \n",
       "1798-02-01        0.0  \n",
       "1798-03-01        0.0  \n",
       "1798-04-01        0.0  \n",
       "1798-05-01        0.0  \n",
       "1798-06-01        0.0  \n",
       "\n",
       "[5 rows x 275350 columns]"
      ]
     },
     "execution_count": 10,
     "metadata": {},
     "output_type": "execute_result"
    }
   ],
   "source": [
    "yearData = year.agg(sum)\n",
    "yearData.head()"
   ]
  },
  {
   "cell_type": "markdown",
   "metadata": {},
   "source": [
    "Setting the index in datetime to be able to plot dates."
   ]
  },
  {
   "cell_type": "code",
   "execution_count": 11,
   "metadata": {
    "collapsed": false
   },
   "outputs": [],
   "source": [
    "yearData.index = pd.to_datetime(yearData.index)\n",
    "yearIndex = yearData.index"
   ]
  },
  {
   "cell_type": "code",
   "execution_count": 35,
   "metadata": {
    "collapsed": false
   },
   "outputs": [],
   "source": [
    "sumYear = yearData.sum(axis=1)"
   ]
  },
  {
   "cell_type": "code",
   "execution_count": 38,
   "metadata": {
    "collapsed": false
   },
   "outputs": [
    {
     "data": {
      "text/plain": [
       "[<matplotlib.lines.Line2D at 0x1443de710>]"
      ]
     },
     "execution_count": 38,
     "metadata": {},
     "output_type": "execute_result"
    },
    {
     "data": {
      "image/png": "[encoded data removed]",
      "text/plain": [
       "<matplotlib.figure.Figure at 0x13bb7ac50>"
      ]
     },
     "metadata": {},
     "output_type": "display_data"
    }
   ],
   "source": [
    "plt.plot_date(yearIndex,sumYear.values)"
   ]
  },
  {
   "cell_type": "code",
   "execution_count": 39,
   "metadata": {
    "collapsed": false
   },
   "outputs": [
    {
     "data": {
      "text/plain": [
       "[<matplotlib.lines.Line2D at 0x1221b17b8>]"
      ]
     },
     "execution_count": 39,
     "metadata": {},
     "output_type": "execute_result"
    },
    {
     "data": {
      "image/png": "[encoded data removed]",
      "text/plain": [
       "<matplotlib.figure.Figure at 0x143b6db38>"
      ]
     },
     "metadata": {},
     "output_type": "display_data"
    }
   ],
   "source": [
    "plt.plot_date(yearIndex[1500:1550],yearData['hiver'].values[1500:1550])"
   ]
  },
  {
   "cell_type": "markdown",
   "metadata": {
    "collapsed": true
   },
   "source": [
    "### Other Cleaning Steps\n",
    "\n",
    "To facilitate the transfer of data between steps we will do most of the cleaning here.\n",
    "\n",
    "1. Remove words of two letters"
   ]
  },
  {
   "cell_type": "code",
   "execution_count": 13,
   "metadata": {
    "collapsed": false
   },
   "outputs": [
    {
     "name": "stdout",
     "output_type": "stream",
     "text": [
      "Shape before the removal : (4351, 275350)\n",
      "We will remove  1318  columns\n",
      "Shape after removal :  (4351, 274032)\n"
     ]
    }
   ],
   "source": [
    "print('Shape before the removal :', dfFinal.shape)\n",
    "colLength = dfFinal.columns.map(lambda x: len(x))\n",
    "print('We will remove ', len(colLength[colLength<3]),' columns')\n",
    "dfFinal = dfFinal.drop(dfFinal.columns[colLength<3],axis=1)\n",
    "print('Shape after removal : ',dfFinal.shape)"
   ]
  },
  {
   "cell_type": "markdown",
   "metadata": {},
   "source": [
    "Let's take a look at the minimum number of times one word appears each year."
   ]
  },
  {
   "cell_type": "code",
   "execution_count": 14,
   "metadata": {
    "collapsed": false
   },
   "outputs": [
    {
     "data": {
      "text/plain": [
       "1806-05-01     3.0\n",
       "1806-06-01     2.0\n",
       "1806-07-01     2.0\n",
       "1806-08-01     3.0\n",
       "1806-09-01     3.0\n",
       "1806-10-01     3.0\n",
       "1806-11-01     3.0\n",
       "1806-12-01     3.0\n",
       "1807-01-01     3.0\n",
       "1807-02-01     3.0\n",
       "1807-03-01     3.0\n",
       "1807-04-01     2.0\n",
       "1807-05-01     3.0\n",
       "1807-06-01     3.0\n",
       "1807-07-01     3.0\n",
       "1807-08-01     2.0\n",
       "1807-09-01     3.0\n",
       "1807-10-01     3.0\n",
       "1807-11-01     2.0\n",
       "1807-12-01     2.0\n",
       "1808-01-01     1.0\n",
       "1808-02-01     1.0\n",
       "1808-03-01     1.0\n",
       "1808-04-01     2.0\n",
       "1808-05-01     1.0\n",
       "1808-06-01     1.0\n",
       "1808-07-01     2.0\n",
       "1808-08-01     2.0\n",
       "1808-09-01     2.0\n",
       "1808-10-01     1.0\n",
       "              ... \n",
       "1992-11-01    18.0\n",
       "1992-12-01    18.0\n",
       "1993-01-01    17.0\n",
       "1993-02-01    17.0\n",
       "1993-03-01    19.0\n",
       "1993-04-01    17.0\n",
       "1993-05-01    18.0\n",
       "1993-06-01    19.0\n",
       "1993-07-01    18.0\n",
       "1993-08-01    16.0\n",
       "1993-09-01    18.0\n",
       "1993-10-01    18.0\n",
       "1993-11-01    18.0\n",
       "1993-12-01    19.0\n",
       "1994-01-01    17.0\n",
       "1994-02-01    18.0\n",
       "1994-03-01    20.0\n",
       "1994-04-01    15.0\n",
       "1994-05-01    17.0\n",
       "1994-06-01    20.0\n",
       "1994-07-01    18.0\n",
       "1994-08-01    17.0\n",
       "1994-09-01    19.0\n",
       "1994-10-01    19.0\n",
       "1994-11-01    19.0\n",
       "1994-12-01    19.0\n",
       "1995-01-01    18.0\n",
       "1995-02-01    17.0\n",
       "1995-03-01    20.0\n",
       "1995-04-01    17.0\n",
       "dtype: float64"
      ]
     },
     "execution_count": 14,
     "metadata": {},
     "output_type": "execute_result"
    }
   ],
   "source": [
    "dfFinal[dfFinal>0].min(axis=1)"
   ]
  },
  {
   "cell_type": "markdown",
   "metadata": {},
   "source": [
    "We can see that by taking more and more words over the years we were able to capture a very large part of the long tail distribution!"
   ]
  },
  {
   "cell_type": "markdown",
   "metadata": {},
   "source": [
    "2. Remove words that are only present less than fifteen times in the entire dataset. Even if we they should be grouped with another word (based on plural, singular or other grouping method) as their number is really small it will not affect the total a lot."
   ]
  },
  {
   "cell_type": "code",
   "execution_count": 15,
   "metadata": {
    "collapsed": true
   },
   "outputs": [],
   "source": [
    "sumWords = dfFinal.sum(axis=0)"
   ]
  },
  {
   "cell_type": "code",
   "execution_count": 16,
   "metadata": {
    "collapsed": false
   },
   "outputs": [
    {
     "name": "stdout",
     "output_type": "stream",
     "text": [
      "Number of columns that will be removed:  151824\n"
     ]
    }
   ],
   "source": [
    "print('Number of columns that will be removed: ',(sumWords<15).sum())\n",
    "dfFinal.drop(dfFinal.columns[(sumWords<15).values],axis=1,inplace=True)"
   ]
  },
  {
   "cell_type": "markdown",
   "metadata": {},
   "source": [
    "### The columns that begin by '-'\n",
    "\n",
    "Because we wanted to keep words such as week-end, we have a certain number of columns that start with '-' and a word, we will remove the dash."
   ]
  },
  {
   "cell_type": "code",
   "execution_count": 17,
   "metadata": {
    "collapsed": false
   },
   "outputs": [],
   "source": [
    "colName = dfFinal.columns.map(lambda x: x[1:] if str(x).startswith('-') else x)\n",
    "dfFinal.columns = colName"
   ]
  },
  {
   "cell_type": "markdown",
   "metadata": {},
   "source": [
    "For the ones that end with a dash."
   ]
  },
  {
   "cell_type": "code",
   "execution_count": 18,
   "metadata": {
    "collapsed": false
   },
   "outputs": [],
   "source": [
    "endNames = dfFinal.columns.map(lambda x: x[1:] if str(x).endswith('-') else x)\n",
    "dfFinal.columns = endNames"
   ]
  },
  {
   "cell_type": "markdown",
   "metadata": {},
   "source": [
    "And we groupby."
   ]
  },
  {
   "cell_type": "code",
   "execution_count": 20,
   "metadata": {
    "collapsed": false
   },
   "outputs": [
    {
     "name": "stdout",
     "output_type": "stream",
     "text": [
      "Shape Before Groupby : (4351, 122208)\n",
      "Shape Before Groupby : (4351, 120770)\n"
     ]
    }
   ],
   "source": [
    "print('Shape Before Groupby :', dfFinal.shape)\n",
    "dfFinal1 = dfFinal.groupby(by=dfFinal.columns,axis=1,level=0).agg(sum)\n",
    "print('Shape Before Groupby :', dfFinal1.shape)"
   ]
  },
  {
   "cell_type": "markdown",
   "metadata": {},
   "source": [
    "### Dealing with adverbs\n",
    "\n",
    "We will group words with theit adverb (word and word + ement)"
   ]
  },
  {
   "cell_type": "code",
   "execution_count": 21,
   "metadata": {
    "collapsed": true
   },
   "outputs": [],
   "source": [
    "adverbs = dfFinal1.columns.map(lambda x: x[:-5] if str(x).endswith('ement') else x)\n",
    "dfFinal1.columns = adverbs"
   ]
  },
  {
   "cell_type": "markdown",
   "metadata": {},
   "source": [
    "And another groupby"
   ]
  },
  {
   "cell_type": "code",
   "execution_count": 24,
   "metadata": {
    "collapsed": false
   },
   "outputs": [
    {
     "name": "stdout",
     "output_type": "stream",
     "text": [
      "Shape Before Groupby : (4351, 122208)\n",
      "Shape Before Groupby : (4351, 120546)\n"
     ]
    }
   ],
   "source": [
    "print('Shape Before Groupby :', dfFinal.shape)\n",
    "dfFinal2 = dfFinal1.groupby(by=dfFinal1.columns,axis=1,level=0).agg(sum)\n",
    "print('Shape Before Groupby :', dfFinal2.shape)"
   ]
  },
  {
   "cell_type": "markdown",
   "metadata": {
    "collapsed": true
   },
   "source": [
    "### Merging singular and plural words\n",
    "\n",
    "As we were not satisfied by the NLTK work on the french language, we will implement our own small algorithm to merge similar words together. We start were merging singular and plural words."
   ]
  },
  {
   "cell_type": "code",
   "execution_count": 25,
   "metadata": {
    "collapsed": true
   },
   "outputs": [],
   "source": [
    "wordCountMontClean2 = dfFinal2.copy()\n",
    "#Getting the words\n",
    "columnNames = wordCountMontClean2.columns.map(lambda x: str(x))"
   ]
  },
  {
   "cell_type": "markdown",
   "metadata": {},
   "source": [
    "Let's look up a few of the column titles."
   ]
  },
  {
   "cell_type": "code",
   "execution_count": 26,
   "metadata": {
    "collapsed": false
   },
   "outputs": [
    {
     "data": {
      "text/plain": [
       "array(['abadie', 'abaiss', 'abaisse', 'abaissent', 'abaisser', 'abaissé',\n",
       "       'abaissée', 'abakanowicz', 'abako', 'abandon', 'abandonna',\n",
       "       'abandonnait', 'abandonnant', 'abandonne', 'abandonnent',\n",
       "       'abandonner', 'abandonnera', 'abandonnerait', 'abandonnons',\n",
       "       'abandonné'], dtype=object)"
      ]
     },
     "execution_count": 26,
     "metadata": {},
     "output_type": "execute_result"
    }
   ],
   "source": [
    "columnNames[100:120]"
   ]
  },
  {
   "cell_type": "markdown",
   "metadata": {},
   "source": [
    "As we can see, the plural of a word comes normally just after it's singular, we therefore do not have to check all of the other words for plurals."
   ]
  },
  {
   "cell_type": "code",
   "execution_count": 27,
   "metadata": {
    "collapsed": false
   },
   "outputs": [
    {
     "name": "stdout",
     "output_type": "stream",
     "text": [
      "Number of Singular-Plural word pairs :  10258\n",
      "['abandonné', 'abandonnée', 'abatage', 'abattoir', 'abattu', 'abattue', 'abba']\n",
      "['abandonnés', 'abandonnées', 'abatages', 'abattoirs', 'abattus', 'abattues', 'abbas']\n"
     ]
    }
   ],
   "source": [
    "sing = []\n",
    "plural = []\n",
    "for i in range(len(columnNames)):\n",
    "    col = columnNames[i]\n",
    "    colPlur = col+'s'\n",
    "    colPlurX = col+'x'\n",
    "    if (i+5) > (len(columnNames) - 1):\n",
    "        lastEl =  len(columnNames) - 1\n",
    "    else:\n",
    "        lastEl = i+5\n",
    "    for plur in columnNames[i:lastEl]:\n",
    "        if (colPlur == plur) or (colPlurX == plur):\n",
    "            sing.append(col)\n",
    "            plural.append(plur)\n",
    "\n",
    "print('Number of Singular-Plural word pairs : ', len(dict(zip(sing,plural))))\n",
    "#We have to remove the jouis and jouiss pairs because, jouis will already be removed with the joui pair\n",
    "#pluralWords.pop(1329)\n",
    "singPlurDict = dict(zip(plural,sing))\n",
    "print(sing[:7])\n",
    "print(plural[:7])"
   ]
  },
  {
   "cell_type": "markdown",
   "metadata": {},
   "source": [
    "Now that we have that we can replace the column names and then groupby so that we merge the data from the two words."
   ]
  },
  {
   "cell_type": "code",
   "execution_count": 28,
   "metadata": {
    "collapsed": true
   },
   "outputs": [],
   "source": [
    "wordCountMontClean2.rename(columns = singPlurDict,inplace=True)\n",
    "cleanData = wordCountMontClean2.groupby(by=wordCountMontClean2.columns,axis=1,level=0).agg(sum)"
   ]
  },
  {
   "cell_type": "markdown",
   "metadata": {},
   "source": [
    "Now we look at the masculine and feminine version of words and of the verbs and their infinitif."
   ]
  },
  {
   "cell_type": "code",
   "execution_count": 29,
   "metadata": {
    "collapsed": true
   },
   "outputs": [],
   "source": [
    "newCol = cleanData.columns.values"
   ]
  },
  {
   "cell_type": "code",
   "execution_count": 30,
   "metadata": {
    "collapsed": false
   },
   "outputs": [
    {
     "name": "stdout",
     "output_type": "stream",
     "text": [
      "Number of fem singular, verbs word pairs :  5941\n",
      "['aat', 'aatr', 'abaiss', 'abaisse', 'abaissé', 'abandonne', 'abandonné']\n",
      "['aatr', 'aatre', 'abaisse', 'abaisser', 'abaissée', 'abandonner', 'abandonnée']\n"
     ]
    }
   ],
   "source": [
    "fem = []\n",
    "masc = []\n",
    "\n",
    "for i in range(len(newCol)):\n",
    "    col = newCol[i]\n",
    "    colfem= col+'e'\n",
    "    infVerb = col+'r'\n",
    "    if (i+5) > (len(newCol) - 1):\n",
    "        lastEl =  len(newCol) - 1\n",
    "    else:\n",
    "        lastEl = i+5\n",
    "    for plur in newCol[i:lastEl]:\n",
    "        if (colfem == plur) or (infVerb == plur):\n",
    "            masc.append(col)\n",
    "            fem.append(plur)\n",
    "\n",
    "dictFM = dict(zip(masc,fem))\n",
    "print('Number of fem singular, verbs word pairs : ', len(dictFM))\n",
    "print(masc[:7])\n",
    "print(fem[:7])"
   ]
  },
  {
   "cell_type": "markdown",
   "metadata": {},
   "source": [
    "And we groupby again."
   ]
  },
  {
   "cell_type": "code",
   "execution_count": 31,
   "metadata": {
    "collapsed": true
   },
   "outputs": [],
   "source": [
    "cleanData.rename(columns = dictFM,inplace=True)\n",
    "cleanData1 = cleanData.groupby(by=cleanData.columns,axis=1,level=0).agg(sum)"
   ]
  },
  {
   "cell_type": "markdown",
   "metadata": {},
   "source": [
    "Let's take a look at the verbs."
   ]
  },
  {
   "cell_type": "code",
   "execution_count": 32,
   "metadata": {
    "collapsed": false
   },
   "outputs": [
    {
     "name": "stdout",
     "output_type": "stream",
     "text": [
      "Number of fem singular, verbs word pairs :  702\n",
      "['accueilli', 'accuse', 'accusé', 'accéléré', 'achalandé', 'acharné', 'achete']\n",
      "['accueillir', 'accuser', 'accusée', 'accélérée', 'achalandée', 'acharnée', 'acheter']\n"
     ]
    }
   ],
   "source": [
    "verb = []\n",
    "conj = []\n",
    "\n",
    "for i in range(len(cleanData1.columns)):\n",
    "    col = cleanData1.columns[i]\n",
    "    infVerb = col[:-1]+'er'\n",
    "    if (i+5) > (len(cleanData1.columns) - 1):\n",
    "        lastEl =  len(cleanData1.columns) - 1\n",
    "    else:\n",
    "        lastEl = i+5\n",
    "    for plur in cleanData1.columns[i:lastEl]:\n",
    "        if (infVerb == plur):\n",
    "            verb.append(col)\n",
    "            conj.append(plur)\n",
    "\n",
    "dictVC = dict(zip(verb,conj))\n",
    "print('Number of fem singular, verbs word pairs : ', len(dictVC))\n",
    "print(masc[50:57])\n",
    "print(fem[50:57])"
   ]
  },
  {
   "cell_type": "code",
   "execution_count": 33,
   "metadata": {
    "collapsed": true
   },
   "outputs": [],
   "source": [
    "cleanData1.rename(columns = dictVC,inplace=True)"
   ]
  },
  {
   "cell_type": "markdown",
   "metadata": {},
   "source": [
    "We also want to replace \"participe passé\" feminine to the infinitif verb."
   ]
  },
  {
   "cell_type": "code",
   "execution_count": 34,
   "metadata": {
    "collapsed": false
   },
   "outputs": [
    {
     "name": "stdout",
     "output_type": "stream",
     "text": [
      "Index(['abaissée', 'abandonnée', 'abonnée', 'abordée', 'abritée', 'abrogée',\n",
      "       'abrégée', 'absorbée', 'accentuée', 'acceptée',\n",
      "       ...\n",
      "       'étonnée', 'étouffée', 'étudiée', 'évacuée', 'évaluée', 'éveillée',\n",
      "       'évitée', 'évoquée', '—méditerranée', '—sodée'],\n",
      "      dtype='object', length=1113)\n"
     ]
    }
   ],
   "source": [
    "print(cleanData1.columns[np.chararray.endswith(cleanData1.columns.values.astype(str),'ée')])"
   ]
  },
  {
   "cell_type": "code",
   "execution_count": 35,
   "metadata": {
    "collapsed": true
   },
   "outputs": [],
   "source": [
    "cleanData1.columns = cleanData1.columns.map(lambda x: x[:-2]+'er' if str(x).endswith('ée') else x)"
   ]
  },
  {
   "cell_type": "markdown",
   "metadata": {},
   "source": [
    "And then we can groupby again."
   ]
  },
  {
   "cell_type": "code",
   "execution_count": 36,
   "metadata": {
    "collapsed": false
   },
   "outputs": [
    {
     "data": {
      "text/plain": [
       "(4351, 103414)"
      ]
     },
     "execution_count": 36,
     "metadata": {},
     "output_type": "execute_result"
    }
   ],
   "source": [
    "cleanData2 = cleanData1.groupby(by=cleanData1.columns,axis=1,level=0).agg(sum)\n",
    "cleanData2.shape"
   ]
  },
  {
   "cell_type": "markdown",
   "metadata": {},
   "source": [
    "We can see that our dataset is still very large, but those operations manage to reduce its size without loosing information!\n",
    "\n",
    "Now that we have tried not to loose too much of information by trying to merge words that have the same meaning we can start doing some more direct actions."
   ]
  },
  {
   "cell_type": "markdown",
   "metadata": {},
   "source": [
    "### Dealing with missing data\n",
    "\n",
    "One of the problem that we have for our dataset is that there are some months were a word count is missing (for some words). When importing the data we had to choose a frequency limit, and we did not save words that appeared below this limit. Due to the long tail distribution of the data words that have a fequency near the limit can be above it in one month and below it in the other month, therefore we will have a lot of missing values for this word.\n",
    "\n",
    "For furutre predictions and visualization we are more interested in the general shape of the time series, and not the few months in between where the word is missing, therefore it could be interesting to interpolate the missing data.\n",
    "\n",
    "But there are also words that are only in present only in a few months and not more. We do not need these words as they are not interesting to predict and do not bring an interesting visualizations.\n",
    "\n",
    "Due to the fact that we have made some aggregations in the previous steps, we assume that removing words that do not occur very often will not loose information about the other words. We choose to remove words that only appear in 10 different months or less."
   ]
  },
  {
   "cell_type": "code",
   "execution_count": 37,
   "metadata": {
    "collapsed": true
   },
   "outputs": [],
   "source": [
    "cleanData3 = cleanData2.copy()\n",
    "numMonth = cleanData3.astype(bool).sum(axis=0).values"
   ]
  },
  {
   "cell_type": "markdown",
   "metadata": {},
   "source": [
    "Let's look at which words are in this situations."
   ]
  },
  {
   "cell_type": "code",
   "execution_count": 38,
   "metadata": {
    "collapsed": false
   },
   "outputs": [
    {
     "data": {
      "text/plain": [
       "Index(['-fr-', '-o-', 'a-ah', 'a-an', 'a-cour', 'a-fauquez', 'a-l-elle',\n",
       "       'a-la', 'a-m', 'a-mention', 'a-service', 'a-t-i', 'a-x', 'aaaa',\n",
       "       'aaaactions', 'aaag', 'aaat', 'aab', 'aacn', 'aacv', 'aadorf', 'aae',\n",
       "       'aaf', 'aai', 'aairl', 'aalandais', 'aalborg', 'aalesund', 'aali',\n",
       "       'aali-pacha', 'aan', 'aandeelen', 'aara', 'aarait', 'aaran', 'aardman',\n",
       "       'aargauerstalden', 'aarifi', 'aarnus', 'aaro', 'aart', 'aarwangen',\n",
       "       'aas', 'aasan', 'aasenstein', 'aassi', 'aast', 'aatna', 'aatra'],\n",
       "      dtype='object')"
      ]
     },
     "execution_count": 38,
     "metadata": {},
     "output_type": "execute_result"
    }
   ],
   "source": [
    "cleanData3.columns[numMonth<10][1:50]"
   ]
  },
  {
   "cell_type": "code",
   "execution_count": 39,
   "metadata": {
    "collapsed": false
   },
   "outputs": [
    {
     "data": {
      "text/plain": [
       "Index(['aldobrandi', 'aldoncita', 'aldonza', 'aldous', 'aldrich', 'aldrin',\n",
       "       'aldsi', 'aldy', 'alea', 'aleandro', 'alecha', 'alechinsky', 'aleck',\n",
       "       'alegria', 'aleide', 'aleijadinho', 'alekhine', 'aleko', 'aleko-pacha',\n",
       "       'aleksandar', 'alelouyeva', 'aleman', 'alena', 'alerter', 'alertés',\n",
       "       'aleschka', 'alesia', 'alessandri', 'alessandrini', 'alessia',\n",
       "       'alessieurs', 'alestch', 'aletsc', 'aletscn', 'aleurs-', 'alevins',\n",
       "       'alexa', 'alexanderwerk', 'alexandregavard', 'alexandrieouverture',\n",
       "       'alexandris', 'alexandroff', 'alexandrov', 'alexandrovitch',\n",
       "       'alexandrowo', 'alexandru', 'alexei', 'alexeief', 'alexeieff',\n",
       "       'alexej'],\n",
       "      dtype='object')"
      ]
     },
     "execution_count": 39,
     "metadata": {},
     "output_type": "execute_result"
    }
   ],
   "source": [
    "cleanData3.columns[numMonth<10][1000:1050]"
   ]
  },
  {
   "cell_type": "code",
   "execution_count": 40,
   "metadata": {
    "collapsed": false
   },
   "outputs": [
    {
     "data": {
      "text/plain": [
       "Index(['agrokomerc', 'agronomique', 'agrumes', 'agrégation', 'aguado',\n",
       "       'aguadores', 'agudio', 'aguesseau', 'aguiaro', 'aguilera', 'agull',\n",
       "       'agusta', 'agutter', 'aguétant', 'agça', 'agéna', 'ahdab', 'ahead',\n",
       "       'ahearne', 'aherne', 'ahhvardt', 'ahidjo', 'ahiés', 'ahlers',\n",
       "       'ahmadpoor', 'ahmed-riza', 'ahn', 'ahorros', 'ahrenberg', 'ahrens',\n",
       "       'ahuet-', 'ahvynn', 'ahwaz', 'ai-anon', 'aiai', 'aial', 'aiasi', 'aibi',\n",
       "       'aichele', 'aichi', 'aicraft', 'aide-pilote', 'aides-instructeurs',\n",
       "       'aidez', 'aidit', 'aido', 'aidrich', 'aidrin', 'aidsi', 'aiea'],\n",
       "      dtype='object')"
      ]
     },
     "execution_count": 40,
     "metadata": {},
     "output_type": "execute_result"
    }
   ],
   "source": [
    "cleanData3.columns[numMonth<10][700:750]"
   ]
  },
  {
   "cell_type": "code",
   "execution_count": 42,
   "metadata": {
    "collapsed": false
   },
   "outputs": [
    {
     "name": "stdout",
     "output_type": "stream",
     "text": [
      "Before word aggregation :  (4351, 120546)\n",
      "Before the removal of absent words:  (4351, 103414)\n",
      "After the cleaning:  (4351, 45252)\n"
     ]
    }
   ],
   "source": [
    "print('Before word aggregation : ', dfFinal2.shape)\n",
    "print('Before the removal of absent words: ', cleanData3.shape)\n",
    "cleanData3.drop(cleanData3.columns[numMonth < 10].values,axis=1,inplace=True)\n",
    "print('After the cleaning: ', cleanData3.shape)"
   ]
  },
  {
   "cell_type": "markdown",
   "metadata": {},
   "source": [
    "Let's take a look at our cleaning"
   ]
  },
  {
   "cell_type": "code",
   "execution_count": 45,
   "metadata": {
    "collapsed": false
   },
   "outputs": [
    {
     "data": {
      "text/html": [
       "<div>\n",
       "<table border=\"1\" class=\"dataframe\">\n",
       "  <thead>\n",
       "    <tr style=\"text-align: right;\">\n",
       "      <th></th>\n",
       "      <th></th>\n",
       "      <th>-</th>\n",
       "      <th>--</th>\n",
       "      <th>-s-</th>\n",
       "      <th>a-</th>\n",
       "      <th>a-b</th>\n",
       "      <th>a-c</th>\n",
       "      <th>a-k</th>\n",
       "      <th>a-l-il</th>\n",
       "      <th>a-l-on</th>\n",
       "      <th>...</th>\n",
       "      <th>—tendance</th>\n",
       "      <th>—tout</th>\n",
       "      <th>—trois</th>\n",
       "      <th>—turin</th>\n",
       "      <th>—une</th>\n",
       "      <th>—union</th>\n",
       "      <th>—vingt-quatrième</th>\n",
       "      <th>—vingt-troisième</th>\n",
       "      <th>—voici</th>\n",
       "      <th>—vous</th>\n",
       "    </tr>\n",
       "  </thead>\n",
       "  <tbody>\n",
       "    <tr>\n",
       "      <th>1806-05-01</th>\n",
       "      <td>0.0</td>\n",
       "      <td>4.0</td>\n",
       "      <td>0.0</td>\n",
       "      <td>0.0</td>\n",
       "      <td>3.0</td>\n",
       "      <td>0.0</td>\n",
       "      <td>0.0</td>\n",
       "      <td>0.0</td>\n",
       "      <td>0.0</td>\n",
       "      <td>0.0</td>\n",
       "      <td>...</td>\n",
       "      <td>0.0</td>\n",
       "      <td>0.0</td>\n",
       "      <td>0.0</td>\n",
       "      <td>0.0</td>\n",
       "      <td>3.0</td>\n",
       "      <td>0.0</td>\n",
       "      <td>0.0</td>\n",
       "      <td>0.0</td>\n",
       "      <td>0.0</td>\n",
       "      <td>0.0</td>\n",
       "    </tr>\n",
       "    <tr>\n",
       "      <th>1806-06-01</th>\n",
       "      <td>3.0</td>\n",
       "      <td>0.0</td>\n",
       "      <td>0.0</td>\n",
       "      <td>0.0</td>\n",
       "      <td>0.0</td>\n",
       "      <td>0.0</td>\n",
       "      <td>0.0</td>\n",
       "      <td>0.0</td>\n",
       "      <td>0.0</td>\n",
       "      <td>0.0</td>\n",
       "      <td>...</td>\n",
       "      <td>0.0</td>\n",
       "      <td>0.0</td>\n",
       "      <td>0.0</td>\n",
       "      <td>0.0</td>\n",
       "      <td>3.0</td>\n",
       "      <td>0.0</td>\n",
       "      <td>0.0</td>\n",
       "      <td>0.0</td>\n",
       "      <td>0.0</td>\n",
       "      <td>0.0</td>\n",
       "    </tr>\n",
       "    <tr>\n",
       "      <th>1806-07-01</th>\n",
       "      <td>0.0</td>\n",
       "      <td>0.0</td>\n",
       "      <td>0.0</td>\n",
       "      <td>0.0</td>\n",
       "      <td>0.0</td>\n",
       "      <td>0.0</td>\n",
       "      <td>0.0</td>\n",
       "      <td>0.0</td>\n",
       "      <td>0.0</td>\n",
       "      <td>0.0</td>\n",
       "      <td>...</td>\n",
       "      <td>0.0</td>\n",
       "      <td>0.0</td>\n",
       "      <td>3.0</td>\n",
       "      <td>0.0</td>\n",
       "      <td>0.0</td>\n",
       "      <td>0.0</td>\n",
       "      <td>0.0</td>\n",
       "      <td>0.0</td>\n",
       "      <td>0.0</td>\n",
       "      <td>0.0</td>\n",
       "    </tr>\n",
       "    <tr>\n",
       "      <th>1806-08-01</th>\n",
       "      <td>0.0</td>\n",
       "      <td>0.0</td>\n",
       "      <td>0.0</td>\n",
       "      <td>0.0</td>\n",
       "      <td>3.0</td>\n",
       "      <td>0.0</td>\n",
       "      <td>0.0</td>\n",
       "      <td>0.0</td>\n",
       "      <td>0.0</td>\n",
       "      <td>0.0</td>\n",
       "      <td>...</td>\n",
       "      <td>0.0</td>\n",
       "      <td>0.0</td>\n",
       "      <td>0.0</td>\n",
       "      <td>0.0</td>\n",
       "      <td>0.0</td>\n",
       "      <td>0.0</td>\n",
       "      <td>0.0</td>\n",
       "      <td>0.0</td>\n",
       "      <td>0.0</td>\n",
       "      <td>0.0</td>\n",
       "    </tr>\n",
       "    <tr>\n",
       "      <th>1806-09-01</th>\n",
       "      <td>0.0</td>\n",
       "      <td>0.0</td>\n",
       "      <td>0.0</td>\n",
       "      <td>0.0</td>\n",
       "      <td>3.0</td>\n",
       "      <td>0.0</td>\n",
       "      <td>0.0</td>\n",
       "      <td>0.0</td>\n",
       "      <td>0.0</td>\n",
       "      <td>0.0</td>\n",
       "      <td>...</td>\n",
       "      <td>0.0</td>\n",
       "      <td>0.0</td>\n",
       "      <td>0.0</td>\n",
       "      <td>0.0</td>\n",
       "      <td>0.0</td>\n",
       "      <td>0.0</td>\n",
       "      <td>0.0</td>\n",
       "      <td>0.0</td>\n",
       "      <td>0.0</td>\n",
       "      <td>0.0</td>\n",
       "    </tr>\n",
       "  </tbody>\n",
       "</table>\n",
       "<p>5 rows × 45252 columns</p>\n",
       "</div>"
      ],
      "text/plain": [
       "                   -   --  -s-   a-  a-b  a-c  a-k  a-l-il  a-l-on  ...    \\\n",
       "1806-05-01  0.0  4.0  0.0  0.0  3.0  0.0  0.0  0.0     0.0     0.0  ...     \n",
       "1806-06-01  3.0  0.0  0.0  0.0  0.0  0.0  0.0  0.0     0.0     0.0  ...     \n",
       "1806-07-01  0.0  0.0  0.0  0.0  0.0  0.0  0.0  0.0     0.0     0.0  ...     \n",
       "1806-08-01  0.0  0.0  0.0  0.0  3.0  0.0  0.0  0.0     0.0     0.0  ...     \n",
       "1806-09-01  0.0  0.0  0.0  0.0  3.0  0.0  0.0  0.0     0.0     0.0  ...     \n",
       "\n",
       "            —tendance  —tout  —trois  —turin  —une  —union  —vingt-quatrième  \\\n",
       "1806-05-01        0.0    0.0     0.0     0.0   3.0     0.0               0.0   \n",
       "1806-06-01        0.0    0.0     0.0     0.0   3.0     0.0               0.0   \n",
       "1806-07-01        0.0    0.0     3.0     0.0   0.0     0.0               0.0   \n",
       "1806-08-01        0.0    0.0     0.0     0.0   0.0     0.0               0.0   \n",
       "1806-09-01        0.0    0.0     0.0     0.0   0.0     0.0               0.0   \n",
       "\n",
       "            —vingt-troisième  —voici  —vous  \n",
       "1806-05-01               0.0     0.0    0.0  \n",
       "1806-06-01               0.0     0.0    0.0  \n",
       "1806-07-01               0.0     0.0    0.0  \n",
       "1806-08-01               0.0     0.0    0.0  \n",
       "1806-09-01               0.0     0.0    0.0  \n",
       "\n",
       "[5 rows x 45252 columns]"
      ]
     },
     "execution_count": 45,
     "metadata": {},
     "output_type": "execute_result"
    }
   ],
   "source": [
    "cleanData3.head()"
   ]
  },
  {
   "cell_type": "markdown",
   "metadata": {},
   "source": [
    "We see that there are still random signes that we were not able to remove we will do that now."
   ]
  },
  {
   "cell_type": "code",
   "execution_count": 56,
   "metadata": {
    "collapsed": false
   },
   "outputs": [
    {
     "data": {
      "text/plain": [
       "Index(['', '-', '--', '-s-', 'a-', 'a-b', 'a-c', 'a-k', 'a-l-il', 'a-l-on',\n",
       "       'a-t', 'a-t-elle', 'a-t-il', 'a-t-on', 'aa-', 'aaa', 'aac', 'aach',\n",
       "       'aacom', 'aag', 'aal', 'aaland', 'aamodt', 'aandoz', 'aap', 'aar',\n",
       "       'aar-tessin'],\n",
       "      dtype='object')"
      ]
     },
     "execution_count": 56,
     "metadata": {},
     "output_type": "execute_result"
    }
   ],
   "source": [
    "cleanData3.columns[0:27]"
   ]
  },
  {
   "cell_type": "code",
   "execution_count": 57,
   "metadata": {
    "collapsed": true
   },
   "outputs": [],
   "source": [
    "cleanData3.drop(cleanData3.columns[0:27],axis=1,inplace=True)"
   ]
  },
  {
   "cell_type": "markdown",
   "metadata": {},
   "source": [
    "We also have the bizarre dash that we can quickly take care of again"
   ]
  },
  {
   "cell_type": "code",
   "execution_count": 62,
   "metadata": {
    "collapsed": false
   },
   "outputs": [
    {
     "data": {
      "text/plain": [
       "Index(['—-a', '—-la', '—-le', '—-on', '—-—', '—adopté', '—alu', '—am',\n",
       "       '—annecy', '—au',\n",
       "       ...\n",
       "       '—tendance', '—tout', '—trois', '—turin', '—une', '—union',\n",
       "       '—vingt-quatrième', '—vingt-troisième', '—voici', '—vous'],\n",
       "      dtype='object', length=101)"
      ]
     },
     "execution_count": 62,
     "metadata": {},
     "output_type": "execute_result"
    }
   ],
   "source": [
    "cleanData3.columns[np.chararray.startswith(cleanData3.columns.values.astype(str),'—')]"
   ]
  },
  {
   "cell_type": "code",
   "execution_count": 64,
   "metadata": {
    "collapsed": true
   },
   "outputs": [],
   "source": [
    "cleanData3.columns = \\\n",
    "cleanData3.columns.map(lambda x: x[1:] if x.startswith('—') else x)"
   ]
  },
  {
   "cell_type": "code",
   "execution_count": 65,
   "metadata": {
    "collapsed": false
   },
   "outputs": [
    {
     "name": "stdout",
     "output_type": "stream",
     "text": [
      "Before:  (4351, 45225)\n",
      "Before:  (4351, 45149)\n"
     ]
    }
   ],
   "source": [
    "print('Before: ',cleanData3.shape)\n",
    "cleanData4 = cleanData3.groupby(by=cleanData3.columns,axis=1,level=0).agg(sum)\n",
    "print('Before: ',cleanData4.shape)"
   ]
  },
  {
   "cell_type": "code",
   "execution_count": 66,
   "metadata": {
    "collapsed": false
   },
   "outputs": [
    {
     "data": {
      "text/html": [
       "<div>\n",
       "<table border=\"1\" class=\"dataframe\">\n",
       "  <thead>\n",
       "    <tr style=\"text-align: right;\">\n",
       "      <th></th>\n",
       "      <th>aarau</th>\n",
       "      <th>aarberg</th>\n",
       "      <th>aarbourg</th>\n",
       "      <th>aarcorp</th>\n",
       "      <th>aarg</th>\n",
       "      <th>aarhus</th>\n",
       "      <th>aaron</th>\n",
       "      <th>aatr</th>\n",
       "      <th>aax</th>\n",
       "      <th>aay</th>\n",
       "      <th>...</th>\n",
       "      <th>tendance</th>\n",
       "      <th>tout</th>\n",
       "      <th>trois</th>\n",
       "      <th>turin</th>\n",
       "      <th>une</th>\n",
       "      <th>union</th>\n",
       "      <th>vingt-quatrième</th>\n",
       "      <th>vingt-troisième</th>\n",
       "      <th>voici</th>\n",
       "      <th>vous</th>\n",
       "    </tr>\n",
       "  </thead>\n",
       "  <tbody>\n",
       "    <tr>\n",
       "      <th>1806-05-01</th>\n",
       "      <td>0.0</td>\n",
       "      <td>0.0</td>\n",
       "      <td>0.0</td>\n",
       "      <td>0.0</td>\n",
       "      <td>0.0</td>\n",
       "      <td>0.0</td>\n",
       "      <td>0.0</td>\n",
       "      <td>0.0</td>\n",
       "      <td>0.0</td>\n",
       "      <td>0.0</td>\n",
       "      <td>...</td>\n",
       "      <td>0.0</td>\n",
       "      <td>0.0</td>\n",
       "      <td>0.0</td>\n",
       "      <td>0.0</td>\n",
       "      <td>3.0</td>\n",
       "      <td>0.0</td>\n",
       "      <td>0.0</td>\n",
       "      <td>0.0</td>\n",
       "      <td>0.0</td>\n",
       "      <td>0.0</td>\n",
       "    </tr>\n",
       "    <tr>\n",
       "      <th>1806-06-01</th>\n",
       "      <td>0.0</td>\n",
       "      <td>0.0</td>\n",
       "      <td>0.0</td>\n",
       "      <td>0.0</td>\n",
       "      <td>0.0</td>\n",
       "      <td>0.0</td>\n",
       "      <td>0.0</td>\n",
       "      <td>0.0</td>\n",
       "      <td>0.0</td>\n",
       "      <td>0.0</td>\n",
       "      <td>...</td>\n",
       "      <td>0.0</td>\n",
       "      <td>0.0</td>\n",
       "      <td>0.0</td>\n",
       "      <td>0.0</td>\n",
       "      <td>3.0</td>\n",
       "      <td>0.0</td>\n",
       "      <td>0.0</td>\n",
       "      <td>0.0</td>\n",
       "      <td>0.0</td>\n",
       "      <td>0.0</td>\n",
       "    </tr>\n",
       "    <tr>\n",
       "      <th>1806-07-01</th>\n",
       "      <td>0.0</td>\n",
       "      <td>0.0</td>\n",
       "      <td>0.0</td>\n",
       "      <td>0.0</td>\n",
       "      <td>0.0</td>\n",
       "      <td>0.0</td>\n",
       "      <td>0.0</td>\n",
       "      <td>0.0</td>\n",
       "      <td>0.0</td>\n",
       "      <td>0.0</td>\n",
       "      <td>...</td>\n",
       "      <td>0.0</td>\n",
       "      <td>0.0</td>\n",
       "      <td>3.0</td>\n",
       "      <td>0.0</td>\n",
       "      <td>0.0</td>\n",
       "      <td>0.0</td>\n",
       "      <td>0.0</td>\n",
       "      <td>0.0</td>\n",
       "      <td>0.0</td>\n",
       "      <td>0.0</td>\n",
       "    </tr>\n",
       "    <tr>\n",
       "      <th>1806-08-01</th>\n",
       "      <td>0.0</td>\n",
       "      <td>0.0</td>\n",
       "      <td>0.0</td>\n",
       "      <td>0.0</td>\n",
       "      <td>0.0</td>\n",
       "      <td>0.0</td>\n",
       "      <td>0.0</td>\n",
       "      <td>0.0</td>\n",
       "      <td>0.0</td>\n",
       "      <td>0.0</td>\n",
       "      <td>...</td>\n",
       "      <td>0.0</td>\n",
       "      <td>0.0</td>\n",
       "      <td>0.0</td>\n",
       "      <td>0.0</td>\n",
       "      <td>0.0</td>\n",
       "      <td>0.0</td>\n",
       "      <td>0.0</td>\n",
       "      <td>0.0</td>\n",
       "      <td>0.0</td>\n",
       "      <td>0.0</td>\n",
       "    </tr>\n",
       "    <tr>\n",
       "      <th>1806-09-01</th>\n",
       "      <td>0.0</td>\n",
       "      <td>0.0</td>\n",
       "      <td>0.0</td>\n",
       "      <td>0.0</td>\n",
       "      <td>0.0</td>\n",
       "      <td>0.0</td>\n",
       "      <td>0.0</td>\n",
       "      <td>0.0</td>\n",
       "      <td>0.0</td>\n",
       "      <td>0.0</td>\n",
       "      <td>...</td>\n",
       "      <td>0.0</td>\n",
       "      <td>0.0</td>\n",
       "      <td>0.0</td>\n",
       "      <td>0.0</td>\n",
       "      <td>0.0</td>\n",
       "      <td>0.0</td>\n",
       "      <td>0.0</td>\n",
       "      <td>0.0</td>\n",
       "      <td>0.0</td>\n",
       "      <td>0.0</td>\n",
       "    </tr>\n",
       "  </tbody>\n",
       "</table>\n",
       "<p>5 rows × 45225 columns</p>\n",
       "</div>"
      ],
      "text/plain": [
       "            aarau  aarberg  aarbourg  aarcorp  aarg  aarhus  aaron  aatr  aax  \\\n",
       "1806-05-01    0.0      0.0       0.0      0.0   0.0     0.0    0.0   0.0  0.0   \n",
       "1806-06-01    0.0      0.0       0.0      0.0   0.0     0.0    0.0   0.0  0.0   \n",
       "1806-07-01    0.0      0.0       0.0      0.0   0.0     0.0    0.0   0.0  0.0   \n",
       "1806-08-01    0.0      0.0       0.0      0.0   0.0     0.0    0.0   0.0  0.0   \n",
       "1806-09-01    0.0      0.0       0.0      0.0   0.0     0.0    0.0   0.0  0.0   \n",
       "\n",
       "            aay  ...   tendance  tout  trois  turin  une  union  \\\n",
       "1806-05-01  0.0  ...        0.0   0.0    0.0    0.0  3.0    0.0   \n",
       "1806-06-01  0.0  ...        0.0   0.0    0.0    0.0  3.0    0.0   \n",
       "1806-07-01  0.0  ...        0.0   0.0    3.0    0.0  0.0    0.0   \n",
       "1806-08-01  0.0  ...        0.0   0.0    0.0    0.0  0.0    0.0   \n",
       "1806-09-01  0.0  ...        0.0   0.0    0.0    0.0  0.0    0.0   \n",
       "\n",
       "            vingt-quatrième  vingt-troisième  voici  vous  \n",
       "1806-05-01              0.0              0.0    0.0   0.0  \n",
       "1806-06-01              0.0              0.0    0.0   0.0  \n",
       "1806-07-01              0.0              0.0    0.0   0.0  \n",
       "1806-08-01              0.0              0.0    0.0   0.0  \n",
       "1806-09-01              0.0              0.0    0.0   0.0  \n",
       "\n",
       "[5 rows x 45225 columns]"
      ]
     },
     "execution_count": 66,
     "metadata": {},
     "output_type": "execute_result"
    }
   ],
   "source": [
    "cleanData3.head()"
   ]
  },
  {
   "cell_type": "markdown",
   "metadata": {},
   "source": [
    "It looks like the dataset is a bit more cleaned up!"
   ]
  },
  {
   "cell_type": "code",
   "execution_count": 67,
   "metadata": {
    "collapsed": true
   },
   "outputs": [],
   "source": [
    "cleanData4.to_csv('3kplusWordMonth.csv')"
   ]
  },
  {
   "cell_type": "code",
   "execution_count": 78,
   "metadata": {
    "collapsed": false
   },
   "outputs": [
    {
     "data": {
      "text/plain": [
       "[<matplotlib.lines.Line2D at 0x195b33da0>]"
      ]
     },
     "execution_count": 78,
     "metadata": {},
     "output_type": "execute_result"
    },
    {
     "data": {
      "image/png": "[encoded data removed]",
      "text/plain": [
       "<matplotlib.figure.Figure at 0x195b17358>"
      ]
     },
     "metadata": {},
     "output_type": "display_data"
    }
   ],
   "source": [
    "plt.plot_date(cleanData4.index,cleanData4['cri'].values)"
   ]
  },
  {
   "cell_type": "code",
   "execution_count": null,
   "metadata": {
    "collapsed": true
   },
   "outputs": [],
   "source": []
  }
 ],
 "metadata": {
  "anaconda-cloud": {},
  "kernelspec": {
   "display_name": "Python [conda root]",
   "language": "python",
   "name": "conda-root-py"
  },
  "language_info": {
   "codemirror_mode": {
    "name": "ipython",
    "version": 3
   },
   "file_extension": ".py",
   "mimetype": "text/x-python",
   "name": "python",
   "nbconvert_exporter": "python",
   "pygments_lexer": "ipython3",
   "version": "3.5.2"
  }
 },
 "nbformat": 4,
 "nbformat_minor": 2
}
