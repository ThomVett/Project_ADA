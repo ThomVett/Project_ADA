{
 "cells": [
  {
   "cell_type": "markdown",
   "metadata": {},
   "source": [
    "# VIsualizations\n",
    "\n",
    "In this notebook we will store the code that was used to produce our visualizations.\n",
    "\n",
    "### Visualizations of monthly occuring terms\n",
    "First we find the words that we want to look at over the course of a few years."
   ]
  },
  {
   "cell_type": "code",
   "execution_count": 1,
   "metadata": {
    "collapsed": true
   },
   "outputs": [],
   "source": [
    "import pandas as pd\n",
    "import numpy as np\n",
    "import matplotlib.pyplot as plt\n",
    "%matplotlib inline"
   ]
  },
  {
   "cell_type": "code",
   "execution_count": 2,
   "metadata": {
    "collapsed": false
   },
   "outputs": [
    {
     "data": {
      "text/html": [
       "<div>\n",
       "<table border=\"1\" class=\"dataframe\">\n",
       "  <thead>\n",
       "    <tr style=\"text-align: right;\">\n",
       "      <th></th>\n",
       "      <th>Unnamed: 1</th>\n",
       "      <th>a</th>\n",
       "      <th>aar</th>\n",
       "      <th>aarau</th>\n",
       "      <th>aax</th>\n",
       "      <th>aay</th>\n",
       "      <th>abandonné</th>\n",
       "      <th>abattu</th>\n",
       "      <th>abb</th>\n",
       "      <th>abbaye</th>\n",
       "      <th>...</th>\n",
       "      <th>évéque</th>\n",
       "      <th>évêque</th>\n",
       "      <th>êles</th>\n",
       "      <th>êlre</th>\n",
       "      <th>êtr</th>\n",
       "      <th>îes</th>\n",
       "      <th>île</th>\n",
       "      <th>œil</th>\n",
       "      <th>œuvre</th>\n",
       "      <th>œx</th>\n",
       "    </tr>\n",
       "  </thead>\n",
       "  <tbody>\n",
       "    <tr>\n",
       "      <th>1798-02-01</th>\n",
       "      <td>0.0</td>\n",
       "      <td>9.0</td>\n",
       "      <td>0.0</td>\n",
       "      <td>0.0</td>\n",
       "      <td>0.0</td>\n",
       "      <td>0.0</td>\n",
       "      <td>0.0</td>\n",
       "      <td>0.0</td>\n",
       "      <td>0.0</td>\n",
       "      <td>0.0</td>\n",
       "      <td>...</td>\n",
       "      <td>0.0</td>\n",
       "      <td>0.0</td>\n",
       "      <td>0.0</td>\n",
       "      <td>0.0</td>\n",
       "      <td>73.0</td>\n",
       "      <td>0.0</td>\n",
       "      <td>0.0</td>\n",
       "      <td>0.0</td>\n",
       "      <td>0.0</td>\n",
       "      <td>0.0</td>\n",
       "    </tr>\n",
       "    <tr>\n",
       "      <th>1798-03-01</th>\n",
       "      <td>0.0</td>\n",
       "      <td>26.0</td>\n",
       "      <td>0.0</td>\n",
       "      <td>0.0</td>\n",
       "      <td>0.0</td>\n",
       "      <td>0.0</td>\n",
       "      <td>0.0</td>\n",
       "      <td>0.0</td>\n",
       "      <td>0.0</td>\n",
       "      <td>0.0</td>\n",
       "      <td>...</td>\n",
       "      <td>0.0</td>\n",
       "      <td>0.0</td>\n",
       "      <td>0.0</td>\n",
       "      <td>0.0</td>\n",
       "      <td>100.0</td>\n",
       "      <td>0.0</td>\n",
       "      <td>0.0</td>\n",
       "      <td>0.0</td>\n",
       "      <td>0.0</td>\n",
       "      <td>0.0</td>\n",
       "    </tr>\n",
       "    <tr>\n",
       "      <th>1798-04-01</th>\n",
       "      <td>0.0</td>\n",
       "      <td>19.0</td>\n",
       "      <td>0.0</td>\n",
       "      <td>0.0</td>\n",
       "      <td>0.0</td>\n",
       "      <td>0.0</td>\n",
       "      <td>0.0</td>\n",
       "      <td>0.0</td>\n",
       "      <td>0.0</td>\n",
       "      <td>10.0</td>\n",
       "      <td>...</td>\n",
       "      <td>0.0</td>\n",
       "      <td>0.0</td>\n",
       "      <td>0.0</td>\n",
       "      <td>0.0</td>\n",
       "      <td>126.0</td>\n",
       "      <td>0.0</td>\n",
       "      <td>0.0</td>\n",
       "      <td>0.0</td>\n",
       "      <td>0.0</td>\n",
       "      <td>0.0</td>\n",
       "    </tr>\n",
       "    <tr>\n",
       "      <th>1798-05-01</th>\n",
       "      <td>0.0</td>\n",
       "      <td>40.0</td>\n",
       "      <td>0.0</td>\n",
       "      <td>0.0</td>\n",
       "      <td>0.0</td>\n",
       "      <td>0.0</td>\n",
       "      <td>0.0</td>\n",
       "      <td>0.0</td>\n",
       "      <td>0.0</td>\n",
       "      <td>0.0</td>\n",
       "      <td>...</td>\n",
       "      <td>0.0</td>\n",
       "      <td>0.0</td>\n",
       "      <td>0.0</td>\n",
       "      <td>0.0</td>\n",
       "      <td>180.0</td>\n",
       "      <td>0.0</td>\n",
       "      <td>0.0</td>\n",
       "      <td>0.0</td>\n",
       "      <td>0.0</td>\n",
       "      <td>0.0</td>\n",
       "    </tr>\n",
       "    <tr>\n",
       "      <th>1798-06-01</th>\n",
       "      <td>0.0</td>\n",
       "      <td>21.0</td>\n",
       "      <td>0.0</td>\n",
       "      <td>0.0</td>\n",
       "      <td>0.0</td>\n",
       "      <td>0.0</td>\n",
       "      <td>0.0</td>\n",
       "      <td>0.0</td>\n",
       "      <td>0.0</td>\n",
       "      <td>0.0</td>\n",
       "      <td>...</td>\n",
       "      <td>0.0</td>\n",
       "      <td>0.0</td>\n",
       "      <td>0.0</td>\n",
       "      <td>0.0</td>\n",
       "      <td>156.0</td>\n",
       "      <td>0.0</td>\n",
       "      <td>0.0</td>\n",
       "      <td>0.0</td>\n",
       "      <td>0.0</td>\n",
       "      <td>0.0</td>\n",
       "    </tr>\n",
       "  </tbody>\n",
       "</table>\n",
       "<p>5 rows × 10255 columns</p>\n",
       "</div>"
      ],
      "text/plain": [
       "            Unnamed: 1     a  aar  aarau  aax  aay  abandonné  abattu  abb  \\\n",
       "1798-02-01         0.0   9.0  0.0    0.0  0.0  0.0        0.0     0.0  0.0   \n",
       "1798-03-01         0.0  26.0  0.0    0.0  0.0  0.0        0.0     0.0  0.0   \n",
       "1798-04-01         0.0  19.0  0.0    0.0  0.0  0.0        0.0     0.0  0.0   \n",
       "1798-05-01         0.0  40.0  0.0    0.0  0.0  0.0        0.0     0.0  0.0   \n",
       "1798-06-01         0.0  21.0  0.0    0.0  0.0  0.0        0.0     0.0  0.0   \n",
       "\n",
       "            abbaye ...   évéque  évêque  êles  êlre    êtr  îes  île  œil  \\\n",
       "1798-02-01     0.0 ...      0.0     0.0   0.0   0.0   73.0  0.0  0.0  0.0   \n",
       "1798-03-01     0.0 ...      0.0     0.0   0.0   0.0  100.0  0.0  0.0  0.0   \n",
       "1798-04-01    10.0 ...      0.0     0.0   0.0   0.0  126.0  0.0  0.0  0.0   \n",
       "1798-05-01     0.0 ...      0.0     0.0   0.0   0.0  180.0  0.0  0.0  0.0   \n",
       "1798-06-01     0.0 ...      0.0     0.0   0.0   0.0  156.0  0.0  0.0  0.0   \n",
       "\n",
       "            œuvre   œx  \n",
       "1798-02-01    0.0  0.0  \n",
       "1798-03-01    0.0  0.0  \n",
       "1798-04-01    0.0  0.0  \n",
       "1798-05-01    0.0  0.0  \n",
       "1798-06-01    0.0  0.0  \n",
       "\n",
       "[5 rows x 10255 columns]"
      ]
     },
     "execution_count": 2,
     "metadata": {},
     "output_type": "execute_result"
    }
   ],
   "source": [
    "word = pd.read_csv('Data/wordCountYear_Clean_v3.csv',index_col=0)\n",
    "word.head()"
   ]
  },
  {
   "cell_type": "code",
   "execution_count": 60,
   "metadata": {
    "collapsed": false
   },
   "outputs": [],
   "source": [
    "word.index = pd.to_datetime(word.index)\n",
    "yearIndex = word.index\n",
    "#normalization\n",
    "wordNorm = word.divide(word.sum(axis=1).values,axis=0)"
   ]
  },
  {
   "cell_type": "markdown",
   "metadata": {},
   "source": [
    "Now let's search for Words that are interesting to look at. We want to look at the appearance of the word over the course of a few years to take a good look at the monthly periodicity."
   ]
  },
  {
   "cell_type": "code",
   "execution_count": 76,
   "metadata": {
    "collapsed": false
   },
   "outputs": [
    {
     "data": {
      "text/plain": [
       "[<matplotlib.lines.Line2D at 0x115f194e0>]"
      ]
     },
     "execution_count": 76,
     "metadata": {},
     "output_type": "execute_result"
    },
    {
     "data": {
      "image/png": "[encoded data removed]",
      "text/plain": [
       "<matplotlib.figure.Figure at 0x115d165c0>"
      ]
     },
     "metadata": {},
     "output_type": "display_data"
    }
   ],
   "source": [
    "plt.subplot(2,2,1)\n",
    "plt.plot_date(yearIndex[1500:1600],wordNorm['noël'].values[1500:1600])\n",
    "plt.subplot(2,2,2)\n",
    "plt.plot_date(yearIndex[1500:1600],wordNorm['pâques'].values[1500:1600])\n",
    "plt.subplot(2,2,3)\n",
    "plt.plot_date(yearIndex[1500:1600],wordNorm['printemps'].values[1500:1600])\n",
    "plt.subplot(2,2,4)\n",
    "plt.plot_date(yearIndex[1500:1600],wordNorm['hiver'].values[1500:1600])"
   ]
  },
  {
   "cell_type": "markdown",
   "metadata": {},
   "source": [
    "Initializing Plotly"
   ]
  },
  {
   "cell_type": "code",
   "execution_count": 77,
   "metadata": {
    "collapsed": true
   },
   "outputs": [],
   "source": [
    "import plotly \n",
    "plotly.tools.set_credentials_file(username='Project_ADA', api_key='LpR6Vg0wCSbJcSvQEnF3')"
   ]
  },
  {
   "cell_type": "markdown",
   "metadata": {},
   "source": [
    "Plotting the monthly periodic words."
   ]
  },
  {
   "cell_type": "code",
   "execution_count": 82,
   "metadata": {
    "collapsed": false
   },
   "outputs": [
    {
     "data": {
      "text/html": [
       "<iframe id=\"igraph\" scrolling=\"no\" style=\"border:none;\" seamless=\"seamless\" src=\"https://plot.ly/~Project_ADA/12.embed\" height=\"525px\" width=\"100%\"></iframe>"
      ],
      "text/plain": [
       "<plotly.tools.PlotlyDisplay object>"
      ]
     },
     "execution_count": 82,
     "metadata": {},
     "output_type": "execute_result"
    }
   ],
   "source": [
    "import plotly.plotly as py\n",
    "from plotly.graph_objs import *\n",
    "\n",
    "xValues = yearIndex[1500:1600]\n",
    "christmas = wordNorm['noël'].values[1500:1600]\n",
    "easter = wordNorm['pâques'].values[1500:1600]\n",
    "spring = wordNorm['printemps'].values[1500:1600]\n",
    "winter = wordNorm['hiver'].values[1500:1600]\n",
    "\n",
    "trace1 = Scatter(\n",
    "    x=xValues, y=christmas,\n",
    "    line=Line(\n",
    "        color='#FFD700',\n",
    "        width=3\n",
    "    ),\n",
    "    name='Noël'\n",
    ")\n",
    "\n",
    "trace2 = Scatter(\n",
    "    x=xValues, y=easter,\n",
    "    line=Line(\n",
    "        color='#C0C0C0',\n",
    "        width=3\n",
    "    ),\n",
    "    name='Pâques'\n",
    ")\n",
    "\n",
    "trace3 = Scatter(\n",
    "    x=xValues, y=spring,\n",
    "    line=Line(\n",
    "        color='#BA8651',\n",
    "        width=3\n",
    "    ),\n",
    "    name='Printemps'\n",
    ")\n",
    "\n",
    "trace4 = Scatter(\n",
    "    x=xValues, y=winter,\n",
    "    line=Line(\n",
    "        color='#000000',\n",
    "        width=4\n",
    "    ),\n",
    "    name='Hiver'\n",
    ")\n",
    "\n",
    "data = Data([trace1, trace2, trace3, trace4])\n",
    "layout = Layout(\n",
    "    title='Word Frequency of words that have a monthly periodicity',\n",
    "    updatemenus=list([\n",
    "        dict(\n",
    "            x=-0.05,\n",
    "            y=1,\n",
    "            yanchor='top',\n",
    "            buttons=list([\n",
    "                dict(\n",
    "                    args=['visible', [True, True, True, True]],\n",
    "                    label='All',\n",
    "                    method='restyle'\n",
    "                ),\n",
    "                dict(\n",
    "                    args=['visible', [True, False, False, False]],\n",
    "                    label='Noël',\n",
    "                    method='restyle'\n",
    "                ),\n",
    "                dict(\n",
    "                    args=['visible', [False, True, False, False]],\n",
    "                    label='Pâques',\n",
    "                    method='restyle'\n",
    "                ),\n",
    "                dict(\n",
    "                    args=['visible', [False, False, True, False]],\n",
    "                    label='Printemps',\n",
    "                    method='restyle'\n",
    "                ),\n",
    "                dict(\n",
    "                    args=['visible', [False, False, False, True]],\n",
    "                    label='Hiver',\n",
    "                    method='restyle'\n",
    "                )\n",
    "            ]),\n",
    "        )\n",
    "    ]),\n",
    ")\n",
    "fig = Figure(data=data, layout=layout)\n",
    "py.iplot(fig,filename = 'MonthlyWordFreq')"
   ]
  },
  {
   "cell_type": "markdown",
   "metadata": {},
   "source": [
    "## Distribution of the word Frequency"
   ]
  },
  {
   "cell_type": "code",
   "execution_count": 83,
   "metadata": {
    "collapsed": false
   },
   "outputs": [
    {
     "data": {
      "text/plain": [
       "(0, 3000)"
      ]
     },
     "execution_count": 83,
     "metadata": {},
     "output_type": "execute_result"
    },
    {
     "data": {
      "image/png": "[encoded data removed]",
      "text/plain": [
       "<matplotlib.figure.Figure at 0x1187ebac8>"
      ]
     },
     "metadata": {},
     "output_type": "display_data"
    }
   ],
   "source": [
    "width = 0.7\n",
    "totWords = 1000\n",
    "numWords =len(word.loc[yearIndex[1000]].sort_values(ascending=False).index[0:totWords])\n",
    "plt.bar(np.arange(numWords),\n",
    "        word.loc[yearIndex[1000]].sort_values(ascending=False).values[0:totWords],width)\n",
    "plt.ylabel('Number of Occurences')\n",
    "plt.xlabel('Each word is one tick of the x Axis')\n",
    "plt.ylim([0,3000])"
   ]
  },
  {
   "cell_type": "code",
   "execution_count": 112,
   "metadata": {
    "collapsed": false
   },
   "outputs": [
    {
     "data": {
      "text/html": [
       "<iframe id=\"igraph\" scrolling=\"no\" style=\"border:none;\" seamless=\"seamless\" src=\"https://plot.ly/~Project_ADA/16.embed\" height=\"525px\" width=\"100%\"></iframe>"
      ],
      "text/plain": [
       "<plotly.tools.PlotlyDisplay object>"
      ]
     },
     "execution_count": 112,
     "metadata": {},
     "output_type": "execute_result"
    }
   ],
   "source": [
    "import plotly.plotly as py\n",
    "import plotly.graph_objs as go\n",
    "\n",
    "data = [go.Bar(\n",
    "            x=word.loc[yearIndex[1000]].sort_values(ascending=False).index[0:totWords],\n",
    "            y=word.loc[yearIndex[1000]].sort_values(ascending=False).values[0:totWords]\n",
    "    )]\n",
    "\n",
    "layoutwordfreq = Layout(\n",
    "    title='Distribution of word count')\n",
    "fig = Figure(data=data, layout=layoutwordfreq)\n",
    "py.iplot(fig, filename='wordDistribution',show_link=False)"
   ]
  },
  {
   "cell_type": "code",
   "execution_count": 84,
   "metadata": {
    "collapsed": false
   },
   "outputs": [
    {
     "data": {
      "text/plain": [
       "1000"
      ]
     },
     "execution_count": 84,
     "metadata": {},
     "output_type": "execute_result"
    }
   ],
   "source": [
    "numWords"
   ]
  },
  {
   "cell_type": "code",
   "execution_count": null,
   "metadata": {
    "collapsed": true
   },
   "outputs": [],
   "source": []
  }
 ],
 "metadata": {
  "anaconda-cloud": {},
  "kernelspec": {
   "display_name": "Python [conda root]",
   "language": "python",
   "name": "conda-root-py"
  },
  "language_info": {
   "codemirror_mode": {
    "name": "ipython",
    "version": 3
   },
   "file_extension": ".py",
   "mimetype": "text/x-python",
   "name": "python",
   "nbconvert_exporter": "python",
   "pygments_lexer": "ipython3",
   "version": "3.5.2"
  }
 },
 "nbformat": 4,
 "nbformat_minor": 2
}
