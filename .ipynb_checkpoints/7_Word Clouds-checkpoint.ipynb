{
 "cells": [
  {
   "cell_type": "code",
   "execution_count": 2,
   "metadata": {
    "collapsed": true
   },
   "outputs": [],
   "source": [
    "import pandas as pd\n",
    "import numpy as np\n",
    "import matplotlib.pyplot as plt\n",
    "import seaborn as sns\n",
    "import matplotlib as mpl\n",
    "%matplotlib inline"
   ]
  },
  {
   "cell_type": "markdown",
   "metadata": {},
   "source": [
    "## Word Clouds\n",
    "We propose to implement a wordcloud video, where we compute one word cloud per time point, and then we create a video from all the different word clouds, that will illustrate the evolution of the word set over time.\n",
    "\n",
    "We also implement a smoothing on the data so that the wordcloud is a little bit more constant. If the time series have to many up and downs the resulting word cloud will make no sense. We tried to do the word cloud per month, but it was too variable. We choose here to measure the counts per year, and then smooth the time series (rolling mean)."
   ]
  },
  {
   "cell_type": "code",
   "execution_count": 3,
   "metadata": {
    "collapsed": false
   },
   "outputs": [
    {
     "data": {
      "text/html": [
       "<div>\n",
       "<table border=\"1\" class=\"dataframe\">\n",
       "  <thead>\n",
       "    <tr style=\"text-align: right;\">\n",
       "      <th></th>\n",
       "      <th>-a</th>\n",
       "      <th>-la</th>\n",
       "      <th>-le</th>\n",
       "      <th>-on</th>\n",
       "      <th>-—</th>\n",
       "      <th>aarau</th>\n",
       "      <th>aarberg</th>\n",
       "      <th>aarbourg</th>\n",
       "      <th>aarg</th>\n",
       "      <th>aarhus</th>\n",
       "      <th>...</th>\n",
       "      <th>œil</th>\n",
       "      <th>œillet</th>\n",
       "      <th>œquo</th>\n",
       "      <th>œrlikon</th>\n",
       "      <th>œuf</th>\n",
       "      <th>œur-</th>\n",
       "      <th>œuvre</th>\n",
       "      <th>——</th>\n",
       "      <th>———</th>\n",
       "      <th>„„„</th>\n",
       "    </tr>\n",
       "  </thead>\n",
       "  <tbody>\n",
       "    <tr>\n",
       "      <th>1798-01-01</th>\n",
       "      <td>NaN</td>\n",
       "      <td>NaN</td>\n",
       "      <td>NaN</td>\n",
       "      <td>NaN</td>\n",
       "      <td>NaN</td>\n",
       "      <td>NaN</td>\n",
       "      <td>NaN</td>\n",
       "      <td>NaN</td>\n",
       "      <td>NaN</td>\n",
       "      <td>NaN</td>\n",
       "      <td>...</td>\n",
       "      <td>NaN</td>\n",
       "      <td>NaN</td>\n",
       "      <td>NaN</td>\n",
       "      <td>NaN</td>\n",
       "      <td>NaN</td>\n",
       "      <td>NaN</td>\n",
       "      <td>NaN</td>\n",
       "      <td>NaN</td>\n",
       "      <td>NaN</td>\n",
       "      <td>NaN</td>\n",
       "    </tr>\n",
       "    <tr>\n",
       "      <th>1799-01-01</th>\n",
       "      <td>NaN</td>\n",
       "      <td>NaN</td>\n",
       "      <td>NaN</td>\n",
       "      <td>NaN</td>\n",
       "      <td>NaN</td>\n",
       "      <td>NaN</td>\n",
       "      <td>NaN</td>\n",
       "      <td>NaN</td>\n",
       "      <td>NaN</td>\n",
       "      <td>NaN</td>\n",
       "      <td>...</td>\n",
       "      <td>NaN</td>\n",
       "      <td>NaN</td>\n",
       "      <td>NaN</td>\n",
       "      <td>NaN</td>\n",
       "      <td>NaN</td>\n",
       "      <td>NaN</td>\n",
       "      <td>NaN</td>\n",
       "      <td>NaN</td>\n",
       "      <td>NaN</td>\n",
       "      <td>NaN</td>\n",
       "    </tr>\n",
       "    <tr>\n",
       "      <th>1804-01-01</th>\n",
       "      <td>NaN</td>\n",
       "      <td>NaN</td>\n",
       "      <td>NaN</td>\n",
       "      <td>NaN</td>\n",
       "      <td>NaN</td>\n",
       "      <td>NaN</td>\n",
       "      <td>NaN</td>\n",
       "      <td>NaN</td>\n",
       "      <td>NaN</td>\n",
       "      <td>NaN</td>\n",
       "      <td>...</td>\n",
       "      <td>NaN</td>\n",
       "      <td>NaN</td>\n",
       "      <td>NaN</td>\n",
       "      <td>NaN</td>\n",
       "      <td>NaN</td>\n",
       "      <td>NaN</td>\n",
       "      <td>NaN</td>\n",
       "      <td>NaN</td>\n",
       "      <td>NaN</td>\n",
       "      <td>NaN</td>\n",
       "    </tr>\n",
       "    <tr>\n",
       "      <th>1805-01-01</th>\n",
       "      <td>NaN</td>\n",
       "      <td>NaN</td>\n",
       "      <td>NaN</td>\n",
       "      <td>NaN</td>\n",
       "      <td>NaN</td>\n",
       "      <td>NaN</td>\n",
       "      <td>NaN</td>\n",
       "      <td>NaN</td>\n",
       "      <td>NaN</td>\n",
       "      <td>NaN</td>\n",
       "      <td>...</td>\n",
       "      <td>NaN</td>\n",
       "      <td>NaN</td>\n",
       "      <td>NaN</td>\n",
       "      <td>NaN</td>\n",
       "      <td>NaN</td>\n",
       "      <td>NaN</td>\n",
       "      <td>NaN</td>\n",
       "      <td>NaN</td>\n",
       "      <td>NaN</td>\n",
       "      <td>NaN</td>\n",
       "    </tr>\n",
       "    <tr>\n",
       "      <th>1806-01-01</th>\n",
       "      <td>NaN</td>\n",
       "      <td>NaN</td>\n",
       "      <td>NaN</td>\n",
       "      <td>NaN</td>\n",
       "      <td>NaN</td>\n",
       "      <td>NaN</td>\n",
       "      <td>NaN</td>\n",
       "      <td>NaN</td>\n",
       "      <td>NaN</td>\n",
       "      <td>NaN</td>\n",
       "      <td>...</td>\n",
       "      <td>NaN</td>\n",
       "      <td>NaN</td>\n",
       "      <td>NaN</td>\n",
       "      <td>NaN</td>\n",
       "      <td>NaN</td>\n",
       "      <td>NaN</td>\n",
       "      <td>NaN</td>\n",
       "      <td>NaN</td>\n",
       "      <td>NaN</td>\n",
       "      <td>NaN</td>\n",
       "    </tr>\n",
       "  </tbody>\n",
       "</table>\n",
       "<p>5 rows × 43051 columns</p>\n",
       "</div>"
      ],
      "text/plain": [
       "            -a  -la  -le  -on  -—  aarau  aarberg  aarbourg  aarg  aarhus  \\\n",
       "1798-01-01 NaN  NaN  NaN  NaN NaN    NaN      NaN       NaN   NaN     NaN   \n",
       "1799-01-01 NaN  NaN  NaN  NaN NaN    NaN      NaN       NaN   NaN     NaN   \n",
       "1804-01-01 NaN  NaN  NaN  NaN NaN    NaN      NaN       NaN   NaN     NaN   \n",
       "1805-01-01 NaN  NaN  NaN  NaN NaN    NaN      NaN       NaN   NaN     NaN   \n",
       "1806-01-01 NaN  NaN  NaN  NaN NaN    NaN      NaN       NaN   NaN     NaN   \n",
       "\n",
       "           ...   œil  œillet  œquo  œrlikon  œuf  œur-  œuvre  ——  ———  „„„  \n",
       "1798-01-01 ...   NaN     NaN   NaN      NaN  NaN   NaN    NaN NaN  NaN  NaN  \n",
       "1799-01-01 ...   NaN     NaN   NaN      NaN  NaN   NaN    NaN NaN  NaN  NaN  \n",
       "1804-01-01 ...   NaN     NaN   NaN      NaN  NaN   NaN    NaN NaN  NaN  NaN  \n",
       "1805-01-01 ...   NaN     NaN   NaN      NaN  NaN   NaN    NaN NaN  NaN  NaN  \n",
       "1806-01-01 ...   NaN     NaN   NaN      NaN  NaN   NaN    NaN NaN  NaN  NaN  \n",
       "\n",
       "[5 rows x 43051 columns]"
      ]
     },
     "execution_count": 3,
     "metadata": {},
     "output_type": "execute_result"
    }
   ],
   "source": [
    "wordYear = pd.read_csv('Data/3kPluswordPerYear.csv',index_col=0)\n",
    "wordYear = wordYear.rolling(window=24,center=True).mean()\n",
    "wordYear.head()"
   ]
  },
  {
   "cell_type": "code",
   "execution_count": 9,
   "metadata": {
    "collapsed": false
   },
   "outputs": [],
   "source": [
    "words = wordYear.columns.astype(str)\n",
    "numWords = wordYear.loc[wordYear.index[101]].values\n",
    "numWords2 = wordYear.loc[wordYear.index[101]].values"
   ]
  },
  {
   "cell_type": "markdown",
   "metadata": {},
   "source": [
    "We first generate two word clouds from two consecutive years."
   ]
  },
  {
   "cell_type": "code",
   "execution_count": 10,
   "metadata": {
    "collapsed": false
   },
   "outputs": [
    {
     "name": "stderr",
     "output_type": "stream",
     "text": [
      "/Users/thomas/anaconda3/lib/python3.5/site-packages/ipykernel/__main__.py:4: VisibleDeprecationWarning: using a non-integer number instead of an integer will result in an error in the future\n",
      "/Users/thomas/anaconda3/lib/python3.5/site-packages/ipykernel/__main__.py:5: VisibleDeprecationWarning: using a non-integer number instead of an integer will result in an error in the future\n"
     ]
    }
   ],
   "source": [
    "listWords = []\n",
    "listWords2 = []\n",
    "for counter,i in enumerate(words):\n",
    "    listWords.append(str(str(i)+' ')*numWords[counter])\n",
    "    listWords2.append(str(str(i)+' ')*numWords2[counter])"
   ]
  },
  {
   "cell_type": "code",
   "execution_count": 11,
   "metadata": {
    "collapsed": true
   },
   "outputs": [],
   "source": [
    "test = ' '.join(listWords)\n",
    "test2 = ' '.join(listWords2)"
   ]
  },
  {
   "cell_type": "code",
   "execution_count": 12,
   "metadata": {
    "collapsed": true
   },
   "outputs": [],
   "source": [
    "from wordcloud import WordCloud"
   ]
  },
  {
   "cell_type": "code",
   "execution_count": 13,
   "metadata": {
    "collapsed": false
   },
   "outputs": [],
   "source": [
    "wordcloud = WordCloud().generate(test)\n",
    "wordcloud2 = WordCloud().generate(test2)"
   ]
  },
  {
   "cell_type": "markdown",
   "metadata": {},
   "source": [
    "We first show the two word clouds that were computed separately."
   ]
  },
  {
   "cell_type": "code",
   "execution_count": 14,
   "metadata": {
    "collapsed": false
   },
   "outputs": [
    {
     "data": {
      "text/plain": [
       "(-0.5, 399.5, 199.5, -0.5)"
      ]
     },
     "execution_count": 14,
     "metadata": {},
     "output_type": "execute_result"
    },
    {
     "data": {
      "image/png": "[encoded data removed]",
      "text/plain": [
       "<matplotlib.figure.Figure at 0x112822da0>"
      ]
     },
     "metadata": {},
     "output_type": "display_data"
    }
   ],
   "source": [
    "plt.subplot(1,2,1)\n",
    "plt.imshow(wordcloud)\n",
    "plt.subplot(1,2,2)\n",
    "plt.imshow(wordcloud2)\n",
    "plt.axis(\"off\")\n"
   ]
  },
  {
   "cell_type": "markdown",
   "metadata": {},
   "source": [
    "What can be seen here is that the same word does not have the same color, and the same words appear at different places on the word cloud. Therefore we have to keep the position of the words in the first word cloud and add them to the other word cloud."
   ]
  },
  {
   "cell_type": "code",
   "execution_count": 15,
   "metadata": {
    "collapsed": true
   },
   "outputs": [],
   "source": [
    "for i in range(len(wordcloud2.layout_)):\n",
    "    word = wordcloud2.layout_[i][0][0]\n",
    "    for j in range(len(wordcloud.layout_)):\n",
    "        otherWord = wordcloud.layout_[j][0][0]\n",
    "        if otherWord == word:\n",
    "            wordcloud2.layout_[i] = list(wordcloud2.layout_[i])\n",
    "            wordcloud2.layout_[i][2:] = list(wordcloud.layout_[j][2:])\n",
    "            wordcloud2.layout_[i] = tuple(wordcloud2.layout_[i])\n",
    "            break"
   ]
  },
  {
   "cell_type": "markdown",
   "metadata": {},
   "source": [
    "Now that we have done that we can look at the two onsecutive word clouds."
   ]
  },
  {
   "cell_type": "code",
   "execution_count": 16,
   "metadata": {
    "collapsed": false
   },
   "outputs": [
    {
     "data": {
      "text/plain": [
       "(-0.5, 399.5, 199.5, -0.5)"
      ]
     },
     "execution_count": 16,
     "metadata": {},
     "output_type": "execute_result"
    },
    {
     "data": {
      "image/png": "[encoded data removed]",
      "text/plain": [
       "<matplotlib.figure.Figure at 0x11623a2e8>"
      ]
     },
     "metadata": {},
     "output_type": "display_data"
    }
   ],
   "source": [
    "plt.subplot(1,2,1)\n",
    "plt.imshow(wordcloud)\n",
    "plt.subplot(1,2,2)\n",
    "plt.imshow(wordcloud2)\n",
    "plt.axis(\"off\")\n"
   ]
  },
  {
   "cell_type": "markdown",
   "metadata": {},
   "source": [
    "We see that we succeeded to keep the position and the color of each word between the two word cloud. Bun unfortunately the top 200 words in two succesive years change too much, therefore we have too many words that overlap and the cloud becomes not clear at all.\n",
    "\n",
    "Based on this result we see that a word cloud video will not be very interesting as everything will overlap with each other,"
   ]
  },
  {
   "cell_type": "markdown",
   "metadata": {
    "collapsed": true
   },
   "source": [
    "To solve this problem we will try to take the n most frequent words, choose a subset that is always present, and then put their word count. This would be not completely representative of the reality, but could be a nice proxy that would not be too noisy."
   ]
  },
  {
   "cell_type": "code",
   "execution_count": 17,
   "metadata": {
    "collapsed": false
   },
   "outputs": [],
   "source": [
    "wordYear = pd.read_csv('Data/3kPluswordPerYear.csv',index_col=0)\n",
    "wordYear.index = pd.to_datetime(wordYear.index)\n",
    "yearIndex = wordYear.index.values"
   ]
  },
  {
   "cell_type": "code",
   "execution_count": 18,
   "metadata": {
    "collapsed": true
   },
   "outputs": [],
   "source": [
    "setMostFrequent = []\n",
    "\n",
    "for i in range(10,len(yearIndex)):\n",
    "    rankYear = wordYear.loc[wordYear.index[i]]\\\n",
    "    .sort_values(ascending=False)\n",
    "    wordRank = rankYear.index.values[0:844]\n",
    "    numRank = np.arange(1,len(wordRank)+1)\n",
    "    rankDF = pd.DataFrame(data=numRank,\n",
    "                          index=wordRank, \n",
    "                          columns=[wordYear.index[i]])\n",
    "    setMostFrequent.append(rankDF)\n",
    "    \n",
    "dfMostFrequent = pd.concat(setMostFrequent,axis=1)"
   ]
  },
  {
   "cell_type": "markdown",
   "metadata": {},
   "source": [
    "We look at how many words are always in this dataset."
   ]
  },
  {
   "cell_type": "code",
   "execution_count": 19,
   "metadata": {
    "collapsed": false
   },
   "outputs": [
    {
     "name": "stdout",
     "output_type": "stream",
     "text": [
      "(200, 187)\n"
     ]
    },
    {
     "data": {
      "text/html": [
       "<div>\n",
       "<table border=\"1\" class=\"dataframe\">\n",
       "  <thead>\n",
       "    <tr style=\"text-align: right;\">\n",
       "      <th></th>\n",
       "      <th>1812-01-01 00:00:00</th>\n",
       "      <th>1813-01-01 00:00:00</th>\n",
       "      <th>1814-01-01 00:00:00</th>\n",
       "      <th>1815-01-01 00:00:00</th>\n",
       "      <th>1816-01-01 00:00:00</th>\n",
       "      <th>1817-01-01 00:00:00</th>\n",
       "      <th>1818-01-01 00:00:00</th>\n",
       "      <th>1819-01-01 00:00:00</th>\n",
       "      <th>1820-01-01 00:00:00</th>\n",
       "      <th>1821-01-01 00:00:00</th>\n",
       "      <th>...</th>\n",
       "      <th>1989-01-01 00:00:00</th>\n",
       "      <th>1990-01-01 00:00:00</th>\n",
       "      <th>1991-01-01 00:00:00</th>\n",
       "      <th>1992-01-01 00:00:00</th>\n",
       "      <th>1993-01-01 00:00:00</th>\n",
       "      <th>1994-01-01 00:00:00</th>\n",
       "      <th>1995-01-01 00:00:00</th>\n",
       "      <th>1996-01-01 00:00:00</th>\n",
       "      <th>1997-01-01 00:00:00</th>\n",
       "      <th>1998-01-01 00:00:00</th>\n",
       "    </tr>\n",
       "  </thead>\n",
       "  <tbody>\n",
       "    <tr>\n",
       "      <th>actuelle</th>\n",
       "      <td>308.0</td>\n",
       "      <td>264.0</td>\n",
       "      <td>350.0</td>\n",
       "      <td>347.0</td>\n",
       "      <td>282.0</td>\n",
       "      <td>277.0</td>\n",
       "      <td>345.0</td>\n",
       "      <td>342.0</td>\n",
       "      <td>390.0</td>\n",
       "      <td>327.0</td>\n",
       "      <td>...</td>\n",
       "      <td>153.0</td>\n",
       "      <td>167.0</td>\n",
       "      <td>170.0</td>\n",
       "      <td>165.0</td>\n",
       "      <td>200.0</td>\n",
       "      <td>262.0</td>\n",
       "      <td>280.0</td>\n",
       "      <td>306.0</td>\n",
       "      <td>309.0</td>\n",
       "      <td>471.0</td>\n",
       "    </tr>\n",
       "    <tr>\n",
       "      <th>affairer</th>\n",
       "      <td>365.0</td>\n",
       "      <td>369.0</td>\n",
       "      <td>233.0</td>\n",
       "      <td>283.0</td>\n",
       "      <td>432.0</td>\n",
       "      <td>342.0</td>\n",
       "      <td>221.0</td>\n",
       "      <td>215.0</td>\n",
       "      <td>158.0</td>\n",
       "      <td>121.0</td>\n",
       "      <td>...</td>\n",
       "      <td>87.0</td>\n",
       "      <td>80.0</td>\n",
       "      <td>82.0</td>\n",
       "      <td>121.0</td>\n",
       "      <td>132.0</td>\n",
       "      <td>133.0</td>\n",
       "      <td>139.0</td>\n",
       "      <td>146.0</td>\n",
       "      <td>149.0</td>\n",
       "      <td>151.0</td>\n",
       "    </tr>\n",
       "    <tr>\n",
       "      <th>ancien</th>\n",
       "      <td>753.0</td>\n",
       "      <td>616.0</td>\n",
       "      <td>235.0</td>\n",
       "      <td>368.0</td>\n",
       "      <td>205.0</td>\n",
       "      <td>261.0</td>\n",
       "      <td>290.0</td>\n",
       "      <td>251.0</td>\n",
       "      <td>361.0</td>\n",
       "      <td>438.0</td>\n",
       "      <td>...</td>\n",
       "      <td>361.0</td>\n",
       "      <td>371.0</td>\n",
       "      <td>373.0</td>\n",
       "      <td>384.0</td>\n",
       "      <td>411.0</td>\n",
       "      <td>405.0</td>\n",
       "      <td>408.0</td>\n",
       "      <td>400.0</td>\n",
       "      <td>415.0</td>\n",
       "      <td>459.0</td>\n",
       "    </tr>\n",
       "    <tr>\n",
       "      <th>anner</th>\n",
       "      <td>159.0</td>\n",
       "      <td>279.0</td>\n",
       "      <td>248.0</td>\n",
       "      <td>226.0</td>\n",
       "      <td>175.0</td>\n",
       "      <td>96.0</td>\n",
       "      <td>160.0</td>\n",
       "      <td>149.0</td>\n",
       "      <td>258.0</td>\n",
       "      <td>315.0</td>\n",
       "      <td>...</td>\n",
       "      <td>31.0</td>\n",
       "      <td>30.0</td>\n",
       "      <td>25.0</td>\n",
       "      <td>25.0</td>\n",
       "      <td>30.0</td>\n",
       "      <td>34.0</td>\n",
       "      <td>38.0</td>\n",
       "      <td>44.0</td>\n",
       "      <td>48.0</td>\n",
       "      <td>81.0</td>\n",
       "    </tr>\n",
       "    <tr>\n",
       "      <th>années</th>\n",
       "      <td>487.0</td>\n",
       "      <td>589.0</td>\n",
       "      <td>453.0</td>\n",
       "      <td>525.0</td>\n",
       "      <td>390.0</td>\n",
       "      <td>346.0</td>\n",
       "      <td>381.0</td>\n",
       "      <td>351.0</td>\n",
       "      <td>477.0</td>\n",
       "      <td>516.0</td>\n",
       "      <td>...</td>\n",
       "      <td>102.0</td>\n",
       "      <td>109.0</td>\n",
       "      <td>104.0</td>\n",
       "      <td>97.0</td>\n",
       "      <td>81.0</td>\n",
       "      <td>86.0</td>\n",
       "      <td>78.0</td>\n",
       "      <td>89.0</td>\n",
       "      <td>89.0</td>\n",
       "      <td>97.0</td>\n",
       "    </tr>\n",
       "  </tbody>\n",
       "</table>\n",
       "<p>5 rows × 187 columns</p>\n",
       "</div>"
      ],
      "text/plain": [
       "          1812-01-01  1813-01-01  1814-01-01  1815-01-01  1816-01-01  \\\n",
       "actuelle       308.0       264.0       350.0       347.0       282.0   \n",
       "affairer       365.0       369.0       233.0       283.0       432.0   \n",
       "ancien         753.0       616.0       235.0       368.0       205.0   \n",
       "anner          159.0       279.0       248.0       226.0       175.0   \n",
       "années         487.0       589.0       453.0       525.0       390.0   \n",
       "\n",
       "          1817-01-01  1818-01-01  1819-01-01  1820-01-01  1821-01-01  \\\n",
       "actuelle       277.0       345.0       342.0       390.0       327.0   \n",
       "affairer       342.0       221.0       215.0       158.0       121.0   \n",
       "ancien         261.0       290.0       251.0       361.0       438.0   \n",
       "anner           96.0       160.0       149.0       258.0       315.0   \n",
       "années         346.0       381.0       351.0       477.0       516.0   \n",
       "\n",
       "             ...      1989-01-01  1990-01-01  1991-01-01  1992-01-01  \\\n",
       "actuelle     ...           153.0       167.0       170.0       165.0   \n",
       "affairer     ...            87.0        80.0        82.0       121.0   \n",
       "ancien       ...           361.0       371.0       373.0       384.0   \n",
       "anner        ...            31.0        30.0        25.0        25.0   \n",
       "années       ...           102.0       109.0       104.0        97.0   \n",
       "\n",
       "          1993-01-01  1994-01-01  1995-01-01  1996-01-01  1997-01-01  \\\n",
       "actuelle       200.0       262.0       280.0       306.0       309.0   \n",
       "affairer       132.0       133.0       139.0       146.0       149.0   \n",
       "ancien         411.0       405.0       408.0       400.0       415.0   \n",
       "anner           30.0        34.0        38.0        44.0        48.0   \n",
       "années          81.0        86.0        78.0        89.0        89.0   \n",
       "\n",
       "          1998-01-01  \n",
       "actuelle       471.0  \n",
       "affairer       151.0  \n",
       "ancien         459.0  \n",
       "anner           81.0  \n",
       "années          97.0  \n",
       "\n",
       "[5 rows x 187 columns]"
      ]
     },
     "execution_count": 19,
     "metadata": {},
     "output_type": "execute_result"
    }
   ],
   "source": [
    "wordAlways = dfMostFrequent.dropna(axis=0)\n",
    "print(wordAlways.shape)\n",
    "wordAlways.head()"
   ]
  },
  {
   "cell_type": "markdown",
   "metadata": {},
   "source": [
    "Now we select the time serie of these words."
   ]
  },
  {
   "cell_type": "code",
   "execution_count": 20,
   "metadata": {
    "collapsed": false
   },
   "outputs": [
    {
     "data": {
      "text/plain": [
       "(197, 200)"
      ]
     },
     "execution_count": 20,
     "metadata": {},
     "output_type": "execute_result"
    }
   ],
   "source": [
    "wordMostFrequ = wordAlways.index.values\n",
    "dfWithMostF = wordYear[wordMostFrequ]\n",
    "dfWithMostF.shape"
   ]
  },
  {
   "cell_type": "markdown",
   "metadata": {},
   "source": [
    "Now we will implement the word cloud that was done with the method described above.\n",
    "\n",
    "We start by generating the first word cloud:"
   ]
  },
  {
   "cell_type": "code",
   "execution_count": 21,
   "metadata": {
    "collapsed": false
   },
   "outputs": [
    {
     "name": "stderr",
     "output_type": "stream",
     "text": [
      "/Users/thomas/anaconda3/lib/python3.5/site-packages/ipykernel/__main__.py:6: VisibleDeprecationWarning: using a non-integer number instead of an integer will result in an error in the future\n"
     ]
    },
    {
     "data": {
      "text/plain": [
       "<wordcloud.wordcloud.WordCloud at 0x1192ee5f8>"
      ]
     },
     "execution_count": 21,
     "metadata": {},
     "output_type": "execute_result"
    }
   ],
   "source": [
    "words = dfWithMostF.columns.astype(str)\n",
    "numWords = dfWithMostF.loc[dfWithMostF.index[0]].values\n",
    "\n",
    "listWords = []\n",
    "for counter,i in enumerate(words):\n",
    "    listWords.append(str(str(i)+' ')*numWords[counter])\n",
    "\n",
    "test = ' '.join(listWords)\n",
    "wordcloud = WordCloud().generate(test)\n",
    "wordcloud.to_file('Images/yearo_0.png')\n",
    "#plt.imsave('Images/year_0.png',wordcloud.to_file)"
   ]
  },
  {
   "cell_type": "markdown",
   "metadata": {},
   "source": [
    "Now we generate each wordcloud based on the corrdinates of the first one."
   ]
  },
  {
   "cell_type": "code",
   "execution_count": 22,
   "metadata": {
    "collapsed": false
   },
   "outputs": [
    {
     "name": "stderr",
     "output_type": "stream",
     "text": [
      "/Users/thomas/anaconda3/lib/python3.5/site-packages/ipykernel/__main__.py:6: VisibleDeprecationWarning: using a non-integer number instead of an integer will result in an error in the future\n"
     ]
    }
   ],
   "source": [
    "for k in np.arange(1,len(dfWithMostF)):\n",
    "    numWordsi = dfWithMostF.loc[dfWithMostF.index[k]].values\n",
    "    listWordsi = []\n",
    "    \n",
    "    for counter,i in enumerate(words):\n",
    "        listWordsi.append(str(str(i)+' ')*numWordsi[counter])\n",
    "\n",
    "    testi = ' '.join(listWordsi)\n",
    "    wordcloudi = WordCloud().generate(testi)\n",
    "    \n",
    "    for i in range(len(wordcloudi.layout_)):\n",
    "        wordi = wordcloudi.layout_[i][0][0]\n",
    "        for j in range(len(wordcloud.layout_)):\n",
    "            otherWord = wordcloud.layout_[j][0][0]\n",
    "            if otherWord == wordi:\n",
    "                wordcloudi.layout_[i] = list(wordcloudi.layout_[i])\n",
    "                wordcloudi.layout_[i][2:] = list(wordcloud.layout_[j][2:])\n",
    "                wordcloudi.layout_[i] = tuple(wordcloudi.layout_[i])\n",
    "                break\n",
    "    \n",
    "    wordcloudi.to_file('Images/yearo_'+str(dfWithMostF.index[k])+'.png')\n"
   ]
  },
  {
   "cell_type": "markdown",
   "metadata": {},
   "source": [
    "And we try to generate a gif."
   ]
  },
  {
   "cell_type": "code",
   "execution_count": 24,
   "metadata": {
    "collapsed": false
   },
   "outputs": [],
   "source": [
    "import imageio\n",
    "import os\n",
    "images = []\n",
    "for filename in os.listdir('Images/'):\n",
    "    if filename.endswith('.png'):\n",
    "        images.append(imageio.imread('Images/'+filename))\n",
    "imageio.mimsave('movie.gif', images, **{ 'duration': 100 })"
   ]
  },
  {
   "cell_type": "code",
   "execution_count": 25,
   "metadata": {
    "collapsed": false
   },
   "outputs": [
    {
     "data": {
      "text/html": [
       "<img src=\"movie.gif\"/>"
      ],
      "text/plain": [
       "<IPython.core.display.Image object>"
      ]
     },
     "execution_count": 25,
     "metadata": {},
     "output_type": "execute_result"
    }
   ],
   "source": [
    "from IPython.display import Image\n",
    "Image(url='movie.gif')  "
   ]
  },
  {
   "cell_type": "markdown",
   "metadata": {},
   "source": [
    "So we can see that it's still very noisy but it's fun to look at!\n",
    "\n",
    "As the gif is static on the GiHub notebook please look at the **movie.gif** file to view the gif."
   ]
  },
  {
   "cell_type": "code",
   "execution_count": null,
   "metadata": {
    "collapsed": true
   },
   "outputs": [],
   "source": []
  }
 ],
 "metadata": {
  "kernelspec": {
   "display_name": "Python [conda root]",
   "language": "python",
   "name": "conda-root-py"
  },
  "language_info": {
   "codemirror_mode": {
    "name": "ipython",
    "version": 3
   },
   "file_extension": ".py",
   "mimetype": "text/x-python",
   "name": "python",
   "nbconvert_exporter": "python",
   "pygments_lexer": "ipython3",
   "version": "3.5.2"
  }
 },
 "nbformat": 4,
 "nbformat_minor": 2
}
