{
 "cells": [
  {
   "cell_type": "code",
   "execution_count": 2,
   "metadata": {
    "collapsed": true
   },
   "outputs": [],
   "source": [
    "from pyspark.sql import SQLContext\n",
    "sqlContext = SQLContext(sc)"
   ]
  },
  {
   "cell_type": "code",
   "execution_count": 2,
   "metadata": {
    "collapsed": false
   },
   "outputs": [],
   "source": [
    "df = sqlContext.read.format('com.databricks.spark.xml').options(rowTag='book').load('books.xml')"
   ]
  },
  {
   "cell_type": "code",
   "execution_count": 9,
   "metadata": {
    "collapsed": false
   },
   "outputs": [],
   "source": [
    "df.select(\"author\", \"@id\").write \\\n",
    "    .format('com.databricks.spark.xml') \\\n",
    "    .options(rowTag='book', rootTag='books') \\\n"
   ]
  },
  {
   "cell_type": "code",
   "execution_count": 3,
   "metadata": {
    "collapsed": false
   },
   "outputs": [],
   "source": [
    "text = sqlContext.read.format('com.databricks.spark.xml').options(rowTag=\"entity\").load('07.xml')"
   ]
  },
  {
   "cell_type": "code",
   "execution_count": 235,
   "metadata": {
    "collapsed": false
   },
   "outputs": [
    {
     "ename": "NameError",
     "evalue": "name 'reduce' is not defined",
     "output_type": "error",
     "traceback": [
      "\u001b[0;31m---------------------------------------------------------------------------\u001b[0m",
      "\u001b[0;31mNameError\u001b[0m                                 Traceback (most recent call last)",
      "\u001b[0;32m<ipython-input-235-34b0e199906c>\u001b[0m in \u001b[0;36m<module>\u001b[0;34m()\u001b[0m\n\u001b[0;32m----> 1\u001b[0;31m \u001b[0mreduce\u001b[0m\u001b[0;34m(\u001b[0m\u001b[0mtext\u001b[0m\u001b[0;34m.\u001b[0m\u001b[0mfull_text\u001b[0m\u001b[0;34m)\u001b[0m\u001b[0;34m\u001b[0m\u001b[0m\n\u001b[0m",
      "\u001b[0;31mNameError\u001b[0m: name 'reduce' is not defined"
     ]
    }
   ],
   "source": [
    "reduce(text.full_text)"
   ]
  },
  {
   "cell_type": "code",
   "execution_count": 67,
   "metadata": {
    "collapsed": false,
    "scrolled": true
   },
   "outputs": [
    {
     "data": {
      "text/plain": [
       "DataFrame[full_text: string, links: struct<continuation_from:string,continuation_to:string,first_id:string,last_id:string,next_id:string,prev_id:string,source:string>, meta: struct<box:string,entity_type:string,id:string,issue_date:string,language:string,name:string,page_no:bigint,publication:string,snp:string,suspicious_chars_count:bigint,total_chars_count:bigint,updated_char_count:bigint,updated_word_count:bigint,word_count:bigint>]"
      ]
     },
     "execution_count": 67,
     "metadata": {},
     "output_type": "execute_result"
    }
   ],
   "source": [
    "sqlContext.read.format('com.databricks.spark.xml').options(rowTag=\"entity\").load('01.xml')"
   ]
  },
  {
   "cell_type": "code",
   "execution_count": 26,
   "metadata": {
    "collapsed": false
   },
   "outputs": [],
   "source": [
    "text = sqlContext.read.format('com.databricks.spark.xml').options(rowTag=\"entity\").load('01.xml')"
   ]
  },
  {
   "cell_type": "code",
   "execution_count": 94,
   "metadata": {
    "collapsed": false
   },
   "outputs": [
    {
     "name": "stdout",
     "output_type": "stream",
     "text": [
      "root\n",
      " |-- full_text: string (nullable = true)\n",
      " |-- links: struct (nullable = true)\n",
      " |    |-- continuation_from: string (nullable = true)\n",
      " |    |-- continuation_to: string (nullable = true)\n",
      " |    |-- first_id: string (nullable = true)\n",
      " |    |-- last_id: string (nullable = true)\n",
      " |    |-- next_id: string (nullable = true)\n",
      " |    |-- prev_id: string (nullable = true)\n",
      " |    |-- source: string (nullable = true)\n",
      " |-- meta: struct (nullable = true)\n",
      " |    |-- box: string (nullable = true)\n",
      " |    |-- entity_type: string (nullable = true)\n",
      " |    |-- id: string (nullable = true)\n",
      " |    |-- issue_date: string (nullable = true)\n",
      " |    |-- language: string (nullable = true)\n",
      " |    |-- name: string (nullable = true)\n",
      " |    |-- page_no: long (nullable = true)\n",
      " |    |-- publication: string (nullable = true)\n",
      " |    |-- snp: string (nullable = true)\n",
      " |    |-- suspicious_chars_count: long (nullable = true)\n",
      " |    |-- total_chars_count: long (nullable = true)\n",
      " |    |-- updated_char_count: long (nullable = true)\n",
      " |    |-- updated_word_count: long (nullable = true)\n",
      " |    |-- word_count: long (nullable = true)\n",
      "\n"
     ]
    }
   ],
   "source": [
    "text.printSchema()"
   ]
  },
  {
   "cell_type": "code",
   "execution_count": 63,
   "metadata": {
    "collapsed": false
   },
   "outputs": [
    {
     "data": {
      "text/plain": [
       "\"SVaud Depuis qu'ils passent en direct sur la télévision locale, les élus lausannois font du zèle 9 Genève Les dossiers médicaux antérieurs à 1950 seront désormais accessibles aux historiens 11 Economie En Suisse, le marché de l'automobile a fait du surplace en 1995 Services 16 Décès, 17 Carnet, 18 Cinémas, 19 Télévision 20 Météo, « 24 heures »\""
      ]
     },
     "execution_count": 63,
     "metadata": {},
     "output_type": "execute_result"
    }
   ],
   "source": [
    "text.head(1)[0].full_text"
   ]
  },
  {
   "cell_type": "code",
   "execution_count": 100,
   "metadata": {
    "collapsed": false
   },
   "outputs": [
    {
     "name": "stdout",
     "output_type": "stream",
     "text": [
      "+--------------------+--------------------+--------------------+\n",
      "|           full_text|               links|                meta|\n",
      "+--------------------+--------------------+--------------------+\n",
      "|SVaud Depuis qu'i...|[null,null,Ar0010...|[23 400 1220 492,...|\n",
      "|ÉDITORIAL Ce sont...|[null,null,Ar0010...|[30 542 230 2019,...|\n",
      "+--------------------+--------------------+--------------------+\n",
      "only showing top 2 rows\n",
      "\n"
     ]
    }
   ],
   "source": [
    "text.show(2,truncate= True)"
   ]
  },
  {
   "cell_type": "markdown",
   "metadata": {},
   "source": [
    "Number of rows in the dataFrame."
   ]
  },
  {
   "cell_type": "code",
   "execution_count": 40,
   "metadata": {
    "collapsed": false
   },
   "outputs": [
    {
     "data": {
      "text/plain": [
       "3446"
      ]
     },
     "execution_count": 40,
     "metadata": {},
     "output_type": "execute_result"
    }
   ],
   "source": [
    "text.count()"
   ]
  },
  {
   "cell_type": "markdown",
   "metadata": {},
   "source": [
    "Number of columns in the dataFram."
   ]
  },
  {
   "cell_type": "code",
   "execution_count": 103,
   "metadata": {
    "collapsed": false
   },
   "outputs": [
    {
     "name": "stdout",
     "output_type": "stream",
     "text": [
      "['full_text', 'links', 'meta']\n"
     ]
    },
    {
     "data": {
      "text/plain": [
       "3"
      ]
     },
     "execution_count": 103,
     "metadata": {},
     "output_type": "execute_result"
    }
   ],
   "source": [
    "print(text.columns)\n",
    "len(text.columns)"
   ]
  },
  {
   "cell_type": "code",
   "execution_count": 44,
   "metadata": {
    "collapsed": false
   },
   "outputs": [
    {
     "data": {
      "text/plain": [
       "DataFrame[box: string]"
      ]
     },
     "execution_count": 44,
     "metadata": {},
     "output_type": "execute_result"
    }
   ],
   "source": [
    "text.select('meta.box')"
   ]
  },
  {
   "cell_type": "code",
   "execution_count": 140,
   "metadata": {
    "collapsed": false
   },
   "outputs": [
    {
     "data": {
      "text/plain": [
       "2900"
      ]
     },
     "execution_count": 140,
     "metadata": {},
     "output_type": "execute_result"
    }
   ],
   "source": [
    "text.select('full_text').distinct().count()"
   ]
  },
  {
   "cell_type": "code",
   "execution_count": 165,
   "metadata": {
    "collapsed": false
   },
   "outputs": [
    {
     "name": "stdout",
     "output_type": "stream",
     "text": [
      "+--------------------+--------------------+--------------------+\n",
      "|           full_text|               links|                meta|\n",
      "+--------------------+--------------------+--------------------+\n",
      "|SVaud Depuis qu'i...|[null,null,Ar0010...|[23 400 1220 492,...|\n",
      "|ÉDITORIAL Ce sont...|[null,null,Ar0010...|[30 542 230 2019,...|\n",
      "|ïn Thaïlande, l'â...|[null,null,Ar0010...|[243 562 1095 151...|\n",
      "+--------------------+--------------------+--------------------+\n",
      "only showing top 3 rows\n",
      "\n"
     ]
    }
   ],
   "source": [
    "text.show(3)"
   ]
  },
  {
   "cell_type": "code",
   "execution_count": 213,
   "metadata": {
    "collapsed": false
   },
   "outputs": [
    {
     "data": {
      "text/plain": [
       "DataFrame[suspicious_chars_count: bigint]"
      ]
     },
     "execution_count": 213,
     "metadata": {},
     "output_type": "execute_result"
    }
   ],
   "source": [
    "#import pyspark.sql.functions.explode\n",
    "\n",
    "text.select('meta.suspicious_chars_count')"
   ]
  },
  {
   "cell_type": "code",
   "execution_count": 204,
   "metadata": {
    "collapsed": false
   },
   "outputs": [
    {
     "data": {
      "text/plain": [
       "DataFrame[meta: struct<box:string,entity_type:string,id:string,issue_date:string,language:string,name:string,page_no:bigint,publication:string,snp:string,suspicious_chars_count:bigint,total_chars_count:bigint,updated_char_count:bigint,updated_word_count:bigint,word_count:bigint>]"
      ]
     },
     "execution_count": 204,
     "metadata": {},
     "output_type": "execute_result"
    }
   ],
   "source": [
    "text.select('meta')"
   ]
  },
  {
   "cell_type": "code",
   "execution_count": 161,
   "metadata": {
    "collapsed": false
   },
   "outputs": [
    {
     "data": {
      "text/plain": [
       "DataFrame[meta: struct<box:string,entity_type:string,id:string,issue_date:string,language:string,name:string,page_no:bigint,publication:string,snp:string,suspicious_chars_count:bigint,total_chars_count:bigint,updated_char_count:bigint,updated_word_count:bigint,word_count:bigint>]"
      ]
     },
     "execution_count": 161,
     "metadata": {},
     "output_type": "execute_result"
    }
   ],
   "source": [
    "text.select('meta')"
   ]
  },
  {
   "cell_type": "code",
   "execution_count": 93,
   "metadata": {
    "collapsed": false
   },
   "outputs": [
    {
     "data": {
      "text/plain": [
       "pyspark.sql.dataframe.DataFrame"
      ]
     },
     "execution_count": 93,
     "metadata": {},
     "output_type": "execute_result"
    }
   ],
   "source": [
    "type(text)"
   ]
  },
  {
   "cell_type": "code",
   "execution_count": 46,
   "metadata": {
    "collapsed": false
   },
   "outputs": [
    {
     "data": {
      "text/plain": [
       "Row(full_text=\"SVaud Depuis qu'ils passent en direct sur la télévision locale, les élus lausannois font du zèle 9 Genève Les dossiers médicaux antérieurs à 1950 seront désormais accessibles aux historiens 11 Economie En Suisse, le marché de l'automobile a fait du surplace en 1995 Services 16 Décès, 17 Carnet, 18 Cinémas, 19 Télévision 20 Météo, « 24 heures »\")"
      ]
     },
     "execution_count": 46,
     "metadata": {},
     "output_type": "execute_result"
    }
   ],
   "source": [
    "text.select('full_text').first()"
   ]
  },
  {
   "cell_type": "code",
   "execution_count": 78,
   "metadata": {
    "collapsed": false
   },
   "outputs": [
    {
     "data": {
      "text/plain": [
       "['svaud',\n",
       " 'depuis',\n",
       " \"qu'ils\",\n",
       " 'passent',\n",
       " 'en',\n",
       " 'direct',\n",
       " 'sur',\n",
       " 'la',\n",
       " 'télévision',\n",
       " 'locale,',\n",
       " 'les',\n",
       " 'élus',\n",
       " 'lausannois',\n",
       " 'font',\n",
       " 'du',\n",
       " 'zèle',\n",
       " '9',\n",
       " 'genève',\n",
       " 'les',\n",
       " 'dossiers',\n",
       " 'médicaux',\n",
       " 'antérieurs',\n",
       " 'à',\n",
       " '1950',\n",
       " 'seront',\n",
       " 'désormais',\n",
       " 'accessibles',\n",
       " 'aux',\n",
       " 'historiens',\n",
       " '11',\n",
       " 'economie',\n",
       " 'en',\n",
       " 'suisse,',\n",
       " 'le',\n",
       " 'marché',\n",
       " 'de',\n",
       " \"l'automobile\",\n",
       " 'a',\n",
       " 'fait',\n",
       " 'du',\n",
       " 'surplace',\n",
       " 'en',\n",
       " '1995',\n",
       " 'services',\n",
       " '16',\n",
       " 'décès,',\n",
       " '17',\n",
       " 'carnet,',\n",
       " '18',\n",
       " 'cinémas,',\n",
       " '19',\n",
       " 'télévision',\n",
       " '20',\n",
       " 'météo,',\n",
       " '«',\n",
       " '24',\n",
       " 'heures',\n",
       " '»']"
      ]
     },
     "execution_count": 78,
     "metadata": {},
     "output_type": "execute_result"
    }
   ],
   "source": [
    "text.select('full_text').map(lambda x: x.full_text.lower().split()).first()\n"
   ]
  },
  {
   "cell_type": "code",
   "execution_count": 61,
   "metadata": {
    "collapsed": false
   },
   "outputs": [
    {
     "data": {
      "text/plain": [
       "'03/01/1996'"
      ]
     },
     "execution_count": 61,
     "metadata": {},
     "output_type": "execute_result"
    }
   ],
   "source": [
    "text.select('meta.issue_date').first().issue_date"
   ]
  },
  {
   "cell_type": "markdown",
   "metadata": {},
   "source": [
    "Direct access to text."
   ]
  },
  {
   "cell_type": "code",
   "execution_count": 29,
   "metadata": {
    "collapsed": false
   },
   "outputs": [
    {
     "data": {
      "text/plain": [
       "\"AIT se restructure et annonce la suppression de 40 000 emplois Pour rester compétitif, le géant américain du téléphone entend supprimer près de 10 % de ses effectifs, qui sont de 300 ooo personnes dont 50 ooo àl'étranger e géant américain du téléphone ATT a annoncé mardi 40 000 suppressions'd'emplois, soit plus de 10 nombre total de ses employés, dans le cadre dé son programme de restructuration. ATT emploie actuellement quelque 300 000 personnes, dont 50 000 à l'étranger. « Je pense que les réductions (d'effectifs) et d'autres actions sont absolument nécessaires si nos entreprises veulent rester compétitives », a déclaré dans un communiqué le président directeur général de ATT Robert Allen. Quelque 70 % des suppressions d'emplois seront effectives ides cette année. ATT a annoncé en septembre son éclatement en trois nouvelles compagnies : télécommunications, systèmes et technologie et la division informatique, Global Information Systems. La compagnie a annoncé une provision de quelque 6 milliards de dollars pour réaliser cette restructuration qu'elle compte boucler d'ici la fin de l'année. Ceci réduira les profits au quatrième trimestre 1995 de 2,5 dollars paraction.. Environ 6500 employés avaient Accepté fin 1995 une offre de départ volontaire et ATT estime que 4000 autres personnes, travaillant pour des filiales qui doivent être vendues, pourront sans doute conserver leur emploi. Ceci réduira à 30 000 le nombre de licenciements, selon la compagnie. Basé sur le chiffre d'affaires de 67 milliards de dollars en 1994, l'éclatement d'ATT est le plus grand jamais opéré. Il surpasse le précédent en 1984 quand le Gouvernement américain avait mis fin au monopole de la compagnie dans les télécommunications à longue distance qui avait ouvert la voie au développement de MCI et de Sprint. En octobre, la Commission fédérale des communications (FCC) avait décidé de ne plus considérer ATT comme une compagnie de téléphone dominante, permettant au numéro un américain des télécommunications longue distance de modifier rapidement ses tarifs pour réagir à la concurrence. La part du marché des télécommunications longue distance détenue par ATT aux Etats-Unis est tombée de 88 % à 58 % depuis 1984. Le marché est actuellement évalué à 70 milliards de dollars. (AFP)\""
      ]
     },
     "execution_count": 29,
     "metadata": {},
     "output_type": "execute_result"
    }
   ],
   "source": [
    "textTest = text.select('full_text').take(10)[9].full_text\n",
    "text.select('full_text').take(10)[9].full_text"
   ]
  },
  {
   "cell_type": "code",
   "execution_count": 5,
   "metadata": {
    "collapsed": false
   },
   "outputs": [
    {
     "data": {
      "text/plain": [
       "PythonRDD[21] at RDD at PythonRDD.scala:43"
      ]
     },
     "execution_count": 5,
     "metadata": {},
     "output_type": "execute_result"
    }
   ],
   "source": [
    "sc.parallelize(textTest).map(lambda x: x.split(\",\"))"
   ]
  },
  {
   "cell_type": "code",
   "execution_count": 113,
   "metadata": {
    "collapsed": false
   },
   "outputs": [
    {
     "data": {
      "text/plain": [
       "[(24, 'de'), (8, 'le'), (8, 'la'), (7, 'ATT'), (6, 'et')]"
      ]
     },
     "execution_count": 113,
     "metadata": {},
     "output_type": "execute_result"
    }
   ],
   "source": [
    "lines = sc.parallelize([textTest]) \n",
    "one = lines.map( lambda x: x.replace(',',' ').replace('.',' ').replace('-',' ').lower())\n",
    "two = lines.flatMap(lambda x: x.split(' '))\n",
    "three = two.map(lambda x: (x, 1))\n",
    "four = three.reduceByKey(lambda x,y:x+y)\n",
    "five = four.map(lambda x:(x[1],x[0]))\n",
    "six = five.sortByKey(False).take(5)\n",
    "six"
   ]
  },
  {
   "cell_type": "code",
   "execution_count": 122,
   "metadata": {
    "collapsed": false
   },
   "outputs": [
    {
     "data": {
      "text/plain": [
       "[('trois', [1]), ('conserver', [1])]"
      ]
     },
     "execution_count": 122,
     "metadata": {},
     "output_type": "execute_result"
    }
   ],
   "source": [
    "lines = sc.parallelize([textTest]) \n",
    "one = lines.map( lambda x: x.replace(',',' ').replace('.',' ').replace('-',' ').lower())\n",
    "two = lines.flatMap(lambda x: x.split(' '))\n",
    "three = two.map(lambda x: (x, 1))\n",
    "four = three.groupByKey().map(lambda x : (x[0], list(x[1]))).take(2)\n",
    "four"
   ]
  },
  {
   "cell_type": "code",
   "execution_count": 28,
   "metadata": {
    "collapsed": false
   },
   "outputs": [
    {
     "data": {
      "text/plain": [
       "PythonRDD[150] at RDD at PythonRDD.scala:43"
      ]
     },
     "execution_count": 28,
     "metadata": {},
     "output_type": "execute_result"
    }
   ],
   "source": [
    "text.select('full_text').map( lambda x: x.full_text.replace(',',' ').replace('.',' ').replace('-',' ').replace(\"'\",' ').lower())\\\n",
    "                        .map(lambda x: x.split(' '))"
   ]
  },
  {
   "cell_type": "code",
   "execution_count": 191,
   "metadata": {
    "collapsed": false
   },
   "outputs": [],
   "source": [
    "a = text.select('full_text').map(lambda x: x.full_text.replace(',',' ').replace('.',' ').replace('-',' ').lower())\\\n",
    "                            .map(lambda x: x.split(' ')).take(2)"
   ]
  },
  {
   "cell_type": "code",
   "execution_count": 246,
   "metadata": {
    "collapsed": false,
    "scrolled": true
   },
   "outputs": [],
   "source": [
    "b = text.select('full_text').map(lambda x: x.full_text.replace(',',' ').replace('.',' ').replace('-',' ').lower())\\\n",
    "                        .flatMap(lambda x: x.split(' '))\\\n",
    "                        .map(lambda x: (x, 1))"
   ]
  },
  {
   "cell_type": "code",
   "execution_count": 254,
   "metadata": {
    "collapsed": false
   },
   "outputs": [
    {
     "data": {
      "text/plain": [
       "PythonRDD[1070] at RDD at PythonRDD.scala:43"
      ]
     },
     "execution_count": 254,
     "metadata": {},
     "output_type": "execute_result"
    }
   ],
   "source": [
    "b.map(lambda x: x).groupByKey()"
   ]
  },
  {
   "cell_type": "code",
   "execution_count": 146,
   "metadata": {
    "collapsed": false,
    "scrolled": true
   },
   "outputs": [],
   "source": [
    "a = text.select('full_text').map(lambda x: x.full_text)\\\n",
    "                            .flatMap(lambda doc: [(x, 1) for x in doc.split(' ')]).reduceByKey(add)\n",
    "                        "
   ]
  },
  {
   "cell_type": "code",
   "execution_count": 184,
   "metadata": {
    "collapsed": false
   },
   "outputs": [],
   "source": [
    "a = text.select('full_text').flatMap(lambda x: x.full_text)"
   ]
  },
  {
   "cell_type": "code",
   "execution_count": 196,
   "metadata": {
    "collapsed": false
   },
   "outputs": [],
   "source": [
    "from pyspark import SparkContext, SparkConf\n"
   ]
  },
  {
   "cell_type": "code",
   "execution_count": 8,
   "metadata": {
    "collapsed": false
   },
   "outputs": [],
   "source": [
    "textClean = text.select('full_text')"
   ]
  },
  {
   "cell_type": "code",
   "execution_count": 59,
   "metadata": {
    "collapsed": false
   },
   "outputs": [
    {
     "data": {
      "text/plain": [
       "PythonRDD[145] at RDD at PythonRDD.scala:43"
      ]
     },
     "execution_count": 59,
     "metadata": {},
     "output_type": "execute_result"
    }
   ],
   "source": [
    "textClean.map(lambda x: x.full_text).flatMap(lambda x: x.split(' ')).map(lambda x: (x,1))\\\n",
    "                                    .reduceByKey(lambda x,y:x+y)\\\n",
    "                                    .map(lambda x:(x[1],x[0]))\\\n",
    "                                    .sortByKey(False)\n",
    "                    "
   ]
  },
  {
   "cell_type": "code",
   "execution_count": 63,
   "metadata": {
    "collapsed": false
   },
   "outputs": [
    {
     "data": {
      "text/plain": [
       "['9', 'Suisse']"
      ]
     },
     "execution_count": 63,
     "metadata": {},
     "output_type": "execute_result"
    }
   ],
   "source": [
    "textClean.map(lambda x: x.full_text).flatMap(lambda x: x.split(' ')).take(2)\n",
    "                    "
   ]
  },
  {
   "cell_type": "code",
   "execution_count": 260,
   "metadata": {
    "collapsed": false
   },
   "outputs": [
    {
     "data": {
      "text/plain": [
       "DataFrame[full_text: string, links: struct<continuation_from:string,continuation_to:string,first_id:string,last_id:string,next_id:string,prev_id:string,source:string>, meta: struct<box:string,entity_type:string,id:string,issue_date:string,language:string,name:string,page_no:bigint,publication:string,snp:string,suspicious_chars_count:bigint,total_chars_count:bigint,updated_char_count:bigint,updated_word_count:bigint,word_count:bigint>]"
      ]
     },
     "execution_count": 260,
     "metadata": {},
     "output_type": "execute_result"
    }
   ],
   "source": [
    "text"
   ]
  },
  {
   "cell_type": "code",
   "execution_count": 145,
   "metadata": {
    "collapsed": false
   },
   "outputs": [],
   "source": [
    "from operator import add"
   ]
  },
  {
   "cell_type": "code",
   "execution_count": 4,
   "metadata": {
    "collapsed": false,
    "scrolled": false
   },
   "outputs": [],
   "source": [
    "#a = text.select('full_text').map(lambda x: x.full_text)\\\n",
    "                            #.map(lambda x: x.split(' ')).collect()"
   ]
  },
  {
   "cell_type": "code",
   "execution_count": 303,
   "metadata": {
    "collapsed": false
   },
   "outputs": [],
   "source": [
    "b = None"
   ]
  },
  {
   "cell_type": "code",
   "execution_count": 306,
   "metadata": {
    "collapsed": false
   },
   "outputs": [
    {
     "data": {
      "text/plain": [
       "True"
      ]
     },
     "execution_count": 306,
     "metadata": {},
     "output_type": "execute_result"
    }
   ],
   "source": [
    "b == None"
   ]
  },
  {
   "cell_type": "code",
   "execution_count": 46,
   "metadata": {
    "collapsed": false
   },
   "outputs": [
    {
     "data": {
      "text/plain": [
       "'103_JDG_1996_01_03_0001.PDF'"
      ]
     },
     "execution_count": 46,
     "metadata": {},
     "output_type": "execute_result"
    }
   ],
   "source": [
    "text.select('links').first().links.source"
   ]
  },
  {
   "cell_type": "code",
   "execution_count": 5,
   "metadata": {
    "collapsed": false
   },
   "outputs": [],
   "source": [
    "#import xml.etree.ElementTree\n",
    "from bs4 import BeautifulSoup\n",
    "f = open('07.xml')\n",
    "\n",
    "#e = xml.etree.ElementTree.parse(f).getroot()\n",
    "soup = BeautifulSoup(f, 'lxml')"
   ]
  },
  {
   "cell_type": "code",
   "execution_count": null,
   "metadata": {
    "collapsed": true
   },
   "outputs": [],
   "source": [
    "for s in soup.find_all('article'):\n",
    "    print(s)"
   ]
  },
  {
   "cell_type": "code",
   "execution_count": 6,
   "metadata": {
    "collapsed": false
   },
   "outputs": [
    {
     "data": {
      "text/plain": [
       "['.DS_Store',\n",
       " '.ipynb_checkpoints',\n",
       " '01.xml',\n",
       " '02.xml',\n",
       " '03.xml',\n",
       " '04.xml',\n",
       " '05.xml',\n",
       " '06.xml',\n",
       " '07.xml',\n",
       " 'books.xml',\n",
       " 'derby.log',\n",
       " 'dosingGuidelines.json',\n",
       " 'metastore_db',\n",
       " 'test.json',\n",
       " 'Untitled.ipynb']"
      ]
     },
     "execution_count": 6,
     "metadata": {},
     "output_type": "execute_result"
    }
   ],
   "source": [
    "import os\n",
    "os.listdir()"
   ]
  },
  {
   "cell_type": "code",
   "execution_count": 47,
   "metadata": {
    "collapsed": true
   },
   "outputs": [
    {
     "ename": "AttributeError",
     "evalue": "'xml.etree.ElementTree.Element' object has no attribute 'article'",
     "output_type": "error",
     "traceback": [
      "\u001b[0;31m---------------------------------------------------------------------------\u001b[0m",
      "\u001b[0;31mAttributeError\u001b[0m                            Traceback (most recent call last)",
      "\u001b[0;32m<ipython-input-47-b86f74282547>\u001b[0m in \u001b[0;36m<module>\u001b[0;34m()\u001b[0m\n\u001b[0;32m----> 1\u001b[0;31m \u001b[0me\u001b[0m\u001b[0;34m.\u001b[0m\u001b[0marticle\u001b[0m\u001b[0;34m\u001b[0m\u001b[0m\n\u001b[0m",
      "\u001b[0;31mAttributeError\u001b[0m: 'xml.etree.ElementTree.Element' object has no attribute 'article'"
     ]
    }
   ],
   "source": [
    "e.article"
   ]
  },
  {
   "cell_type": "code",
   "execution_count": 72,
   "metadata": {
    "collapsed": true
   },
   "outputs": [],
   "source": [
    "df = sqlContext.read.json('test.json')\n"
   ]
  },
  {
   "cell_type": "code",
   "execution_count": 73,
   "metadata": {
    "collapsed": false
   },
   "outputs": [
    {
     "data": {
      "text/plain": [
       "DataFrame[_corrupt_record: string]"
      ]
     },
     "execution_count": 73,
     "metadata": {},
     "output_type": "execute_result"
    }
   ],
   "source": [
    "df"
   ]
  },
  {
   "cell_type": "code",
   "execution_count": 66,
   "metadata": {
    "collapsed": false
   },
   "outputs": [],
   "source": [
    "from bs4 import BeautifulSoup"
   ]
  },
  {
   "cell_type": "code",
   "execution_count": 54,
   "metadata": {
    "collapsed": false
   },
   "outputs": [],
   "source": [
    "f = open('07.xml','r')\n",
    "f_2 = open('02.xml','r')\n",
    "soup = BeautifulSoup(f,'lxml')\n",
    "soup2 = BeautifulSoup(f_2,'lxml')"
   ]
  },
  {
   "cell_type": "code",
   "execution_count": null,
   "metadata": {
    "collapsed": true
   },
   "outputs": [],
   "source": []
  },
  {
   "cell_type": "code",
   "execution_count": 58,
   "metadata": {
    "collapsed": false
   },
   "outputs": [],
   "source": [
    "XML = []\n",
    "XML_2 = []\n",
    "for ft in soup.find_all('full_text'):\n",
    "    XML.append(ft.text)\n",
    "    \n",
    "for ft in soup2.find_all('full_text'):\n",
    "    XML_2.append(ft.text)"
   ]
  },
  {
   "cell_type": "code",
   "execution_count": 59,
   "metadata": {
    "collapsed": false
   },
   "outputs": [],
   "source": [
    "textXML = ' '.join(XML)\n",
    "textXML2= ' '.join(XML_2)"
   ]
  },
  {
   "cell_type": "code",
   "execution_count": 12,
   "metadata": {
    "collapsed": false
   },
   "outputs": [
    {
     "name": "stdout",
     "output_type": "stream",
     "text": [
      "1 loop, best of 3: 1.91 s per loop\n"
     ]
    }
   ],
   "source": [
    "%%timeit\n",
    "countSC = sc.parallelize([textXML]).map(lambda x: x.replace(',',' ').replace('.',' ').replace('-',' ').lower())\\\n",
    "                            .flatMap(lambda x: x.split()) \\\n",
    "                            .map(lambda x: (x, 1)) \\\n",
    "                            .reduceByKey(lambda x,y:x+y) \\\n",
    "                            .map(lambda x:(x[1],x[0])) \\\n",
    "                            .sortByKey(False).collect()"
   ]
  },
  {
   "cell_type": "code",
   "execution_count": 13,
   "metadata": {
    "collapsed": false
   },
   "outputs": [],
   "source": [
    "from collections import Counter"
   ]
  },
  {
   "cell_type": "code",
   "execution_count": 33,
   "metadata": {
    "collapsed": false
   },
   "outputs": [
    {
     "name": "stdout",
     "output_type": "stream",
     "text": [
      "10 loops, best of 3: 166 ms per loop\n"
     ]
    }
   ],
   "source": [
    "%%timeit\n",
    "a =Counter(textXML.replace(',',' ')\\\n",
    "           .replace('.',' ').replace('-',' ').lower().split())\n",
    "countList = a.most_common(len(a))"
   ]
  },
  {
   "cell_type": "code",
   "execution_count": 60,
   "metadata": {
    "collapsed": true
   },
   "outputs": [],
   "source": [
    "b =Counter(textXML2.replace(',',' ')\\\n",
    "           .replace('.',' ').replace('-',' ').lower().split())\n",
    "countList2 = b.most_common(len(a))"
   ]
  },
  {
   "cell_type": "code",
   "execution_count": 34,
   "metadata": {
    "collapsed": false
   },
   "outputs": [],
   "source": [
    "import pandas as pd"
   ]
  },
  {
   "cell_type": "code",
   "execution_count": 61,
   "metadata": {
    "collapsed": false
   },
   "outputs": [],
   "source": [
    "xml_7 = pd.DataFrame(countList).transpose()\n",
    "xml_2 = pd.DataFrame(countList2).transpose()\n",
    "xml_7.columns = xml_7.loc[0]\n",
    "xml_2.columns = xml_2.loc[0]"
   ]
  },
  {
   "cell_type": "code",
   "execution_count": 62,
   "metadata": {
    "collapsed": false
   },
   "outputs": [],
   "source": [
    "xml_7 = xml_7.drop(0)\n",
    "xml_2 = xml_2.drop(0)"
   ]
  },
  {
   "cell_type": "code",
   "execution_count": 63,
   "metadata": {
    "collapsed": false
   },
   "outputs": [],
   "source": [
    "xml_7.index = ['01/1998']\n",
    "xml_2.index = ['02/1998']"
   ]
  },
  {
   "cell_type": "code",
   "execution_count": 50,
   "metadata": {
    "collapsed": false
   },
   "outputs": [
    {
     "data": {
      "text/html": [
       "<div>\n",
       "<table border=\"1\" class=\"dataframe\">\n",
       "  <thead>\n",
       "    <tr style=\"text-align: right;\">\n",
       "      <th></th>\n",
       "      <th>de</th>\n",
       "      <th>la</th>\n",
       "      <th>5</th>\n",
       "      <th>le</th>\n",
       "      <th>6</th>\n",
       "      <th>à</th>\n",
       "      <th>et</th>\n",
       "      <th>7</th>\n",
       "      <th>les</th>\n",
       "      <th>00</th>\n",
       "      <th>...</th>\n",
       "      <th>1207</th>\n",
       "      <th>633332</th>\n",
       "      <th>assemblés</th>\n",
       "      <th>l'esb</th>\n",
       "      <th>charpak</th>\n",
       "      <th>sonnelle</th>\n",
       "      <th>cfb</th>\n",
       "      <th>sakofi</th>\n",
       "      <th>par'des</th>\n",
       "      <th>%0</th>\n",
       "    </tr>\n",
       "  </thead>\n",
       "  <tbody>\n",
       "    <tr>\n",
       "      <th>01/1998</th>\n",
       "      <td>8679</td>\n",
       "      <td>4384</td>\n",
       "      <td>3611</td>\n",
       "      <td>3373</td>\n",
       "      <td>2834</td>\n",
       "      <td>2792</td>\n",
       "      <td>2782</td>\n",
       "      <td>2695</td>\n",
       "      <td>2693</td>\n",
       "      <td>2691</td>\n",
       "      <td>...</td>\n",
       "      <td>1</td>\n",
       "      <td>1</td>\n",
       "      <td>1</td>\n",
       "      <td>1</td>\n",
       "      <td>1</td>\n",
       "      <td>1</td>\n",
       "      <td>1</td>\n",
       "      <td>1</td>\n",
       "      <td>1</td>\n",
       "      <td>1</td>\n",
       "    </tr>\n",
       "  </tbody>\n",
       "</table>\n",
       "<p>1 rows × 30501 columns</p>\n",
       "</div>"
      ],
      "text/plain": [
       "0          de    la     5    le     6     à    et     7   les    00 ... 1207  \\\n",
       "01/1998  8679  4384  3611  3373  2834  2792  2782  2695  2693  2691 ...    1   \n",
       "\n",
       "0       633332 assemblés l'esb charpak sonnelle cfb sakofi par'des %0  \n",
       "01/1998      1         1     1       1        1   1      1       1  1  \n",
       "\n",
       "[1 rows x 30501 columns]"
      ]
     },
     "execution_count": 50,
     "metadata": {},
     "output_type": "execute_result"
    }
   ],
   "source": [
    "xml_7"
   ]
  },
  {
   "cell_type": "code",
   "execution_count": 64,
   "metadata": {
    "collapsed": false
   },
   "outputs": [
    {
     "data": {
      "text/html": [
       "<div>\n",
       "<table border=\"1\" class=\"dataframe\">\n",
       "  <thead>\n",
       "    <tr style=\"text-align: right;\">\n",
       "      <th></th>\n",
       "      <th>de</th>\n",
       "      <th>la</th>\n",
       "      <th>le</th>\n",
       "      <th>à</th>\n",
       "      <th>et</th>\n",
       "      <th>5</th>\n",
       "      <th>les</th>\n",
       "      <th>2</th>\n",
       "      <th>des</th>\n",
       "      <th>1</th>\n",
       "      <th>...</th>\n",
       "      <th>fihan</th>\n",
       "      <th>d'alphonse</th>\n",
       "      <th>aprèsmidi</th>\n",
       "      <th>espacenoir</th>\n",
       "      <th>quadrature</th>\n",
       "      <th>laforêt</th>\n",
       "      <th>cidessous)</th>\n",
       "      <th>6719</th>\n",
       "      <th>restantes</th>\n",
       "      <th>l'avancée</th>\n",
       "    </tr>\n",
       "  </thead>\n",
       "  <tbody>\n",
       "    <tr>\n",
       "      <th>02/1998</th>\n",
       "      <td>75048</td>\n",
       "      <td>36430</td>\n",
       "      <td>28238</td>\n",
       "      <td>24648</td>\n",
       "      <td>24431</td>\n",
       "      <td>23811</td>\n",
       "      <td>23248</td>\n",
       "      <td>22248</td>\n",
       "      <td>20049</td>\n",
       "      <td>19843</td>\n",
       "      <td>...</td>\n",
       "      <td>3</td>\n",
       "      <td>3</td>\n",
       "      <td>3</td>\n",
       "      <td>3</td>\n",
       "      <td>3</td>\n",
       "      <td>3</td>\n",
       "      <td>3</td>\n",
       "      <td>3</td>\n",
       "      <td>3</td>\n",
       "      <td>3</td>\n",
       "    </tr>\n",
       "  </tbody>\n",
       "</table>\n",
       "<p>1 rows × 30501 columns</p>\n",
       "</div>"
      ],
      "text/plain": [
       "0           de     la     le      à     et      5    les      2    des      1  \\\n",
       "02/1998  75048  36430  28238  24648  24431  23811  23248  22248  20049  19843   \n",
       "\n",
       "0          ...    fihan d'alphonse aprèsmidi espacenoir quadrature laforêt  \\\n",
       "02/1998    ...        3          3         3          3          3       3   \n",
       "\n",
       "0       cidessous) 6719 restantes l'avancée  \n",
       "02/1998          3    3         3         3  \n",
       "\n",
       "[1 rows x 30501 columns]"
      ]
     },
     "execution_count": 64,
     "metadata": {},
     "output_type": "execute_result"
    }
   ],
   "source": [
    "xml_2"
   ]
  },
  {
   "cell_type": "code",
   "execution_count": null,
   "metadata": {
    "collapsed": false
   },
   "outputs": [],
   "source": [
    "%%timeit\n",
    "merge = pd.concat([xml_2,xml_7], axis=0)"
   ]
  },
  {
   "cell_type": "code",
   "execution_count": 73,
   "metadata": {
    "collapsed": false
   },
   "outputs": [
    {
     "data": {
      "text/html": [
       "<div>\n",
       "<table border=\"1\" class=\"dataframe\">\n",
       "  <thead>\n",
       "    <tr style=\"text-align: right;\">\n",
       "      <th></th>\n",
       "      <th>!</th>\n",
       "      <th>!)</th>\n",
       "      <th>!);</th>\n",
       "      <th>!*</th>\n",
       "      <th>!;</th>\n",
       "      <th>!»</th>\n",
       "      <th>\"</th>\n",
       "      <th>\"\"</th>\n",
       "      <th>\"''s</th>\n",
       "      <th>\"'•</th>\n",
       "      <th>...</th>\n",
       "      <th>•</th>\n",
       "      <th>•'</th>\n",
       "      <th>•—</th>\n",
       "      <th>••</th>\n",
       "      <th>•••</th>\n",
       "      <th>••••</th>\n",
       "      <th>•••••</th>\n",
       "      <th>€</th>\n",
       "      <th>™</th>\n",
       "      <th>™™</th>\n",
       "    </tr>\n",
       "  </thead>\n",
       "  <tbody>\n",
       "    <tr>\n",
       "      <th>0</th>\n",
       "      <td>1692</td>\n",
       "      <td>39</td>\n",
       "      <td>4</td>\n",
       "      <td>NaN</td>\n",
       "      <td>11</td>\n",
       "      <td>119</td>\n",
       "      <td>848</td>\n",
       "      <td>7</td>\n",
       "      <td>NaN</td>\n",
       "      <td>NaN</td>\n",
       "      <td>...</td>\n",
       "      <td>63</td>\n",
       "      <td>6</td>\n",
       "      <td>5</td>\n",
       "      <td>23</td>\n",
       "      <td>5</td>\n",
       "      <td>7</td>\n",
       "      <td>5</td>\n",
       "      <td>4</td>\n",
       "      <td>112</td>\n",
       "      <td>4</td>\n",
       "    </tr>\n",
       "    <tr>\n",
       "      <th>1</th>\n",
       "      <td>122</td>\n",
       "      <td>NaN</td>\n",
       "      <td>NaN</td>\n",
       "      <td>1</td>\n",
       "      <td>NaN</td>\n",
       "      <td>14</td>\n",
       "      <td>199</td>\n",
       "      <td>NaN</td>\n",
       "      <td>1</td>\n",
       "      <td>1</td>\n",
       "      <td>...</td>\n",
       "      <td>6</td>\n",
       "      <td>NaN</td>\n",
       "      <td>1</td>\n",
       "      <td>NaN</td>\n",
       "      <td>NaN</td>\n",
       "      <td>NaN</td>\n",
       "      <td>NaN</td>\n",
       "      <td>NaN</td>\n",
       "      <td>18</td>\n",
       "      <td>NaN</td>\n",
       "    </tr>\n",
       "  </tbody>\n",
       "</table>\n",
       "<p>2 rows × 43967 columns</p>\n",
       "</div>"
      ],
      "text/plain": [
       "      !   !)  !);   !*   !;   !»    \"   \"\" \"''s  \"'• ...    •   •' •—   ••  \\\n",
       "0  1692   39    4  NaN   11  119  848    7  NaN  NaN ...   63    6  5   23   \n",
       "1   122  NaN  NaN    1  NaN   14  199  NaN    1    1 ...    6  NaN  1  NaN   \n",
       "\n",
       "   ••• •••• •••••    €    ™   ™™  \n",
       "0    5    7     5    4  112    4  \n",
       "1  NaN  NaN   NaN  NaN   18  NaN  \n",
       "\n",
       "[2 rows x 43967 columns]"
      ]
     },
     "execution_count": 73,
     "metadata": {},
     "output_type": "execute_result"
    }
   ],
   "source": [
    "merge"
   ]
  },
  {
   "cell_type": "code",
   "execution_count": null,
   "metadata": {
    "collapsed": true
   },
   "outputs": [],
   "source": []
  }
 ],
 "metadata": {
  "anaconda-cloud": {},
  "kernelspec": {
   "display_name": "Python [conda root]",
   "language": "python",
   "name": "conda-root-py"
  }
 },
 "nbformat": 4,
 "nbformat_minor": 2
}
